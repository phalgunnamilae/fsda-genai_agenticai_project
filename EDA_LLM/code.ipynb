{
 "cells": [
  {
   "cell_type": "code",
   "execution_count": 4,
   "id": "e426a070",
   "metadata": {},
   "outputs": [],
   "source": [
    "import pandas as pd\n",
    "import seaborn as sns\n",
    "import matplotlib.pyplot as plt\n",
    "import numpy as np\n"
   ]
  },
  {
   "cell_type": "code",
   "execution_count": 5,
   "id": "a5935777",
   "metadata": {},
   "outputs": [],
   "source": [
    "titanic_data = pd.read_csv(r\"C:\\Users\\Kumar\\FSDS-AIML\\fsds_genai_agenticai\\titanic_ dataset_final.csv\")"
   ]
  },
  {
   "cell_type": "code",
   "execution_count": 6,
   "id": "aecd6e89",
   "metadata": {},
   "outputs": [
    {
     "data": {
      "text/plain": [
       "(891, 12)"
      ]
     },
     "execution_count": 6,
     "metadata": {},
     "output_type": "execute_result"
    }
   ],
   "source": [
    "titanic_data.shape"
   ]
  },
  {
   "cell_type": "code",
   "execution_count": 6,
   "id": "97100746",
   "metadata": {},
   "outputs": [
    {
     "name": "stdout",
     "output_type": "stream",
     "text": [
      "<class 'pandas.core.frame.DataFrame'>\n",
      "RangeIndex: 891 entries, 0 to 890\n",
      "Data columns (total 12 columns):\n",
      " #   Column       Non-Null Count  Dtype  \n",
      "---  ------       --------------  -----  \n",
      " 0   PassengerId  891 non-null    int64  \n",
      " 1   Survived     891 non-null    int64  \n",
      " 2   Pclass       891 non-null    int64  \n",
      " 3   Name         891 non-null    object \n",
      " 4   Sex          891 non-null    object \n",
      " 5   Age          714 non-null    float64\n",
      " 6   SibSp        891 non-null    int64  \n",
      " 7   Parch        891 non-null    int64  \n",
      " 8   Ticket       891 non-null    object \n",
      " 9   Fare         891 non-null    float64\n",
      " 10  Cabin        204 non-null    object \n",
      " 11  Embarked     889 non-null    object \n",
      "dtypes: float64(2), int64(5), object(5)\n",
      "memory usage: 83.7+ KB\n"
     ]
    }
   ],
   "source": [
    "titanic_data.info()"
   ]
  },
  {
   "cell_type": "code",
   "execution_count": 7,
   "id": "e21f92d3",
   "metadata": {},
   "outputs": [
    {
     "data": {
      "text/plain": [
       "np.int64(177)"
      ]
     },
     "execution_count": 7,
     "metadata": {},
     "output_type": "execute_result"
    }
   ],
   "source": [
    "titanic_data['Age'].isnull().sum()"
   ]
  },
  {
   "cell_type": "code",
   "execution_count": 8,
   "id": "a2fbc5e9",
   "metadata": {},
   "outputs": [
    {
     "data": {
      "text/plain": [
       "Index(['PassengerId', 'Survived', 'Pclass', 'Name', 'Sex', 'Age', 'SibSp',\n",
       "       'Parch', 'Ticket', 'Fare', 'Cabin', 'Embarked'],\n",
       "      dtype='object')"
      ]
     },
     "execution_count": 8,
     "metadata": {},
     "output_type": "execute_result"
    }
   ],
   "source": [
    "titanic_data.columns"
   ]
  },
  {
   "cell_type": "code",
   "execution_count": 10,
   "id": "e08469e2",
   "metadata": {},
   "outputs": [
    {
     "name": "stdout",
     "output_type": "stream",
     "text": [
      "\n",
      " AI generated data Based on the provided dataset summary, here are some key insights:\n",
      "\n",
      "1. **Passenger Distribution**: The dataset contains a total of 891 passengers, with an almost equal distribution between male and female (0.383838). This suggests that the data is representative of a diverse group of people.\n",
      "\n",
      "2. **Class Distribution**: The Pclass column shows the social class of each passenger, ranging from 1st to 3rd class. The mean Pclass value is 2.308642, indicating that most passengers are in the middle-class category.\n",
      "\n",
      "3. **Age Distribution**: The age range of passengers varies significantly, with a minimum of 0.420000 and a maximum of 80.000000. The mean age is 29.699118, suggesting that most passengers were adults during their voyage. However, some passengers were very young (e.g., 0.420000) or elderly.\n",
      "\n",
      "4. **Family Structure**: The SibSp and Parch columns represent the number of siblings and parent children, respectively. Most passengers do not have any family members on board. This could indicate that many passengers traveled alone or had no dependents.\n",
      "\n",
      "5. **Fare Distribution**: The Fare column shows a wide range of prices, from $0 to $512.329200. However, the mean fare is significantly lower (14.454200), indicating that most passengers were not paying high fares for their tickets. This suggests that there might be some outliers or anomalies in the data.\n",
      "\n",
      "6. **Survival Rate**: The Survived column indicates whether each passenger survived the shipwreck or not. The survival rate is 38.383838%, which means that approximately 1 in 3 passengers did not survive.\n",
      "\n",
      "7. **Age and Survival**: There seems to be a correlation between age and survival. Passengers who were older (above 30 years) had a higher chance of survival, while younger passengers were more likely to perish.\n",
      "\n",
      "8. **Class and Survival**: There is no significant difference in the survival rate across different classes. However, first-class passengers did have a slightly higher chance of survival compared to third-class passengers.\n",
      "\n",
      "These insights provide a general overview of the dataset's characteristics, but further analysis would be necessary to uncover more specific patterns and relationships within the data.\n"
     ]
    }
   ],
   "source": [
    "import ollama\n",
    "def generate_insights(titanic_data):\n",
    "    prompt = f\"Analyze the dataset summary and provide the insights : \\n\\n{titanic_data}\"\n",
    "    response = ollama.chat(model=\"llama3.2:3b\", messages=[{\"role\":\"user\", \"content\" : prompt}])\n",
    "    return response['message']['content']\n",
    "\n",
    "summary = titanic_data.describe().to_string()\n",
    "insights = generate_insights(summary)\n",
    "print(\"\\n AI generated data\",insights)"
   ]
  },
  {
   "cell_type": "code",
   "execution_count": 12,
   "id": "c78ead2d",
   "metadata": {},
   "outputs": [
    {
     "data": {
      "text/plain": [
       "'       PassengerId    Survived      Pclass         Age       SibSp       Parch        Fare\\ncount   891.000000  891.000000  891.000000  714.000000  891.000000  891.000000  891.000000\\nmean    446.000000    0.383838    2.308642   29.699118    0.523008    0.381594   32.204208\\nstd     257.353842    0.486592    0.836071   14.526497    1.102743    0.806057   49.693429\\nmin       1.000000    0.000000    1.000000    0.420000    0.000000    0.000000    0.000000\\n25%     223.500000    0.000000    2.000000   20.125000    0.000000    0.000000    7.910400\\n50%     446.000000    0.000000    3.000000   28.000000    0.000000    0.000000   14.454200\\n75%     668.500000    1.000000    3.000000   38.000000    1.000000    0.000000   31.000000\\nmax     891.000000    1.000000    3.000000   80.000000    8.000000    6.000000  512.329200'"
      ]
     },
     "execution_count": 12,
     "metadata": {},
     "output_type": "execute_result"
    }
   ],
   "source": [
    "titanic_data.describe().to_string()"
   ]
  },
  {
   "cell_type": "code",
   "execution_count": null,
   "id": "874927ea",
   "metadata": {},
   "outputs": [],
   "source": []
  }
 ],
 "metadata": {
  "kernelspec": {
   "display_name": "Python 3",
   "language": "python",
   "name": "python3"
  },
  "language_info": {
   "codemirror_mode": {
    "name": "ipython",
    "version": 3
   },
   "file_extension": ".py",
   "mimetype": "text/x-python",
   "name": "python",
   "nbconvert_exporter": "python",
   "pygments_lexer": "ipython3",
   "version": "3.13.2"
  }
 },
 "nbformat": 4,
 "nbformat_minor": 5
}
