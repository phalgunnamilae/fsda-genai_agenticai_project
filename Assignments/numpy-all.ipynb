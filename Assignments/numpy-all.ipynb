{
 "cells": [
  {
   "cell_type": "code",
   "execution_count": 1,
   "id": "3c01d271-9a1d-429e-ba33-2c129d1231f8",
   "metadata": {},
   "outputs": [],
   "source": [
    "import numpy as np"
   ]
  },
  {
   "cell_type": "code",
   "execution_count": null,
   "id": "82fd8bad-6ab8-46ed-921f-a4923c37dc39",
   "metadata": {},
   "outputs": [
    {
     "data": {
      "text/plain": [
       "array([1, 2, 6, 4, 3, 9])"
      ]
     },
     "execution_count": 3,
     "metadata": {},
     "output_type": "execute_result"
    }
   ],
   "source": [
    "np.array([1,2,6,4,3,9]) #1D array"
   ]
  },
  {
   "cell_type": "code",
   "execution_count": 4,
   "id": "f1802271-222d-4243-a438-4472ee6a90ec",
   "metadata": {},
   "outputs": [
    {
     "data": {
      "text/plain": [
       "array([43, 21, 32, 12, 45, 24])"
      ]
     },
     "execution_count": 4,
     "metadata": {},
     "output_type": "execute_result"
    }
   ],
   "source": [
    "a = np.array([43,21,32,12,45,24]) # Vector : is a 1D array which holds the numerical values to perform vectorized operations such as add,mul,sub etc\n",
    "a"
   ]
  },
  {
   "cell_type": "code",
   "execution_count": 5,
   "id": "13b8021a-a297-4b76-b75e-27f4cfda32be",
   "metadata": {},
   "outputs": [
    {
     "data": {
      "text/plain": [
       "numpy.ndarray"
      ]
     },
     "execution_count": 5,
     "metadata": {},
     "output_type": "execute_result"
    }
   ],
   "source": [
    "type(a)"
   ]
  },
  {
   "cell_type": "code",
   "execution_count": 3,
   "id": "f5079dc9-ca99-4c24-8ddb-fb3c3e43e418",
   "metadata": {},
   "outputs": [
    {
     "data": {
      "text/plain": [
       "2"
      ]
     },
     "execution_count": 3,
     "metadata": {},
     "output_type": "execute_result"
    }
   ],
   "source": [
    "b = np.array([[1,2,6,4,3,9], [43,21,32,12,45,24]], dtype=float)  #2D array\n",
    "b\n",
    "b.ndim"
   ]
  },
  {
   "cell_type": "code",
   "execution_count": null,
   "id": "59e1c7f7-02e0-4370-975f-75d9b92d25f1",
   "metadata": {},
   "outputs": [
    {
     "data": {
      "text/plain": [
       "numpy.ndarray"
      ]
     },
     "execution_count": 10,
     "metadata": {},
     "output_type": "execute_result"
    }
   ],
   "source": [
    "type(b)\n"
   ]
  },
  {
   "cell_type": "code",
   "execution_count": 11,
   "id": "44b3bbe4-e25a-461a-ab43-25248611667a",
   "metadata": {},
   "outputs": [
    {
     "data": {
      "text/plain": [
       "array([[ 1,  2,  6,  4,  3,  9],\n",
       "       [43, 21, 32, 12, 45, 24],\n",
       "       [ 6,  4,  6, 32, 54, 21]])"
      ]
     },
     "execution_count": 11,
     "metadata": {},
     "output_type": "execute_result"
    }
   ],
   "source": [
    "c = np.array([[1,2,6,4,3,9], [43,21,32,12,45,24], [6,4,6,32,54,21]]) # 3D array\n",
    "c"
   ]
  },
  {
   "cell_type": "code",
   "execution_count": 12,
   "id": "1be828eb-5183-43d4-9b8f-a81540cc7c49",
   "metadata": {},
   "outputs": [
    {
     "data": {
      "text/plain": [
       "array([43, 21, 32, 12, 45, 24])"
      ]
     },
     "execution_count": 12,
     "metadata": {},
     "output_type": "execute_result"
    }
   ],
   "source": [
    "a"
   ]
  },
  {
   "cell_type": "code",
   "execution_count": 16,
   "id": "20c492c8-c946-4896-adde-1cf4489a4c95",
   "metadata": {},
   "outputs": [
    {
     "data": {
      "text/plain": [
       "array([1., 2., 5., 3.])"
      ]
     },
     "execution_count": 16,
     "metadata": {},
     "output_type": "execute_result"
    }
   ],
   "source": [
    "d = np.array([1,2,5,3], dtype=float) # dtype, i.e. desired type to store the type the float objects . Bydefault minimum size required to store the elements will be use\n",
    "d"
   ]
  },
  {
   "cell_type": "code",
   "execution_count": 18,
   "id": "0f0f6a82-3a77-486f-82f0-a574a73301ce",
   "metadata": {},
   "outputs": [
    {
     "data": {
      "text/plain": [
       "array([ True,  True,  True,  True,  True, False, False])"
      ]
     },
     "execution_count": 18,
     "metadata": {},
     "output_type": "execute_result"
    }
   ],
   "source": [
    "e = np.array([1,2,3,4,5,0,0], dtype=bool) # dtype with boolean \n",
    "e"
   ]
  },
  {
   "cell_type": "code",
   "execution_count": 20,
   "id": "48a56f0f-9876-4e6f-928d-984c2a70c13e",
   "metadata": {},
   "outputs": [
    {
     "data": {
      "text/plain": [
       "array([1.+0.j, 2.+0.j, 5.+0.j, 3.+0.j])"
      ]
     },
     "execution_count": 20,
     "metadata": {},
     "output_type": "execute_result"
    }
   ],
   "source": [
    "d = np.array([1,2,5,3],dtype=complex)\n",
    "d"
   ]
  },
  {
   "cell_type": "code",
   "execution_count": 21,
   "id": "c7d93f22-2ce4-4c05-a3a7-572d7d19b15a",
   "metadata": {},
   "outputs": [
    {
     "data": {
      "text/plain": [
       "array([43, 21, 32, 12, 45, 24])"
      ]
     },
     "execution_count": 21,
     "metadata": {},
     "output_type": "execute_result"
    }
   ],
   "source": [
    "a"
   ]
  },
  {
   "cell_type": "code",
   "execution_count": 22,
   "id": "e1de09ba-13b9-449a-ab9f-3aebe77030a6",
   "metadata": {},
   "outputs": [
    {
     "data": {
      "text/plain": [
       "1453977036688"
      ]
     },
     "execution_count": 22,
     "metadata": {},
     "output_type": "execute_result"
    }
   ],
   "source": [
    "id(a)"
   ]
  },
  {
   "cell_type": "code",
   "execution_count": 23,
   "id": "a049beec-5987-4851-9f18-3bcd3b98c49f",
   "metadata": {},
   "outputs": [
    {
     "data": {
      "text/plain": [
       "array([43, 21, 32, 12, 45, 24, 32])"
      ]
     },
     "execution_count": 23,
     "metadata": {},
     "output_type": "execute_result"
    }
   ],
   "source": [
    "a = np.array([43, 21, 32, 12, 45, 24,32])\n",
    "a"
   ]
  },
  {
   "cell_type": "code",
   "execution_count": 24,
   "id": "24c2be46-99b5-4dfb-8b07-399f2edc5f9a",
   "metadata": {},
   "outputs": [
    {
     "data": {
      "text/plain": [
       "1454033559568"
      ]
     },
     "execution_count": 24,
     "metadata": {},
     "output_type": "execute_result"
    }
   ],
   "source": [
    "id(a)"
   ]
  },
  {
   "cell_type": "code",
   "execution_count": 25,
   "id": "63bc65bb-bca3-4d80-ab7a-b125fb31b45f",
   "metadata": {},
   "outputs": [
    {
     "data": {
      "text/plain": [
       "array([43. , 21.9, 32. , 12. , 45. , 24. , 32. ])"
      ]
     },
     "execution_count": 25,
     "metadata": {},
     "output_type": "execute_result"
    }
   ],
   "source": [
    "a = np.array([43, 21.9, 32, 12, 45, 24,32])\n",
    "a"
   ]
  },
  {
   "cell_type": "code",
   "execution_count": 26,
   "id": "60f9e517-3618-4558-846f-b6a763313f8c",
   "metadata": {},
   "outputs": [],
   "source": [
    "a = np.array([43, 21.9, 32, 12, 45, 24,32, True])"
   ]
  },
  {
   "cell_type": "code",
   "execution_count": 27,
   "id": "13949120-e755-429a-836c-9ac52ca28225",
   "metadata": {},
   "outputs": [
    {
     "data": {
      "text/plain": [
       "array([43. , 21.9, 32. , 12. , 45. , 24. , 32. ,  1. ])"
      ]
     },
     "execution_count": 27,
     "metadata": {},
     "output_type": "execute_result"
    }
   ],
   "source": [
    "a"
   ]
  },
  {
   "cell_type": "code",
   "execution_count": 28,
   "id": "720df230-d1e7-491c-8137-ecb75787c9f1",
   "metadata": {},
   "outputs": [],
   "source": [
    "a = np.array([43, 21.9, 32, 12, 45, 24,32, True,1+9j])"
   ]
  },
  {
   "cell_type": "code",
   "execution_count": 29,
   "id": "1e3b006c-defc-40b2-8fbe-5f69570fc573",
   "metadata": {},
   "outputs": [
    {
     "data": {
      "text/plain": [
       "array([43. +0.j, 21.9+0.j, 32. +0.j, 12. +0.j, 45. +0.j, 24. +0.j,\n",
       "       32. +0.j,  1. +0.j,  1. +9.j])"
      ]
     },
     "execution_count": 29,
     "metadata": {},
     "output_type": "execute_result"
    }
   ],
   "source": [
    "a"
   ]
  },
  {
   "cell_type": "code",
   "execution_count": 30,
   "id": "3e368d4b-730b-4af8-8148-68af557d6468",
   "metadata": {},
   "outputs": [
    {
     "data": {
      "text/plain": [
       "array([0, 1, 2, 3])"
      ]
     },
     "execution_count": 30,
     "metadata": {},
     "output_type": "execute_result"
    }
   ],
   "source": [
    "np.arange(4) "
   ]
  },
  {
   "cell_type": "code",
   "execution_count": 31,
   "id": "e3019424-d973-4972-8f9f-c1cbf80825a5",
   "metadata": {},
   "outputs": [
    {
     "data": {
      "text/plain": [
       "array([10, 11, 12, 13, 14, 15, 16, 17, 18, 19])"
      ]
     },
     "execution_count": 31,
     "metadata": {},
     "output_type": "execute_result"
    }
   ],
   "source": [
    "np.arange(10,20) #start index, end index"
   ]
  },
  {
   "cell_type": "code",
   "execution_count": 44,
   "id": "bc0f2a74-624a-4753-b841-ddbcb086fb1d",
   "metadata": {},
   "outputs": [
    {
     "data": {
      "text/plain": [
       "array([10, 20, 30, 40, 50, 60, 70, 80, 90])"
      ]
     },
     "execution_count": 44,
     "metadata": {},
     "output_type": "execute_result"
    }
   ],
   "source": [
    "np.arange(10,100,10) # start index, end index, step"
   ]
  },
  {
   "cell_type": "code",
   "execution_count": 34,
   "id": "47923836-8bb1-4d77-9543-b529044393dd",
   "metadata": {},
   "outputs": [],
   "source": [
    "ar1 = np.arange(4) "
   ]
  },
  {
   "cell_type": "code",
   "execution_count": 35,
   "id": "5e1e2abe-2d26-4911-b029-bcfc73210353",
   "metadata": {},
   "outputs": [
    {
     "data": {
      "text/plain": [
       "array([0, 1, 2, 3])"
      ]
     },
     "execution_count": 35,
     "metadata": {},
     "output_type": "execute_result"
    }
   ],
   "source": [
    "ar1"
   ]
  },
  {
   "cell_type": "code",
   "execution_count": 40,
   "id": "ad212198-c394-420c-a303-cd746ca4b877",
   "metadata": {},
   "outputs": [
    {
     "data": {
      "text/plain": [
       "array([[0, 1],\n",
       "       [2, 3]])"
      ]
     },
     "execution_count": 40,
     "metadata": {},
     "output_type": "execute_result"
    }
   ],
   "source": [
    "ar1.reshape((2,2)) # reshape the elements of ar1. The number of elements to be reshaped should be same of reshape params"
   ]
  },
  {
   "cell_type": "code",
   "execution_count": 4,
   "id": "b39d8532-4478-418c-a04b-d61202fe9582",
   "metadata": {},
   "outputs": [
    {
     "data": {
      "text/plain": [
       "array([0, 0, 0, 0, 0, 0, 0, 0, 0, 0])"
      ]
     },
     "execution_count": 4,
     "metadata": {},
     "output_type": "execute_result"
    }
   ],
   "source": [
    "z = np.zeros(10,dtype=int)\n",
    "z"
   ]
  },
  {
   "cell_type": "code",
   "execution_count": 45,
   "id": "d9b89e1e-7852-405e-ac43-26fc9214c385",
   "metadata": {},
   "outputs": [
    {
     "data": {
      "text/plain": [
       "array([[0., 0., 0., 0., 0., 0., 0., 0., 0., 0.],\n",
       "       [0., 0., 0., 0., 0., 0., 0., 0., 0., 0.],\n",
       "       [0., 0., 0., 0., 0., 0., 0., 0., 0., 0.],\n",
       "       [0., 0., 0., 0., 0., 0., 0., 0., 0., 0.],\n",
       "       [0., 0., 0., 0., 0., 0., 0., 0., 0., 0.]])"
      ]
     },
     "execution_count": 45,
     "metadata": {},
     "output_type": "execute_result"
    }
   ],
   "source": [
    "np.zeros((5,10)) # by default it takes the float values."
   ]
  },
  {
   "cell_type": "code",
   "execution_count": 46,
   "id": "b68454cf-5fe1-436f-a5da-c0694f2dd45c",
   "metadata": {},
   "outputs": [
    {
     "data": {
      "text/plain": [
       "array([[0, 0, 0, 0, 0, 0, 0, 0, 0, 0],\n",
       "       [0, 0, 0, 0, 0, 0, 0, 0, 0, 0],\n",
       "       [0, 0, 0, 0, 0, 0, 0, 0, 0, 0],\n",
       "       [0, 0, 0, 0, 0, 0, 0, 0, 0, 0],\n",
       "       [0, 0, 0, 0, 0, 0, 0, 0, 0, 0]])"
      ]
     },
     "execution_count": 46,
     "metadata": {},
     "output_type": "execute_result"
    }
   ],
   "source": [
    "np.zeros((5,10), dtype=int) # hyper parameter tuning, which is changing the default dtype"
   ]
  },
  {
   "cell_type": "code",
   "execution_count": null,
   "id": "c5164af6-407a-4126-9616-bd91e0a1017d",
   "metadata": {},
   "outputs": [
    {
     "data": {
      "text/plain": [
       "array([[0., 0., 0., 0., 0.],\n",
       "       [0., 0., 0., 0., 0.]])"
      ]
     },
     "execution_count": 47,
     "metadata": {},
     "output_type": "execute_result"
    }
   ],
   "source": [
    "z.reshape(2,5) # reshapes the matrix to 2*5"
   ]
  },
  {
   "cell_type": "code",
   "execution_count": 8,
   "id": "03730bc3-71d9-49e2-8bbe-92d92ba822ab",
   "metadata": {},
   "outputs": [
    {
     "data": {
      "text/plain": [
       "array([0.91998483, 0.26208661, 0.76672356, 0.33632248])"
      ]
     },
     "execution_count": 8,
     "metadata": {},
     "output_type": "execute_result"
    }
   ],
   "source": [
    "np.random.rand(4)"
   ]
  },
  {
   "cell_type": "code",
   "execution_count": 6,
   "id": "87bc74bc-450d-4ab8-836e-83fa05b7a403",
   "metadata": {},
   "outputs": [
    {
     "data": {
      "text/plain": [
       "array([[0.8662266 , 0.83040682],\n",
       "       [0.81082411, 0.2405945 ]])"
      ]
     },
     "execution_count": 6,
     "metadata": {},
     "output_type": "execute_result"
    }
   ],
   "source": [
    "np.random.rand(4).reshape(2,2)"
   ]
  },
  {
   "cell_type": "code",
   "execution_count": 7,
   "id": "e2b2e1df-015f-40e4-8f1e-3aa8dd178391",
   "metadata": {},
   "outputs": [
    {
     "data": {
      "text/plain": [
       "2"
      ]
     },
     "execution_count": 7,
     "metadata": {},
     "output_type": "execute_result"
    }
   ],
   "source": [
    "np.random.randint(10) # returns the random value between 0 to 10. excludes 10"
   ]
  },
  {
   "cell_type": "code",
   "execution_count": 52,
   "id": "9d9975f0-0f02-4d52-90fb-abe720ee169c",
   "metadata": {},
   "outputs": [
    {
     "data": {
      "text/plain": [
       "39"
      ]
     },
     "execution_count": 52,
     "metadata": {},
     "output_type": "execute_result"
    }
   ],
   "source": [
    "np.random.randint(10,100) #returns the random value between 10 to 100. excludes 100"
   ]
  },
  {
   "cell_type": "code",
   "execution_count": 53,
   "id": "55a023eb-43c7-41cb-b97a-476a9bf84e02",
   "metadata": {},
   "outputs": [
    {
     "data": {
      "text/plain": [
       "array([10.        , 10.20408163, 10.40816327, 10.6122449 , 10.81632653,\n",
       "       11.02040816, 11.2244898 , 11.42857143, 11.63265306, 11.83673469,\n",
       "       12.04081633, 12.24489796, 12.44897959, 12.65306122, 12.85714286,\n",
       "       13.06122449, 13.26530612, 13.46938776, 13.67346939, 13.87755102,\n",
       "       14.08163265, 14.28571429, 14.48979592, 14.69387755, 14.89795918,\n",
       "       15.10204082, 15.30612245, 15.51020408, 15.71428571, 15.91836735,\n",
       "       16.12244898, 16.32653061, 16.53061224, 16.73469388, 16.93877551,\n",
       "       17.14285714, 17.34693878, 17.55102041, 17.75510204, 17.95918367,\n",
       "       18.16326531, 18.36734694, 18.57142857, 18.7755102 , 18.97959184,\n",
       "       19.18367347, 19.3877551 , 19.59183673, 19.79591837, 20.        ])"
      ]
     },
     "execution_count": 53,
     "metadata": {},
     "output_type": "execute_result"
    }
   ],
   "source": [
    "np.linspace(10,20) # linearly spacing, which is linearly separable with in the limt. "
   ]
  },
  {
   "cell_type": "code",
   "execution_count": 55,
   "id": "490ddb3b-1715-4cd3-a80a-f97ebc580b23",
   "metadata": {},
   "outputs": [
    {
     "data": {
      "text/plain": [
       "array([10.        , 11.11111111, 12.22222222, 13.33333333, 14.44444444,\n",
       "       15.55555556, 16.66666667, 17.77777778, 18.88888889, 20.        ])"
      ]
     },
     "execution_count": 55,
     "metadata": {},
     "output_type": "execute_result"
    }
   ],
   "source": [
    "np.linspace(10,20,10) #linearly spacing, which is linearly separable with in the limt with given number of elements in 3rd param. "
   ]
  },
  {
   "cell_type": "code",
   "execution_count": 59,
   "id": "bf42db73-2bbf-41ad-9be6-0100d380f838",
   "metadata": {},
   "outputs": [
    {
     "data": {
      "text/plain": [
       "array([[1, 0, 0, 0],\n",
       "       [0, 1, 0, 0],\n",
       "       [0, 0, 1, 0],\n",
       "       [0, 0, 0, 1]])"
      ]
     },
     "execution_count": 59,
     "metadata": {},
     "output_type": "execute_result"
    }
   ],
   "source": [
    "np.identity(4, dtype=int) # creates the identity matrix which has the 1s diagnolly"
   ]
  },
  {
   "cell_type": "markdown",
   "id": "95a43f2d-97c0-4812-a73d-912d0d7444d1",
   "metadata": {},
   "source": [
    "ndim"
   ]
  },
  {
   "cell_type": "code",
   "execution_count": 63,
   "id": "c3954179-d201-4a7a-9744-47df4acb75f2",
   "metadata": {},
   "outputs": [
    {
     "data": {
      "text/plain": [
       "array([[ 0,  1,  2],\n",
       "       [ 3,  4,  5],\n",
       "       [ 6,  7,  8],\n",
       "       [ 9, 10, 11],\n",
       "       [12, 13, 14],\n",
       "       [15, 16, 17]])"
      ]
     },
     "execution_count": 63,
     "metadata": {},
     "output_type": "execute_result"
    }
   ],
   "source": [
    "a3 = np.arange(18).reshape(6,3)\n",
    "a3"
   ]
  },
  {
   "cell_type": "code",
   "execution_count": 65,
   "id": "57c1a975-a965-4418-8e4f-9af64af4278c",
   "metadata": {},
   "outputs": [
    {
     "data": {
      "text/plain": [
       "2"
      ]
     },
     "execution_count": 65,
     "metadata": {},
     "output_type": "execute_result"
    }
   ],
   "source": [
    "a3.ndim"
   ]
  },
  {
   "cell_type": "code",
   "execution_count": 66,
   "id": "e317a738-48f0-4322-adb4-4e4401d904be",
   "metadata": {},
   "outputs": [
    {
     "data": {
      "text/plain": [
       "array([[[0, 1],\n",
       "        [2, 3]],\n",
       "\n",
       "       [[4, 5],\n",
       "        [6, 7]]])"
      ]
     },
     "execution_count": 66,
     "metadata": {},
     "output_type": "execute_result"
    }
   ],
   "source": [
    "a4 = np.arange(8).reshape(2,2,2)\n",
    "a4"
   ]
  },
  {
   "cell_type": "code",
   "execution_count": 67,
   "id": "da19effb-0caf-4439-9374-6b2f8f13e85e",
   "metadata": {},
   "outputs": [
    {
     "data": {
      "text/plain": [
       "3"
      ]
     },
     "execution_count": 67,
     "metadata": {},
     "output_type": "execute_result"
    }
   ],
   "source": [
    "a4.ndim # returns the dimension of the matriz "
   ]
  },
  {
   "cell_type": "markdown",
   "id": "4a5a2561-68b6-49c5-8f7c-faa2aa86688c",
   "metadata": {},
   "source": [
    "Shape"
   ]
  },
  {
   "cell_type": "code",
   "execution_count": 72,
   "id": "67ac79fc-408d-4b80-b1a9-4afe3035f64e",
   "metadata": {},
   "outputs": [
    {
     "name": "stderr",
     "output_type": "stream",
     "text": [
      "C:\\Users\\Kumar\\AppData\\Local\\Temp\\ipykernel_29080\\3891844621.py:1: ComplexWarning: Casting complex values to real discards the imaginary part\n",
      "  a = np.array(a, dtype=int)\n"
     ]
    }
   ],
   "source": [
    "a = np.array(a, dtype=int)"
   ]
  },
  {
   "cell_type": "code",
   "execution_count": 73,
   "id": "9b71d381-e6db-402e-b4b0-53e9ff1ccc51",
   "metadata": {},
   "outputs": [
    {
     "data": {
      "text/plain": [
       "array([43, 21, 32, 12, 45, 24, 32,  1,  1])"
      ]
     },
     "execution_count": 73,
     "metadata": {},
     "output_type": "execute_result"
    }
   ],
   "source": [
    "a"
   ]
  },
  {
   "cell_type": "code",
   "execution_count": 75,
   "id": "6d731b9e-17f0-4850-9ec2-a04c12991bcd",
   "metadata": {},
   "outputs": [
    {
     "data": {
      "text/plain": [
       "(9,)"
      ]
     },
     "execution_count": 75,
     "metadata": {},
     "output_type": "execute_result"
    }
   ],
   "source": [
    "a.shape # returns the number of rows and columns of the np array"
   ]
  },
  {
   "cell_type": "code",
   "execution_count": 76,
   "id": "2cce9ec8-39fb-40c2-b541-303ebe47046b",
   "metadata": {},
   "outputs": [
    {
     "data": {
      "text/plain": [
       "(6, 3)"
      ]
     },
     "execution_count": 76,
     "metadata": {},
     "output_type": "execute_result"
    }
   ],
   "source": [
    "a3.shape # 6 rows and 3 cols "
   ]
  },
  {
   "cell_type": "code",
   "execution_count": 77,
   "id": "233cfb88-5f3d-43ad-98a2-9cbd1b76347e",
   "metadata": {},
   "outputs": [
    {
     "data": {
      "text/plain": [
       "(2, 2, 2)"
      ]
     },
     "execution_count": 77,
     "metadata": {},
     "output_type": "execute_result"
    }
   ],
   "source": [
    "a4.shape  # it says it consists of 2D arrays with 2 rows and 2 cols"
   ]
  },
  {
   "cell_type": "code",
   "execution_count": 78,
   "id": "c2790473-7553-490d-9d60-2697ca9ec17c",
   "metadata": {},
   "outputs": [
    {
     "data": {
      "text/plain": [
       "18"
      ]
     },
     "execution_count": 78,
     "metadata": {},
     "output_type": "execute_result"
    }
   ],
   "source": [
    "a3.size  # gives the size of ndarray as total elements"
   ]
  },
  {
   "cell_type": "code",
   "execution_count": 79,
   "id": "a87c9a37-2912-44f0-b02e-069916b4dc49",
   "metadata": {},
   "outputs": [
    {
     "data": {
      "text/plain": [
       "4"
      ]
     },
     "execution_count": 79,
     "metadata": {},
     "output_type": "execute_result"
    }
   ],
   "source": [
    "a3.itemsize  # memory size occupied by the array"
   ]
  },
  {
   "cell_type": "code",
   "execution_count": 80,
   "id": "c7598408-184a-400c-b0e6-50f4ea0d3411",
   "metadata": {},
   "outputs": [
    {
     "data": {
      "text/plain": [
       "dtype('int32')"
      ]
     },
     "execution_count": 80,
     "metadata": {},
     "output_type": "execute_result"
    }
   ],
   "source": [
    "a.dtype # gives the data type of the array"
   ]
  },
  {
   "cell_type": "code",
   "execution_count": 81,
   "id": "4e145882-d17d-4514-a294-d97844dbe28a",
   "metadata": {},
   "outputs": [
    {
     "data": {
      "text/plain": [
       "array([[ 0,  1,  2],\n",
       "       [ 3,  4,  5],\n",
       "       [ 6,  7,  8],\n",
       "       [ 9, 10, 11],\n",
       "       [12, 13, 14],\n",
       "       [15, 16, 17]])"
      ]
     },
     "execution_count": 81,
     "metadata": {},
     "output_type": "execute_result"
    }
   ],
   "source": [
    "a3"
   ]
  },
  {
   "cell_type": "code",
   "execution_count": 82,
   "id": "de96cfac-3c15-4a3b-a9fb-786b85a84e8c",
   "metadata": {},
   "outputs": [
    {
     "data": {
      "text/plain": [
       "array([[ 0.,  1.,  2.],\n",
       "       [ 3.,  4.,  5.],\n",
       "       [ 6.,  7.,  8.],\n",
       "       [ 9., 10., 11.],\n",
       "       [12., 13., 14.],\n",
       "       [15., 16., 17.]])"
      ]
     },
     "execution_count": 82,
     "metadata": {},
     "output_type": "execute_result"
    }
   ],
   "source": [
    "a3.astype(float)  # change the data type of the elements of the array"
   ]
  },
  {
   "cell_type": "markdown",
   "id": "93c087b7-d0ee-4acc-a356-470c63a58c86",
   "metadata": {},
   "source": [
    "Array Operations"
   ]
  },
  {
   "cell_type": "code",
   "execution_count": 83,
   "id": "ec145722-8ad2-4945-ae50-29e6d0c9bac4",
   "metadata": {},
   "outputs": [
    {
     "data": {
      "text/plain": [
       "array([[ 0,  1,  2,  3],\n",
       "       [ 4,  5,  6,  7],\n",
       "       [ 8,  9, 10, 11],\n",
       "       [12, 13, 14, 15],\n",
       "       [16, 17, 18, 19]])"
      ]
     },
     "execution_count": 83,
     "metadata": {},
     "output_type": "execute_result"
    }
   ],
   "source": [
    "b1 = np.arange(20).reshape(5,4)\n",
    "b1"
   ]
  },
  {
   "cell_type": "markdown",
   "id": "9fe5f8f9-5360-4b45-848a-938d1d14f7dd",
   "metadata": {},
   "source": [
    "Scalar Operations : such as addition, subtraction, multiplication, division on elements of numpy array"
   ]
  },
  {
   "cell_type": "code",
   "execution_count": 84,
   "id": "e0e43d4c-0aa2-4ac7-b5ff-6116e62858f3",
   "metadata": {},
   "outputs": [
    {
     "data": {
      "text/plain": [
       "array([[ 2,  3,  4,  5],\n",
       "       [ 6,  7,  8,  9],\n",
       "       [10, 11, 12, 13],\n",
       "       [14, 15, 16, 17],\n",
       "       [18, 19, 20, 21]])"
      ]
     },
     "execution_count": 84,
     "metadata": {},
     "output_type": "execute_result"
    }
   ],
   "source": [
    "b1+2 #adds 2 to all the elements of array"
   ]
  },
  {
   "cell_type": "code",
   "execution_count": 85,
   "id": "e8d1aa44-0605-4265-bc72-57ab03bb39d1",
   "metadata": {},
   "outputs": [
    {
     "data": {
      "text/plain": [
       "array([[-2, -1,  0,  1],\n",
       "       [ 2,  3,  4,  5],\n",
       "       [ 6,  7,  8,  9],\n",
       "       [10, 11, 12, 13],\n",
       "       [14, 15, 16, 17]])"
      ]
     },
     "execution_count": 85,
     "metadata": {},
     "output_type": "execute_result"
    }
   ],
   "source": [
    "b1-2  #subtracts 2 to all the elements of array"
   ]
  },
  {
   "cell_type": "code",
   "execution_count": 86,
   "id": "9fd30593-d541-4a93-8a01-eaaf6c006cb5",
   "metadata": {},
   "outputs": [
    {
     "data": {
      "text/plain": [
       "array([[ 0,  3,  6,  9],\n",
       "       [12, 15, 18, 21],\n",
       "       [24, 27, 30, 33],\n",
       "       [36, 39, 42, 45],\n",
       "       [48, 51, 54, 57]])"
      ]
     },
     "execution_count": 86,
     "metadata": {},
     "output_type": "execute_result"
    }
   ],
   "source": [
    "b1*3  #multiplies 2 to all the elements of array"
   ]
  },
  {
   "cell_type": "code",
   "execution_count": 87,
   "id": "bb69b5dc-679f-4fc0-99e2-6e107ab677bb",
   "metadata": {},
   "outputs": [
    {
     "data": {
      "text/plain": [
       "array([[  0,   1,   4,   9],\n",
       "       [ 16,  25,  36,  49],\n",
       "       [ 64,  81, 100, 121],\n",
       "       [144, 169, 196, 225],\n",
       "       [256, 289, 324, 361]])"
      ]
     },
     "execution_count": 87,
     "metadata": {},
     "output_type": "execute_result"
    }
   ],
   "source": [
    "b1**2 # powers all the elements of the array "
   ]
  },
  {
   "cell_type": "code",
   "execution_count": 88,
   "id": "8ff27706-7563-4633-83a7-05644b96164a",
   "metadata": {},
   "outputs": [
    {
     "data": {
      "text/plain": [
       "array([[0, 1, 0, 1],\n",
       "       [0, 1, 0, 1],\n",
       "       [0, 1, 0, 1],\n",
       "       [0, 1, 0, 1],\n",
       "       [0, 1, 0, 1]], dtype=int32)"
      ]
     },
     "execution_count": 88,
     "metadata": {},
     "output_type": "execute_result"
    }
   ],
   "source": [
    "b1%2 # applies modulus to all the elements of array"
   ]
  },
  {
   "cell_type": "code",
   "execution_count": 89,
   "id": "826427ac-344c-42c0-9cb3-ff422da11d80",
   "metadata": {},
   "outputs": [
    {
     "data": {
      "text/plain": [
       "array([[ 0,  1,  2,  3],\n",
       "       [ 4,  5,  6,  7],\n",
       "       [ 8,  9, 10, 11],\n",
       "       [12, 13, 14, 15],\n",
       "       [16, 17, 18, 19]])"
      ]
     },
     "execution_count": 89,
     "metadata": {},
     "output_type": "execute_result"
    }
   ],
   "source": [
    "b1"
   ]
  },
  {
   "cell_type": "code",
   "execution_count": 90,
   "id": "3b526fca-bdb4-4d81-8613-294b8cac9170",
   "metadata": {},
   "outputs": [
    {
     "data": {
      "text/plain": [
       "array([[False,  True,  True,  True],\n",
       "       [ True,  True,  True,  True],\n",
       "       [ True,  True,  True,  True],\n",
       "       [ True,  True,  True,  True],\n",
       "       [ True,  True,  True,  True]])"
      ]
     },
     "execution_count": 90,
     "metadata": {},
     "output_type": "execute_result"
    }
   ],
   "source": [
    "b1.astype(bool)"
   ]
  },
  {
   "cell_type": "code",
   "execution_count": 91,
   "id": "f274fa78-b4b3-480c-afa6-60d307e87b29",
   "metadata": {},
   "outputs": [
    {
     "data": {
      "text/plain": [
       "array([[False, False, False,  True],\n",
       "       [ True,  True,  True,  True],\n",
       "       [ True,  True,  True,  True],\n",
       "       [ True,  True,  True,  True],\n",
       "       [ True,  True,  True,  True]])"
      ]
     },
     "execution_count": 91,
     "metadata": {},
     "output_type": "execute_result"
    }
   ],
   "source": [
    "b1>2"
   ]
  },
  {
   "cell_type": "markdown",
   "id": "25a152ea-df1e-4008-a079-1ebe86a18de1",
   "metadata": {},
   "source": [
    "Vector operations : operations which happen between 2 numpy arrays or lists"
   ]
  },
  {
   "cell_type": "code",
   "execution_count": 92,
   "id": "5c1e6ec1-1ae9-4cc8-ada0-a326379e41c6",
   "metadata": {},
   "outputs": [
    {
     "data": {
      "text/plain": [
       "array([[ 0,  1,  2,  3],\n",
       "       [ 4,  5,  6,  7],\n",
       "       [ 8,  9, 10, 11],\n",
       "       [12, 13, 14, 15],\n",
       "       [16, 17, 18, 19]])"
      ]
     },
     "execution_count": 92,
     "metadata": {},
     "output_type": "execute_result"
    }
   ],
   "source": [
    "b1"
   ]
  },
  {
   "cell_type": "code",
   "execution_count": 94,
   "id": "288a3a55-d38e-48a7-a5e5-538c096e8eab",
   "metadata": {},
   "outputs": [
    {
     "data": {
      "text/plain": [
       "array([[30, 31, 32, 33],\n",
       "       [34, 35, 36, 37],\n",
       "       [38, 39, 40, 41],\n",
       "       [42, 43, 44, 45],\n",
       "       [46, 47, 48, 49]])"
      ]
     },
     "execution_count": 94,
     "metadata": {},
     "output_type": "execute_result"
    }
   ],
   "source": [
    "b2 = np.arange(30,50).reshape(5,4)\n",
    "b2"
   ]
  },
  {
   "cell_type": "code",
   "execution_count": 95,
   "id": "9d10c8e7-7e34-4d4c-88b0-9e48cedf4a45",
   "metadata": {},
   "outputs": [
    {
     "data": {
      "text/plain": [
       "array([[30, 32, 34, 36],\n",
       "       [38, 40, 42, 44],\n",
       "       [46, 48, 50, 52],\n",
       "       [54, 56, 58, 60],\n",
       "       [62, 64, 66, 68]])"
      ]
     },
     "execution_count": 95,
     "metadata": {},
     "output_type": "execute_result"
    }
   ],
   "source": [
    "b3= b1+b2\n",
    "b3"
   ]
  },
  {
   "cell_type": "code",
   "execution_count": 97,
   "id": "cf40fb55-12c2-4f11-a26e-c94b24213cb3",
   "metadata": {},
   "outputs": [
    {
     "data": {
      "text/plain": [
       "array([[-30, -30, -30, -30],\n",
       "       [-30, -30, -30, -30],\n",
       "       [-30, -30, -30, -30],\n",
       "       [-30, -30, -30, -30],\n",
       "       [-30, -30, -30, -30]])"
      ]
     },
     "execution_count": 97,
     "metadata": {},
     "output_type": "execute_result"
    }
   ],
   "source": [
    "b3= b1-b2\n",
    "b3"
   ]
  },
  {
   "cell_type": "code",
   "execution_count": 99,
   "id": "8aecb910-3f4b-47b8-845c-58f0f6e890e4",
   "metadata": {},
   "outputs": [
    {
     "data": {
      "text/plain": [
       "array([[0, 1, 2],\n",
       "       [3, 4, 5],\n",
       "       [6, 7, 8]])"
      ]
     },
     "execution_count": 99,
     "metadata": {},
     "output_type": "execute_result"
    }
   ],
   "source": [
    "b4 = np.arange(9).reshape(3,3)\n",
    "b4"
   ]
  },
  {
   "cell_type": "code",
   "execution_count": 106,
   "id": "ced7b649-82a4-41ea-8109-49f5ccad7b3d",
   "metadata": {},
   "outputs": [
    {
     "data": {
      "text/plain": [
       "array([[0, 1, 2],\n",
       "       [3, 4, 5],\n",
       "       [6, 7, 8]])"
      ]
     },
     "execution_count": 106,
     "metadata": {},
     "output_type": "execute_result"
    }
   ],
   "source": [
    "b5 = np.arange(9).reshape(3,3)\n",
    "b5"
   ]
  },
  {
   "cell_type": "code",
   "execution_count": 107,
   "id": "450def9d-d665-47f6-b296-e733e7715835",
   "metadata": {},
   "outputs": [
    {
     "data": {
      "text/plain": [
       "array([[ 0,  1,  4],\n",
       "       [ 9, 16, 25],\n",
       "       [36, 49, 64]])"
      ]
     },
     "execution_count": 107,
     "metadata": {},
     "output_type": "execute_result"
    }
   ],
   "source": [
    "b4*b5"
   ]
  },
  {
   "cell_type": "markdown",
   "id": "42c014e4-3907-4913-a770-e966501061e6",
   "metadata": {},
   "source": [
    "Array Functions : random, max, min, sum, prod "
   ]
  },
  {
   "cell_type": "code",
   "execution_count": 5,
   "id": "aa0247a0-1323-4054-b1d8-3be821096134",
   "metadata": {},
   "outputs": [
    {
     "data": {
      "text/plain": [
       "array([0.24774503, 0.05982162, 0.42170028, 0.22561495])"
      ]
     },
     "execution_count": 5,
     "metadata": {},
     "output_type": "execute_result"
    }
   ],
   "source": [
    "c1 = np.random.random(4)\n",
    "c1"
   ]
  },
  {
   "cell_type": "code",
   "execution_count": 6,
   "id": "f72467c7-f75e-4950-baa6-068088483ce5",
   "metadata": {},
   "outputs": [
    {
     "data": {
      "text/plain": [
       "array([[24.77450276,  5.98216197],\n",
       "       [42.17002819, 22.56149538]])"
      ]
     },
     "execution_count": 6,
     "metadata": {},
     "output_type": "execute_result"
    }
   ],
   "source": [
    "c2 = (c1*100).reshape(2,2)\n",
    "c2"
   ]
  },
  {
   "cell_type": "code",
   "execution_count": 7,
   "id": "6a9cd361-6cad-45da-9f77-07d4ea70f106",
   "metadata": {},
   "outputs": [
    {
     "data": {
      "text/plain": [
       "True"
      ]
     },
     "execution_count": 7,
     "metadata": {},
     "output_type": "execute_result"
    }
   ],
   "source": [
    "c2.all()"
   ]
  },
  {
   "cell_type": "code",
   "execution_count": 8,
   "id": "b4b5d172-c4ce-43fa-87aa-a0755c17623e",
   "metadata": {},
   "outputs": [
    {
     "data": {
      "text/plain": [
       "42.17002819063034"
      ]
     },
     "execution_count": 8,
     "metadata": {},
     "output_type": "execute_result"
    }
   ],
   "source": [
    "c2.max()"
   ]
  },
  {
   "cell_type": "code",
   "execution_count": 9,
   "id": "6f6f194f-f7f2-4335-8864-afa217566b3a",
   "metadata": {},
   "outputs": [
    {
     "data": {
      "text/plain": [
       "5.982161971068212"
      ]
     },
     "execution_count": 9,
     "metadata": {},
     "output_type": "execute_result"
    }
   ],
   "source": [
    "np.min(c2)"
   ]
  },
  {
   "cell_type": "code",
   "execution_count": 10,
   "id": "15329620-eb26-4b10-8f8a-02cf910977e3",
   "metadata": {},
   "outputs": [
    {
     "data": {
      "text/plain": [
       "95.48818830082749"
      ]
     },
     "execution_count": 10,
     "metadata": {},
     "output_type": "execute_result"
    }
   ],
   "source": [
    "np.sum(c2)"
   ]
  },
  {
   "cell_type": "code",
   "execution_count": 11,
   "id": "c03de03d-88aa-45f4-864f-88c9fa4f3d72",
   "metadata": {},
   "outputs": [
    {
     "data": {
      "text/plain": [
       "141005.12148326304"
      ]
     },
     "execution_count": 11,
     "metadata": {},
     "output_type": "execute_result"
    }
   ],
   "source": [
    "np.prod(c2)"
   ]
  },
  {
   "cell_type": "code",
   "execution_count": 123,
   "id": "b5c9d4bf-7ce0-4a69-b48d-a3563f1c9abd",
   "metadata": {},
   "outputs": [
    {
     "data": {
      "text/plain": [
       "(2, 2)"
      ]
     },
     "execution_count": 123,
     "metadata": {},
     "output_type": "execute_result"
    }
   ],
   "source": [
    "c2.shape"
   ]
  },
  {
   "cell_type": "code",
   "execution_count": 124,
   "id": "c8485f31-9628-4843-80ca-8aeffa574185",
   "metadata": {},
   "outputs": [
    {
     "data": {
      "text/plain": [
       "array([[78.22253708, 97.45485577],\n",
       "       [40.70503741, 69.01974115]])"
      ]
     },
     "execution_count": 124,
     "metadata": {},
     "output_type": "execute_result"
    }
   ],
   "source": [
    "c2"
   ]
  },
  {
   "cell_type": "code",
   "execution_count": 128,
   "id": "8cd88cb1-c977-45d1-9481-eec6cc697eb2",
   "metadata": {},
   "outputs": [
    {
     "data": {
      "text/plain": [
       "array([97.45485577, 69.01974115])"
      ]
     },
     "execution_count": 128,
     "metadata": {},
     "output_type": "execute_result"
    }
   ],
   "source": [
    "np.max(c2, axis=1) # to get the max value of each row"
   ]
  },
  {
   "cell_type": "code",
   "execution_count": 129,
   "id": "ce8214a5-8992-4320-aad0-2b9315a52f71",
   "metadata": {},
   "outputs": [
    {
     "data": {
      "text/plain": [
       "array([78.22253708, 97.45485577])"
      ]
     },
     "execution_count": 129,
     "metadata": {},
     "output_type": "execute_result"
    }
   ],
   "source": [
    "np.max(c2, axis=0) # to get the max of each column"
   ]
  },
  {
   "cell_type": "code",
   "execution_count": 130,
   "id": "8463af01-b40b-4c1c-bcc6-418332a05aa6",
   "metadata": {},
   "outputs": [
    {
     "data": {
      "text/plain": [
       "array([78.22253708, 40.70503741])"
      ]
     },
     "execution_count": 130,
     "metadata": {},
     "output_type": "execute_result"
    }
   ],
   "source": [
    "np.min(c2, axis = 1) # to get the min of each row"
   ]
  },
  {
   "cell_type": "code",
   "execution_count": 131,
   "id": "71cb3a34-007b-4553-9ee6-a0b04d243998",
   "metadata": {},
   "outputs": [
    {
     "data": {
      "text/plain": [
       "array([40.70503741, 69.01974115])"
      ]
     },
     "execution_count": 131,
     "metadata": {},
     "output_type": "execute_result"
    }
   ],
   "source": [
    "np.min(c2, axis=0) #to get the min value of each column"
   ]
  },
  {
   "cell_type": "code",
   "execution_count": 132,
   "id": "9755e48f-8136-4874-b335-3e4399e0d952",
   "metadata": {},
   "outputs": [
    {
     "data": {
      "text/plain": [
       "array([175.67739285, 109.72477856])"
      ]
     },
     "execution_count": 132,
     "metadata": {},
     "output_type": "execute_result"
    }
   ],
   "source": [
    "np.sum(c2,axis=1) # to get the sum of each row"
   ]
  },
  {
   "cell_type": "code",
   "execution_count": 133,
   "id": "9e55f5e6-8767-46b2-8eef-9ff85db3e219",
   "metadata": {},
   "outputs": [
    {
     "data": {
      "text/plain": [
       "array([118.92757449, 166.47459693])"
      ]
     },
     "execution_count": 133,
     "metadata": {},
     "output_type": "execute_result"
    }
   ],
   "source": [
    "np.sum(c2,axis=0) #to get the sum of each column"
   ]
  },
  {
   "cell_type": "markdown",
   "id": "3230e372-21af-4916-9b68-72fc18b750a0",
   "metadata": {},
   "source": [
    "Statistics Related functions : mean, median, standard deviation"
   ]
  },
  {
   "cell_type": "code",
   "execution_count": 135,
   "id": "37c26123-3571-4c29-a3c9-6fb39108be99",
   "metadata": {},
   "outputs": [
    {
     "data": {
      "text/plain": [
       "array([[78.22253708, 97.45485577],\n",
       "       [40.70503741, 69.01974115]])"
      ]
     },
     "execution_count": 135,
     "metadata": {},
     "output_type": "execute_result"
    }
   ],
   "source": [
    "c2"
   ]
  },
  {
   "cell_type": "code",
   "execution_count": 136,
   "id": "940538c1-a94f-4950-8d90-8cef743e772a",
   "metadata": {},
   "outputs": [
    {
     "data": {
      "text/plain": [
       "71.3505428536467"
      ]
     },
     "execution_count": 136,
     "metadata": {},
     "output_type": "execute_result"
    }
   ],
   "source": [
    "np.mean(c2) #calculates the mean of c2"
   ]
  },
  {
   "cell_type": "code",
   "execution_count": 137,
   "id": "b3bc14ae-52d0-48bc-bc22-d91fa4e45f4b",
   "metadata": {},
   "outputs": [
    {
     "data": {
      "text/plain": [
       "array([59.46378724, 83.23729846])"
      ]
     },
     "execution_count": 137,
     "metadata": {},
     "output_type": "execute_result"
    }
   ],
   "source": [
    "np.mean(c2, axis=0) #calculates the mean of each column"
   ]
  },
  {
   "cell_type": "code",
   "execution_count": 138,
   "id": "4f5de1ed-4597-4977-a335-b7bb0fb690ac",
   "metadata": {},
   "outputs": [
    {
     "data": {
      "text/plain": [
       "array([87.83869643, 54.86238928])"
      ]
     },
     "execution_count": 138,
     "metadata": {},
     "output_type": "execute_result"
    }
   ],
   "source": [
    "np.mean(c2, axis=1) # calculates the mean of each row"
   ]
  },
  {
   "cell_type": "code",
   "execution_count": 139,
   "id": "446d08ba-7f2e-4dd1-9642-d6e04ae688a2",
   "metadata": {},
   "outputs": [
    {
     "data": {
      "text/plain": [
       "73.62113911652756"
      ]
     },
     "execution_count": 139,
     "metadata": {},
     "output_type": "execute_result"
    }
   ],
   "source": [
    "np.median(c2)"
   ]
  },
  {
   "cell_type": "code",
   "execution_count": 140,
   "id": "3d0476c7-b768-41fe-bff2-6e6bfa8308f3",
   "metadata": {},
   "outputs": [
    {
     "data": {
      "text/plain": [
       "array([87.83869643, 54.86238928])"
      ]
     },
     "execution_count": 140,
     "metadata": {},
     "output_type": "execute_result"
    }
   ],
   "source": [
    "np.median(c2,axis=1)"
   ]
  },
  {
   "cell_type": "code",
   "execution_count": 141,
   "id": "8ad23377-c05b-4650-a957-897b89c623e2",
   "metadata": {},
   "outputs": [
    {
     "data": {
      "text/plain": [
       "20.45262268158067"
      ]
     },
     "execution_count": 141,
     "metadata": {},
     "output_type": "execute_result"
    }
   ],
   "source": [
    "np.std(c2) #returns the standard deviation"
   ]
  },
  {
   "cell_type": "code",
   "execution_count": 142,
   "id": "70bed1d4-36b5-4b73-bf67-6d666c4d1f5d",
   "metadata": {},
   "outputs": [
    {
     "data": {
      "text/plain": [
       "array([ 9.61615935, 14.15735187])"
      ]
     },
     "execution_count": 142,
     "metadata": {},
     "output_type": "execute_result"
    }
   ],
   "source": [
    "np.std(c2,axis=1)"
   ]
  },
  {
   "cell_type": "code",
   "execution_count": 143,
   "id": "b766fcda-a9dc-47cb-9549-d7f6ed6a3893",
   "metadata": {},
   "outputs": [
    {
     "data": {
      "text/plain": [
       "418.30977455510816"
      ]
     },
     "execution_count": 143,
     "metadata": {},
     "output_type": "execute_result"
    }
   ],
   "source": [
    "np.var(c2) #returns the variance of the matrix"
   ]
  },
  {
   "cell_type": "markdown",
   "id": "7c1d5c2a-970e-48fb-831d-f80234ce1877",
   "metadata": {},
   "source": [
    "Trignometry Functions : sin,cos,tan,dot, exponents, log"
   ]
  },
  {
   "cell_type": "code",
   "execution_count": 145,
   "id": "6d08af63-42ff-4b16-a7e9-16e71aae18d5",
   "metadata": {},
   "outputs": [
    {
     "data": {
      "text/plain": [
       "array([ 0, 30, 45, 90])"
      ]
     },
     "execution_count": 145,
     "metadata": {},
     "output_type": "execute_result"
    }
   ],
   "source": [
    "d1 = np.array([0,30,45,90])\n",
    "d1"
   ]
  },
  {
   "cell_type": "code",
   "execution_count": 146,
   "id": "7664cd83-76f7-4005-8d74-278f1c9d543f",
   "metadata": {},
   "outputs": [
    {
     "data": {
      "text/plain": [
       "array([[ 0, 30],\n",
       "       [45, 90]])"
      ]
     },
     "execution_count": 146,
     "metadata": {},
     "output_type": "execute_result"
    }
   ],
   "source": [
    "d1.reshape(2,2)"
   ]
  },
  {
   "cell_type": "code",
   "execution_count": 147,
   "id": "65638c12-b3ec-4213-a7c6-abce8af5a842",
   "metadata": {},
   "outputs": [
    {
     "data": {
      "text/plain": [
       "array([ 0.        , -0.98803162,  0.85090352,  0.89399666])"
      ]
     },
     "execution_count": 147,
     "metadata": {},
     "output_type": "execute_result"
    }
   ],
   "source": [
    "np.sin(d1)"
   ]
  },
  {
   "cell_type": "code",
   "execution_count": 148,
   "id": "c355b698-3bb6-4882-9b2b-fc56f9eb046a",
   "metadata": {},
   "outputs": [
    {
     "data": {
      "text/plain": [
       "array([ 0.        , -6.4053312 ,  1.61977519, -1.99520041])"
      ]
     },
     "execution_count": 148,
     "metadata": {},
     "output_type": "execute_result"
    }
   ],
   "source": [
    "np.tan(d1)"
   ]
  },
  {
   "cell_type": "code",
   "execution_count": 149,
   "id": "f92f8cf2-a9db-4585-882f-49efc1bf78c0",
   "metadata": {},
   "outputs": [
    {
     "data": {
      "text/plain": [
       "array([ 1.        ,  0.15425145,  0.52532199, -0.44807362])"
      ]
     },
     "execution_count": 149,
     "metadata": {},
     "output_type": "execute_result"
    }
   ],
   "source": [
    "np.cos(d1)"
   ]
  },
  {
   "cell_type": "code",
   "execution_count": 150,
   "id": "d7b36adb-20dd-48bb-bdcd-87581e793202",
   "metadata": {},
   "outputs": [
    {
     "data": {
      "text/plain": [
       "array([[78.22253708, 97.45485577],\n",
       "       [40.70503741, 69.01974115]])"
      ]
     },
     "execution_count": 150,
     "metadata": {},
     "output_type": "execute_result"
    }
   ],
   "source": [
    "c2"
   ]
  },
  {
   "cell_type": "code",
   "execution_count": 151,
   "id": "bdd8f06b-a1c5-4acb-925b-cc39f8e13333",
   "metadata": {},
   "outputs": [
    {
     "data": {
      "text/plain": [
       "array([[78., 97.],\n",
       "       [41., 69.]])"
      ]
     },
     "execution_count": 151,
     "metadata": {},
     "output_type": "execute_result"
    }
   ],
   "source": [
    "np.round(c2)"
   ]
  },
  {
   "cell_type": "code",
   "execution_count": 152,
   "id": "e11ec81d-b8de-4785-a93f-40ea307b708f",
   "metadata": {},
   "outputs": [
    {
     "data": {
      "text/plain": [
       "array([[79., 98.],\n",
       "       [41., 70.]])"
      ]
     },
     "execution_count": 152,
     "metadata": {},
     "output_type": "execute_result"
    }
   ],
   "source": [
    "np.ceil(c2)"
   ]
  },
  {
   "cell_type": "code",
   "execution_count": 153,
   "id": "8b843db1-1ac0-4bbe-88e7-c68f0a9cc32f",
   "metadata": {},
   "outputs": [
    {
     "data": {
      "text/plain": [
       "array([[78, 97],\n",
       "       [40, 69]])"
      ]
     },
     "execution_count": 153,
     "metadata": {},
     "output_type": "execute_result"
    }
   ],
   "source": [
    "c2.astype(int)"
   ]
  },
  {
   "cell_type": "code",
   "execution_count": 154,
   "id": "9fa1252e-b614-46c8-a1ea-1888a428b9aa",
   "metadata": {},
   "outputs": [
    {
     "data": {
      "text/plain": [
       "array([[78.22253708, 97.45485577],\n",
       "       [40.70503741, 69.01974115]])"
      ]
     },
     "execution_count": 154,
     "metadata": {},
     "output_type": "execute_result"
    }
   ],
   "source": [
    "c2"
   ]
  },
  {
   "cell_type": "code",
   "execution_count": 156,
   "id": "0a93520e-64d0-4398-ab24-1c9cec77ecc3",
   "metadata": {},
   "outputs": [
    {
     "data": {
      "text/plain": [
       "array([[78, 97],\n",
       "       [40, 69]])"
      ]
     },
     "execution_count": 156,
     "metadata": {},
     "output_type": "execute_result"
    }
   ],
   "source": [
    "np.floor(c2).astype(int)"
   ]
  },
  {
   "cell_type": "markdown",
   "id": "95f8a384-9827-4cdc-808d-39e45f8d1a77",
   "metadata": {},
   "source": [
    "Indexing and Slicing"
   ]
  },
  {
   "cell_type": "code",
   "execution_count": 158,
   "id": "86c1b66f-3c99-4a14-82a0-fba9c7e7bde4",
   "metadata": {},
   "outputs": [
    {
     "data": {
      "text/plain": [
       "array([0, 1, 2, 3, 4, 5, 6, 7, 8, 9])"
      ]
     },
     "execution_count": 158,
     "metadata": {},
     "output_type": "execute_result"
    }
   ],
   "source": [
    "e1 = np.arange(10)\n",
    "e1"
   ]
  },
  {
   "cell_type": "code",
   "execution_count": 164,
   "id": "76776a06-031d-47c5-992e-6a2d8cf277f9",
   "metadata": {},
   "outputs": [
    {
     "data": {
      "text/plain": [
       "array([[ 0,  1,  2,  3],\n",
       "       [ 4,  5,  6,  7],\n",
       "       [ 8,  9, 10, 11],\n",
       "       [12, 13, 14, 15],\n",
       "       [16, 17, 18, 19]])"
      ]
     },
     "execution_count": 164,
     "metadata": {},
     "output_type": "execute_result"
    }
   ],
   "source": [
    "e2 = np.arange(20).reshape(5,4)\n",
    "e2"
   ]
  },
  {
   "cell_type": "code",
   "execution_count": 166,
   "id": "5e24d531-b5df-4a22-a33c-589ea6a88f20",
   "metadata": {},
   "outputs": [
    {
     "data": {
      "text/plain": [
       "array([[[0, 1],\n",
       "        [2, 3]],\n",
       "\n",
       "       [[4, 5],\n",
       "        [6, 7]]])"
      ]
     },
     "execution_count": 166,
     "metadata": {},
     "output_type": "execute_result"
    }
   ],
   "source": [
    "e3 = np.arange(8).reshape(2,2,2)\n",
    "e3"
   ]
  },
  {
   "cell_type": "code",
   "execution_count": 167,
   "id": "db0003ef-677e-4cf4-bc29-5b8be0eb8510",
   "metadata": {},
   "outputs": [
    {
     "data": {
      "text/plain": [
       "0"
      ]
     },
     "execution_count": 167,
     "metadata": {},
     "output_type": "execute_result"
    }
   ],
   "source": [
    "e1[0]"
   ]
  },
  {
   "cell_type": "code",
   "execution_count": 168,
   "id": "13ea586e-3c5b-428e-afc3-54efc00634a4",
   "metadata": {},
   "outputs": [
    {
     "data": {
      "text/plain": [
       "9"
      ]
     },
     "execution_count": 168,
     "metadata": {},
     "output_type": "execute_result"
    }
   ],
   "source": [
    "e1[-1]"
   ]
  },
  {
   "cell_type": "code",
   "execution_count": 169,
   "id": "d9a28ca8-a02b-4150-8117-8cf4d14c8724",
   "metadata": {},
   "outputs": [
    {
     "data": {
      "text/plain": [
       "array([3, 4, 5, 6])"
      ]
     },
     "execution_count": 169,
     "metadata": {},
     "output_type": "execute_result"
    }
   ],
   "source": [
    "e1[3:7]"
   ]
  },
  {
   "cell_type": "code",
   "execution_count": 170,
   "id": "79cf54db-2dd3-4699-9eaa-d2d4c4c4d4c7",
   "metadata": {},
   "outputs": [
    {
     "data": {
      "text/plain": [
       "array([3, 4, 5, 6])"
      ]
     },
     "execution_count": 170,
     "metadata": {},
     "output_type": "execute_result"
    }
   ],
   "source": [
    "e1[3:-3]"
   ]
  },
  {
   "cell_type": "code",
   "execution_count": 171,
   "id": "f007e3e3-712e-48e2-ae8a-20074378521e",
   "metadata": {},
   "outputs": [
    {
     "data": {
      "text/plain": [
       "array([0, 1, 2, 3, 4, 5, 6, 7, 8, 9])"
      ]
     },
     "execution_count": 171,
     "metadata": {},
     "output_type": "execute_result"
    }
   ],
   "source": [
    "e1[:]"
   ]
  },
  {
   "cell_type": "code",
   "execution_count": 172,
   "id": "8e1e6751-8340-4b60-9223-10ef902f89d5",
   "metadata": {},
   "outputs": [
    {
     "data": {
      "text/plain": [
       "array([9, 8, 7, 6, 5, 4, 3, 2, 1, 0])"
      ]
     },
     "execution_count": 172,
     "metadata": {},
     "output_type": "execute_result"
    }
   ],
   "source": [
    "e1[::-1] #reverse the elements of the array"
   ]
  },
  {
   "cell_type": "code",
   "execution_count": 173,
   "id": "4b06b716-db06-43a8-a038-5f26b85bb46a",
   "metadata": {},
   "outputs": [
    {
     "data": {
      "text/plain": [
       "numpy.ndarray"
      ]
     },
     "execution_count": 173,
     "metadata": {},
     "output_type": "execute_result"
    }
   ],
   "source": [
    "type(e1)"
   ]
  },
  {
   "cell_type": "code",
   "execution_count": 174,
   "id": "5a3ce421-9f3e-443c-8f07-b621f57e12fd",
   "metadata": {},
   "outputs": [
    {
     "data": {
      "text/plain": [
       "array([[ 0,  1,  2,  3],\n",
       "       [ 4,  5,  6,  7],\n",
       "       [ 8,  9, 10, 11],\n",
       "       [12, 13, 14, 15],\n",
       "       [16, 17, 18, 19]])"
      ]
     },
     "execution_count": 174,
     "metadata": {},
     "output_type": "execute_result"
    }
   ],
   "source": [
    "e2"
   ]
  },
  {
   "cell_type": "code",
   "execution_count": 175,
   "id": "ce0a4814-6e04-4aed-8531-3073dd14849c",
   "metadata": {},
   "outputs": [
    {
     "data": {
      "text/plain": [
       "3"
      ]
     },
     "execution_count": 175,
     "metadata": {},
     "output_type": "execute_result"
    }
   ],
   "source": [
    "e2[0,3] # indexing on 2D arrays"
   ]
  },
  {
   "cell_type": "code",
   "execution_count": 176,
   "id": "c58a0a95-915a-4c6e-8e5f-0cf45faa49b2",
   "metadata": {},
   "outputs": [
    {
     "data": {
      "text/plain": [
       "18"
      ]
     },
     "execution_count": 176,
     "metadata": {},
     "output_type": "execute_result"
    }
   ],
   "source": [
    "e2[-1,-2]"
   ]
  },
  {
   "cell_type": "code",
   "execution_count": 177,
   "id": "b1ab98a0-fcbc-40c1-a8e4-0a3b1d2ecd93",
   "metadata": {},
   "outputs": [
    {
     "data": {
      "text/plain": [
       "array([[[0, 1],\n",
       "        [2, 3]],\n",
       "\n",
       "       [[4, 5],\n",
       "        [6, 7]]])"
      ]
     },
     "execution_count": 177,
     "metadata": {},
     "output_type": "execute_result"
    }
   ],
   "source": [
    "e3"
   ]
  },
  {
   "cell_type": "code",
   "execution_count": 178,
   "id": "1415a3bb-ba86-455c-91e8-df56ea051f9c",
   "metadata": {},
   "outputs": [
    {
     "data": {
      "text/plain": [
       "3"
      ]
     },
     "execution_count": 178,
     "metadata": {},
     "output_type": "execute_result"
    }
   ],
   "source": [
    "e3[0,1,1] # 0th array, 1st row, 1st column"
   ]
  },
  {
   "cell_type": "code",
   "execution_count": 179,
   "id": "f7a6fda1-92dc-42fa-91a8-9fafb0a71e4a",
   "metadata": {},
   "outputs": [
    {
     "data": {
      "text/plain": [
       "5"
      ]
     },
     "execution_count": 179,
     "metadata": {},
     "output_type": "execute_result"
    }
   ],
   "source": [
    "e3[1,0,1] # indexing on 3D (tensors)"
   ]
  },
  {
   "cell_type": "code",
   "execution_count": 180,
   "id": "a424b1a6-4c27-4b8a-b5c4-2fafee2c9802",
   "metadata": {},
   "outputs": [
    {
     "data": {
      "text/plain": [
       "array([[[0, 1],\n",
       "        [2, 3]],\n",
       "\n",
       "       [[4, 5],\n",
       "        [6, 7]]])"
      ]
     },
     "execution_count": 180,
     "metadata": {},
     "output_type": "execute_result"
    }
   ],
   "source": [
    "e3[:]"
   ]
  },
  {
   "cell_type": "code",
   "execution_count": 181,
   "id": "47d1eb76-d50a-42c4-b30e-b92233b143c3",
   "metadata": {},
   "outputs": [
    {
     "data": {
      "text/plain": [
       "array([[[4, 5],\n",
       "        [6, 7]],\n",
       "\n",
       "       [[0, 1],\n",
       "        [2, 3]]])"
      ]
     },
     "execution_count": 181,
     "metadata": {},
     "output_type": "execute_result"
    }
   ],
   "source": [
    "e3[::-1] #slicing"
   ]
  },
  {
   "cell_type": "code",
   "execution_count": 182,
   "id": "6f49e425-0cc0-46bf-a471-ad48f8e49e0f",
   "metadata": {},
   "outputs": [
    {
     "data": {
      "text/plain": [
       "array([[ 0,  1,  2,  3],\n",
       "       [ 4,  5,  6,  7],\n",
       "       [ 8,  9, 10, 11],\n",
       "       [12, 13, 14, 15],\n",
       "       [16, 17, 18, 19]])"
      ]
     },
     "execution_count": 182,
     "metadata": {},
     "output_type": "execute_result"
    }
   ],
   "source": [
    "e2"
   ]
  },
  {
   "cell_type": "code",
   "execution_count": 183,
   "id": "4c39af07-6f3e-4130-b11d-8d49cabf5a59",
   "metadata": {},
   "outputs": [
    {
     "data": {
      "text/plain": [
       "array([[ 4,  5,  6,  7],\n",
       "       [ 8,  9, 10, 11]])"
      ]
     },
     "execution_count": 183,
     "metadata": {},
     "output_type": "execute_result"
    }
   ],
   "source": [
    "e2[1:3] #slicing 2D array"
   ]
  },
  {
   "cell_type": "code",
   "execution_count": 184,
   "id": "1f7102a3-e37f-472f-8398-d20b7ef385eb",
   "metadata": {},
   "outputs": [
    {
     "data": {
      "text/plain": [
       "array([[16, 17, 18, 19],\n",
       "       [12, 13, 14, 15],\n",
       "       [ 8,  9, 10, 11],\n",
       "       [ 4,  5,  6,  7],\n",
       "       [ 0,  1,  2,  3]])"
      ]
     },
     "execution_count": 184,
     "metadata": {},
     "output_type": "execute_result"
    }
   ],
   "source": [
    "e2[::-1]"
   ]
  },
  {
   "cell_type": "code",
   "execution_count": 187,
   "id": "a42c11ba-3780-4517-8a09-20668db6c0d9",
   "metadata": {},
   "outputs": [
    {
     "data": {
      "text/plain": [
       "array([[ 0,  1,  2,  3],\n",
       "       [ 4,  5,  6,  7],\n",
       "       [ 8,  9, 10, 11],\n",
       "       [12, 13, 14, 15],\n",
       "       [16, 17, 18, 19]])"
      ]
     },
     "execution_count": 187,
     "metadata": {},
     "output_type": "execute_result"
    }
   ],
   "source": [
    "e2"
   ]
  },
  {
   "cell_type": "code",
   "execution_count": 185,
   "id": "0266f531-0183-45d8-b5a8-0e48cb1423c6",
   "metadata": {},
   "outputs": [
    {
     "data": {
      "text/plain": [
       "array([ 3,  7, 11, 15, 19])"
      ]
     },
     "execution_count": 185,
     "metadata": {},
     "output_type": "execute_result"
    }
   ],
   "source": [
    "e2[:,3] # all rows and 3rd column"
   ]
  },
  {
   "cell_type": "code",
   "execution_count": 188,
   "id": "d5d20423-f628-4021-8671-842263aeb34f",
   "metadata": {},
   "outputs": [
    {
     "data": {
      "text/plain": [
       "array([ 8,  9, 10, 11])"
      ]
     },
     "execution_count": 188,
     "metadata": {},
     "output_type": "execute_result"
    }
   ],
   "source": [
    "e2[2,:] # 2nd row and all columns"
   ]
  },
  {
   "cell_type": "code",
   "execution_count": 190,
   "id": "b4054fe2-332b-40f1-9ac3-ba896c867b0b",
   "metadata": {},
   "outputs": [
    {
     "data": {
      "text/plain": [
       "array([[ 0,  1,  2,  3],\n",
       "       [ 4,  5,  6,  7],\n",
       "       [ 8,  9, 10, 11],\n",
       "       [12, 13, 14, 15],\n",
       "       [16, 17, 18, 19]])"
      ]
     },
     "execution_count": 190,
     "metadata": {},
     "output_type": "execute_result"
    }
   ],
   "source": [
    "e2"
   ]
  },
  {
   "cell_type": "code",
   "execution_count": 191,
   "id": "fbb35b83-c4b6-4758-b993-3844d30bcced",
   "metadata": {},
   "outputs": [
    {
     "data": {
      "text/plain": [
       "array([[ 4,  5,  6,  7],\n",
       "       [ 8,  9, 10, 11]])"
      ]
     },
     "execution_count": 191,
     "metadata": {},
     "output_type": "execute_result"
    }
   ],
   "source": [
    "e2[1:3] #row slicing"
   ]
  },
  {
   "cell_type": "code",
   "execution_count": 192,
   "id": "70b2c3ce-0b68-42ec-92fe-81837c940327",
   "metadata": {},
   "outputs": [
    {
     "data": {
      "text/plain": [
       "array([[ 5,  6],\n",
       "       [ 9, 10]])"
      ]
     },
     "execution_count": 192,
     "metadata": {},
     "output_type": "execute_result"
    }
   ],
   "source": [
    "e2[1:3, 1:3] # column slicing"
   ]
  },
  {
   "cell_type": "code",
   "execution_count": 193,
   "id": "df45b376-c030-450c-825e-214539b6646a",
   "metadata": {},
   "outputs": [
    {
     "data": {
      "text/plain": [
       "array([[ 0,  1,  2,  3],\n",
       "       [ 8,  9, 10, 11],\n",
       "       [16, 17, 18, 19]])"
      ]
     },
     "execution_count": 193,
     "metadata": {},
     "output_type": "execute_result"
    }
   ],
   "source": [
    "e2[::2] #step 2"
   ]
  },
  {
   "cell_type": "code",
   "execution_count": 195,
   "id": "05349d74-9c03-4caf-bb44-6666d15d1f7b",
   "metadata": {},
   "outputs": [
    {
     "data": {
      "text/plain": [
       "array([[ 0,  2],\n",
       "       [ 8, 10],\n",
       "       [16, 18]])"
      ]
     },
     "execution_count": 195,
     "metadata": {},
     "output_type": "execute_result"
    }
   ],
   "source": [
    "e2[::2,::2]"
   ]
  },
  {
   "cell_type": "markdown",
   "id": "bc1cdbfb-33bd-4c25-b84b-2a2620d2792b",
   "metadata": {},
   "source": [
    "Iterating"
   ]
  },
  {
   "cell_type": "code",
   "execution_count": 196,
   "id": "17d7e28f-09b1-4901-ab2b-d04099fdc3fb",
   "metadata": {},
   "outputs": [
    {
     "data": {
      "text/plain": [
       "array([0, 1, 2, 3, 4, 5, 6, 7, 8, 9])"
      ]
     },
     "execution_count": 196,
     "metadata": {},
     "output_type": "execute_result"
    }
   ],
   "source": [
    "e1"
   ]
  },
  {
   "cell_type": "code",
   "execution_count": 197,
   "id": "1f191afd-293b-4af8-afd8-48106be70e51",
   "metadata": {},
   "outputs": [
    {
     "name": "stdout",
     "output_type": "stream",
     "text": [
      "0\n",
      "1\n",
      "2\n",
      "3\n",
      "4\n",
      "5\n",
      "6\n",
      "7\n",
      "8\n",
      "9\n"
     ]
    }
   ],
   "source": [
    "for i in e1: # iretrating numpy arrays \n",
    "    print(i)"
   ]
  },
  {
   "cell_type": "code",
   "execution_count": 198,
   "id": "a9114ddd-8746-4324-bab1-b6769ec24f57",
   "metadata": {},
   "outputs": [
    {
     "data": {
      "text/plain": [
       "array([[ 0,  1,  2,  3],\n",
       "       [ 4,  5,  6,  7],\n",
       "       [ 8,  9, 10, 11],\n",
       "       [12, 13, 14, 15],\n",
       "       [16, 17, 18, 19]])"
      ]
     },
     "execution_count": 198,
     "metadata": {},
     "output_type": "execute_result"
    }
   ],
   "source": [
    "e2"
   ]
  },
  {
   "cell_type": "code",
   "execution_count": 199,
   "id": "f852915a-3b6e-4272-9308-4344bfeb743e",
   "metadata": {},
   "outputs": [
    {
     "name": "stdout",
     "output_type": "stream",
     "text": [
      "[0 1 2 3]\n",
      "[4 5 6 7]\n",
      "[ 8  9 10 11]\n",
      "[12 13 14 15]\n",
      "[16 17 18 19]\n"
     ]
    }
   ],
   "source": [
    "for i in e2: \n",
    "    print(i)  # print rows "
   ]
  },
  {
   "cell_type": "code",
   "execution_count": 201,
   "id": "213ac582-d034-49b1-845f-191e959b9f69",
   "metadata": {},
   "outputs": [
    {
     "name": "stdout",
     "output_type": "stream",
     "text": [
      "0\n",
      "1\n",
      "2\n",
      "3\n",
      "4\n",
      "5\n",
      "6\n",
      "7\n",
      "8\n",
      "9\n",
      "10\n",
      "11\n",
      "12\n",
      "13\n",
      "14\n",
      "15\n",
      "16\n",
      "17\n",
      "18\n",
      "19\n"
     ]
    }
   ],
   "source": [
    "for i in e2:\n",
    "    for j in i:\n",
    "        print(j)"
   ]
  },
  {
   "cell_type": "code",
   "execution_count": 202,
   "id": "5f648b60-7d12-43ef-be8e-66591fb3c37d",
   "metadata": {},
   "outputs": [
    {
     "data": {
      "text/plain": [
       "array([[[0, 1],\n",
       "        [2, 3]],\n",
       "\n",
       "       [[4, 5],\n",
       "        [6, 7]]])"
      ]
     },
     "execution_count": 202,
     "metadata": {},
     "output_type": "execute_result"
    }
   ],
   "source": [
    "e3"
   ]
  },
  {
   "cell_type": "code",
   "execution_count": 203,
   "id": "0b8f57c2-1795-44aa-a926-6298c28445e6",
   "metadata": {},
   "outputs": [
    {
     "name": "stdout",
     "output_type": "stream",
     "text": [
      "[[0 1]\n",
      " [2 3]]\n",
      "[[4 5]\n",
      " [6 7]]\n"
     ]
    }
   ],
   "source": [
    "for i in e3:\n",
    "    print(i)"
   ]
  },
  {
   "cell_type": "code",
   "execution_count": 205,
   "id": "41f4dbec-d3aa-44eb-a08a-a17641f8a7c7",
   "metadata": {},
   "outputs": [
    {
     "name": "stdout",
     "output_type": "stream",
     "text": [
      "0\n",
      "1\n",
      "2\n",
      "3\n",
      "4\n",
      "5\n",
      "6\n",
      "7\n"
     ]
    }
   ],
   "source": [
    "for i in np.nditer(e3):\n",
    "    print(i)  # nditer first converts 3D  array to 1D array and prints the elements "
   ]
  },
  {
   "cell_type": "code",
   "execution_count": 206,
   "id": "4ae4c775-453e-4a2d-9375-dd6d9576f0cd",
   "metadata": {},
   "outputs": [
    {
     "data": {
      "text/plain": [
       "array([[ 0,  1,  2,  3],\n",
       "       [ 4,  5,  6,  7],\n",
       "       [ 8,  9, 10, 11],\n",
       "       [12, 13, 14, 15],\n",
       "       [16, 17, 18, 19]])"
      ]
     },
     "execution_count": 206,
     "metadata": {},
     "output_type": "execute_result"
    }
   ],
   "source": [
    "e2"
   ]
  },
  {
   "cell_type": "code",
   "execution_count": 207,
   "id": "cb845dd0-8501-41f4-a16d-75ab35194b87",
   "metadata": {},
   "outputs": [
    {
     "data": {
      "text/plain": [
       "array([[ 0,  4,  8, 12, 16],\n",
       "       [ 1,  5,  9, 13, 17],\n",
       "       [ 2,  6, 10, 14, 18],\n",
       "       [ 3,  7, 11, 15, 19]])"
      ]
     },
     "execution_count": 207,
     "metadata": {},
     "output_type": "execute_result"
    }
   ],
   "source": [
    "np.transpose(e2) # converts the rows into columns and columns into rows "
   ]
  },
  {
   "cell_type": "code",
   "execution_count": 208,
   "id": "a7eea377-3ada-4cdf-a798-30469d2e4620",
   "metadata": {},
   "outputs": [
    {
     "data": {
      "text/plain": [
       "array([[ 0,  4,  8, 12, 16],\n",
       "       [ 1,  5,  9, 13, 17],\n",
       "       [ 2,  6, 10, 14, 18],\n",
       "       [ 3,  7, 11, 15, 19]])"
      ]
     },
     "execution_count": 208,
     "metadata": {},
     "output_type": "execute_result"
    }
   ],
   "source": [
    "e2.T # this can also be used to convert to transpose"
   ]
  },
  {
   "cell_type": "code",
   "execution_count": 209,
   "id": "b1952f1d-7c02-44f5-8091-6f302c1140e8",
   "metadata": {},
   "outputs": [
    {
     "data": {
      "text/plain": [
       "array([[[0, 1],\n",
       "        [2, 3]],\n",
       "\n",
       "       [[4, 5],\n",
       "        [6, 7]]])"
      ]
     },
     "execution_count": 209,
     "metadata": {},
     "output_type": "execute_result"
    }
   ],
   "source": [
    "e3"
   ]
  },
  {
   "cell_type": "code",
   "execution_count": 210,
   "id": "d59daf49-dc86-402e-9749-4a481984257e",
   "metadata": {},
   "outputs": [
    {
     "data": {
      "text/plain": [
       "array([[[0, 4],\n",
       "        [2, 6]],\n",
       "\n",
       "       [[1, 5],\n",
       "        [3, 7]]])"
      ]
     },
     "execution_count": 210,
     "metadata": {},
     "output_type": "execute_result"
    }
   ],
   "source": [
    "e3.T"
   ]
  },
  {
   "cell_type": "markdown",
   "id": "04c04035-8a16-4926-97bf-f9b4be4b3580",
   "metadata": {},
   "source": [
    "Ravel -- used to convert any dimension to 1D"
   ]
  },
  {
   "cell_type": "code",
   "execution_count": 211,
   "id": "b2a6d6c6-3286-4e8b-bba0-ac75cada1929",
   "metadata": {},
   "outputs": [
    {
     "data": {
      "text/plain": [
       "array([[ 0,  1,  2,  3],\n",
       "       [ 4,  5,  6,  7],\n",
       "       [ 8,  9, 10, 11],\n",
       "       [12, 13, 14, 15],\n",
       "       [16, 17, 18, 19]])"
      ]
     },
     "execution_count": 211,
     "metadata": {},
     "output_type": "execute_result"
    }
   ],
   "source": [
    "e2"
   ]
  },
  {
   "cell_type": "code",
   "execution_count": 212,
   "id": "f97ad096-6b08-4991-a7f8-0454f61168ef",
   "metadata": {},
   "outputs": [
    {
     "data": {
      "text/plain": [
       "array([ 0,  1,  2,  3,  4,  5,  6,  7,  8,  9, 10, 11, 12, 13, 14, 15, 16,\n",
       "       17, 18, 19])"
      ]
     },
     "execution_count": 212,
     "metadata": {},
     "output_type": "execute_result"
    }
   ],
   "source": [
    "e2.ravel() # converts the 2D array to 1D array"
   ]
  },
  {
   "cell_type": "code",
   "execution_count": 213,
   "id": "98e7dba3-4f83-4a2d-8759-b2351090f614",
   "metadata": {},
   "outputs": [
    {
     "data": {
      "text/plain": [
       "array([[[0, 1],\n",
       "        [2, 3]],\n",
       "\n",
       "       [[4, 5],\n",
       "        [6, 7]]])"
      ]
     },
     "execution_count": 213,
     "metadata": {},
     "output_type": "execute_result"
    }
   ],
   "source": [
    "e3"
   ]
  },
  {
   "cell_type": "code",
   "execution_count": 215,
   "id": "6175c563-82aa-47bc-8c6a-ac5b0a5f8577",
   "metadata": {},
   "outputs": [
    {
     "data": {
      "text/plain": [
       "array([0, 1, 2, 3, 4, 5, 6, 7])"
      ]
     },
     "execution_count": 215,
     "metadata": {},
     "output_type": "execute_result"
    }
   ],
   "source": [
    "e3.ravel() #converts 3D array to 1D array"
   ]
  },
  {
   "cell_type": "markdown",
   "id": "9b2adc33-9539-44ca-938a-3a6527ea891f",
   "metadata": {},
   "source": [
    "Stacking : is used to join the arrays in NumPy.Arrays with same dimensions can be stacked"
   ]
  },
  {
   "cell_type": "code",
   "execution_count": 217,
   "id": "20184550-e26d-48be-afca-22b7e4b42963",
   "metadata": {},
   "outputs": [
    {
     "data": {
      "text/plain": [
       "array([[ 0,  1,  2,  3],\n",
       "       [ 4,  5,  6,  7],\n",
       "       [ 8,  9, 10, 11]])"
      ]
     },
     "execution_count": 217,
     "metadata": {},
     "output_type": "execute_result"
    }
   ],
   "source": [
    "w1 = np.arange(12).reshape(3,4)\n",
    "w1"
   ]
  },
  {
   "cell_type": "code",
   "execution_count": 218,
   "id": "d37f0b44-46d8-4336-86f2-a7ba157525a3",
   "metadata": {},
   "outputs": [
    {
     "data": {
      "text/plain": [
       "array([[12, 13, 14, 15],\n",
       "       [16, 17, 18, 19],\n",
       "       [20, 21, 22, 23]])"
      ]
     },
     "execution_count": 218,
     "metadata": {},
     "output_type": "execute_result"
    }
   ],
   "source": [
    "w2 = np.arange(12,24).reshape(3,4)\n",
    "w2"
   ]
  },
  {
   "cell_type": "code",
   "execution_count": 221,
   "id": "92bfd27a-1f64-449e-8fb7-124c70f97ce3",
   "metadata": {},
   "outputs": [
    {
     "data": {
      "text/plain": [
       "array([[ 0,  1,  2,  3, 12, 13, 14, 15],\n",
       "       [ 4,  5,  6,  7, 16, 17, 18, 19],\n",
       "       [ 8,  9, 10, 11, 20, 21, 22, 23]])"
      ]
     },
     "execution_count": 221,
     "metadata": {},
     "output_type": "execute_result"
    }
   ],
   "source": [
    "np.hstack((w1,w2))  #horizontal stack, stacks the arrays horizontally"
   ]
  },
  {
   "cell_type": "code",
   "execution_count": 223,
   "id": "bb1ea9e1-4b0f-403b-a2d7-b2becff0155d",
   "metadata": {},
   "outputs": [
    {
     "data": {
      "text/plain": [
       "array([[ 0,  1,  2,  3],\n",
       "       [ 4,  5,  6,  7],\n",
       "       [ 8,  9, 10, 11],\n",
       "       [12, 13, 14, 15],\n",
       "       [16, 17, 18, 19],\n",
       "       [20, 21, 22, 23]])"
      ]
     },
     "execution_count": 223,
     "metadata": {},
     "output_type": "execute_result"
    }
   ],
   "source": [
    "np.vstack((w1,w2)) #vertical stack, stacks the arrays vertically"
   ]
  },
  {
   "cell_type": "markdown",
   "id": "896bf349-de1d-4a50-97d0-f2f073e07c55",
   "metadata": {},
   "source": [
    "Splitting : It is opposite of stacking. Splits the numpy arrays"
   ]
  },
  {
   "cell_type": "code",
   "execution_count": 224,
   "id": "d039d68e-9468-44a6-93d5-f9e6c323b642",
   "metadata": {},
   "outputs": [
    {
     "data": {
      "text/plain": [
       "array([[ 0,  1,  2,  3],\n",
       "       [ 4,  5,  6,  7],\n",
       "       [ 8,  9, 10, 11]])"
      ]
     },
     "execution_count": 224,
     "metadata": {},
     "output_type": "execute_result"
    }
   ],
   "source": [
    "w1"
   ]
  },
  {
   "cell_type": "code",
   "execution_count": 226,
   "id": "f5d226c9-5fdc-4d55-ae05-e112d095dfd6",
   "metadata": {},
   "outputs": [
    {
     "data": {
      "text/plain": [
       "[array([[0, 1],\n",
       "        [4, 5],\n",
       "        [8, 9]]),\n",
       " array([[ 2,  3],\n",
       "        [ 6,  7],\n",
       "        [10, 11]])]"
      ]
     },
     "execution_count": 226,
     "metadata": {},
     "output_type": "execute_result"
    }
   ],
   "source": [
    "np.hsplit(w1,2) # splits the 2D matrix horizontally into 2 "
   ]
  },
  {
   "cell_type": "code",
   "execution_count": 227,
   "id": "0702c333-725d-4dcc-9f20-78502961b13b",
   "metadata": {},
   "outputs": [
    {
     "data": {
      "text/plain": [
       "[array([[0],\n",
       "        [4],\n",
       "        [8]]),\n",
       " array([[1],\n",
       "        [5],\n",
       "        [9]]),\n",
       " array([[ 2],\n",
       "        [ 6],\n",
       "        [10]]),\n",
       " array([[ 3],\n",
       "        [ 7],\n",
       "        [11]])]"
      ]
     },
     "execution_count": 227,
     "metadata": {},
     "output_type": "execute_result"
    }
   ],
   "source": [
    "np.hsplit(w1,4)"
   ]
  },
  {
   "cell_type": "code",
   "execution_count": 230,
   "id": "a6a57be6-77b7-4e44-a295-d0d776a23b22",
   "metadata": {},
   "outputs": [
    {
     "data": {
      "text/plain": [
       "[array([[12, 13, 14, 15]]),\n",
       " array([[16, 17, 18, 19]]),\n",
       " array([[20, 21, 22, 23]])]"
      ]
     },
     "execution_count": 230,
     "metadata": {},
     "output_type": "execute_result"
    }
   ],
   "source": [
    "np.vsplit(w2,3)"
   ]
  },
  {
   "cell_type": "markdown",
   "id": "52ffda94-fd01-486a-b8e9-24d119e58474",
   "metadata": {},
   "source": [
    "Speed of NumPy vs List : numpy is faster than lists, one of the reasons is numpy uses C as its underlying language"
   ]
  },
  {
   "cell_type": "code",
   "execution_count": 233,
   "id": "e14977df-9159-4281-b5bf-52a6348b72fb",
   "metadata": {},
   "outputs": [],
   "source": [
    "import time\n",
    "a = [i for i in range(10000000)]\n",
    "b = [i for i in range(10000000,20000000)]\n",
    "c=[]"
   ]
  },
  {
   "cell_type": "code",
   "execution_count": 234,
   "id": "614e0dfd-ca81-4503-9ef6-22f57f441dc2",
   "metadata": {},
   "outputs": [
    {
     "name": "stdout",
     "output_type": "stream",
     "text": [
      "4.03705906867981\n"
     ]
    }
   ],
   "source": [
    "start = time.time()\n",
    "for i in range(len(a)):\n",
    "    c.append(a[i]+b[i])\n",
    "print(time.time() - start)"
   ]
  },
  {
   "cell_type": "code",
   "execution_count": 241,
   "id": "06bed2e1-42b9-40b0-9cb4-724efed05700",
   "metadata": {},
   "outputs": [
    {
     "name": "stdout",
     "output_type": "stream",
     "text": [
      "0.032430410385131836\n"
     ]
    }
   ],
   "source": [
    "a1 = np.arange(10000000)\n",
    "a2 = np.arange(10000000,20000000)\n",
    "\n",
    "start = time.time()\n",
    "a3=a1+a2\n",
    "print(time.time() - start)\n",
    "    "
   ]
  },
  {
   "cell_type": "markdown",
   "id": "7d4d422a-3dc1-4444-8f5c-988a0ca5efa1",
   "metadata": {},
   "source": [
    "Memory used for NumPy vs List : Numpy arrays uses less memory than Lists"
   ]
  },
  {
   "cell_type": "code",
   "execution_count": 246,
   "id": "917ccabf-9b7c-4c86-9f68-d1b00529e560",
   "metadata": {},
   "outputs": [
    {
     "data": {
      "text/plain": [
       "40000112"
      ]
     },
     "execution_count": 246,
     "metadata": {},
     "output_type": "execute_result"
    }
   ],
   "source": [
    "p = np.arange(10000000)\n",
    "import sys\n",
    "sys.getsizeof(p) # size of np arrays is half the size occupied by list"
   ]
  },
  {
   "cell_type": "code",
   "execution_count": 245,
   "id": "9a5b930c-9667-4b64-9d34-d595ce17c481",
   "metadata": {},
   "outputs": [
    {
     "data": {
      "text/plain": [
       "89095160"
      ]
     },
     "execution_count": 245,
     "metadata": {},
     "output_type": "execute_result"
    }
   ],
   "source": [
    "l = [i for i in range(10000000)]\n",
    "sys.getsizeof(l)"
   ]
  },
  {
   "cell_type": "code",
   "execution_count": 247,
   "id": "acd85bed-b04f-4541-aab7-d38afc851f0a",
   "metadata": {},
   "outputs": [
    {
     "data": {
      "text/plain": [
       "dtype('int32')"
      ]
     },
     "execution_count": 247,
     "metadata": {},
     "output_type": "execute_result"
    }
   ],
   "source": [
    "p.dtype"
   ]
  },
  {
   "cell_type": "code",
   "execution_count": 248,
   "id": "467bb653-3b0b-42e3-becc-f86513d3c42b",
   "metadata": {},
   "outputs": [],
   "source": [
    "p1 = np.arange(10000000, dtype=np.int16) # size of np arrays can be further decreased if needed"
   ]
  },
  {
   "cell_type": "code",
   "execution_count": 249,
   "id": "d6cf5db5-ad7a-4229-b9ee-126f200e46a7",
   "metadata": {},
   "outputs": [
    {
     "data": {
      "text/plain": [
       "20000112"
      ]
     },
     "execution_count": 249,
     "metadata": {},
     "output_type": "execute_result"
    }
   ],
   "source": [
    "sys.getsizeof(p1) "
   ]
  },
  {
   "cell_type": "markdown",
   "id": "87d36e11-970f-423c-93bd-205d87b0fbd7",
   "metadata": {},
   "source": [
    "plotting graphs"
   ]
  },
  {
   "cell_type": "code",
   "execution_count": 250,
   "id": "468b69fb-20b0-4f63-999c-910d09bc2421",
   "metadata": {},
   "outputs": [
    {
     "data": {
      "text/plain": [
       "array([-10.        ,  -8.94736842,  -7.89473684,  -6.84210526,\n",
       "        -5.78947368,  -4.73684211,  -3.68421053,  -2.63157895,\n",
       "        -1.57894737,  -0.52631579,   0.52631579,   1.57894737,\n",
       "         2.63157895,   3.68421053,   4.73684211,   5.78947368,\n",
       "         6.84210526,   7.89473684,   8.94736842,  10.        ])"
      ]
     },
     "execution_count": 250,
     "metadata": {},
     "output_type": "execute_result"
    }
   ],
   "source": [
    "x = np.linspace(-10,10,20)\n",
    "x"
   ]
  },
  {
   "cell_type": "code",
   "execution_count": 251,
   "id": "b0d70359-d3c9-44c5-ba3c-4d156b5c65bc",
   "metadata": {},
   "outputs": [],
   "source": [
    "y = x"
   ]
  },
  {
   "cell_type": "code",
   "execution_count": 252,
   "id": "fe488633-03dc-43cd-87f1-8a0e2eb9a838",
   "metadata": {},
   "outputs": [],
   "source": [
    "import matplotlib.pyplot as plt\n"
   ]
  },
  {
   "cell_type": "code",
   "execution_count": 253,
   "id": "455bd65a-1f94-4382-aa92-3637b64307db",
   "metadata": {},
   "outputs": [
    {
     "data": {
      "text/plain": [
       "[<matplotlib.lines.Line2D at 0x15292451130>]"
      ]
     },
     "execution_count": 253,
     "metadata": {},
     "output_type": "execute_result"
    },
    {
     "data": {
      "image/png": "[encoded data removed]",
      "text/plain": [
       "<Figure size 640x480 with 1 Axes>"
      ]
     },
     "metadata": {},
     "output_type": "display_data"
    }
   ],
   "source": [
    "plt.plot(x,y)"
   ]
  },
  {
   "cell_type": "code",
   "execution_count": 254,
   "id": "737c0b08-8cac-4610-9365-00f0cce67888",
   "metadata": {},
   "outputs": [
    {
     "data": {
      "text/plain": [
       "array([-10.        ,  -8.94736842,  -7.89473684,  -6.84210526,\n",
       "        -5.78947368,  -4.73684211,  -3.68421053,  -2.63157895,\n",
       "        -1.57894737,  -0.52631579,   0.52631579,   1.57894737,\n",
       "         2.63157895,   3.68421053,   4.73684211,   5.78947368,\n",
       "         6.84210526,   7.89473684,   8.94736842,  10.        ])"
      ]
     },
     "execution_count": 254,
     "metadata": {},
     "output_type": "execute_result"
    }
   ],
   "source": [
    "x"
   ]
  },
  {
   "cell_type": "code",
   "execution_count": 255,
   "id": "6872e0dc-6951-4723-b713-e94eea58b3a8",
   "metadata": {},
   "outputs": [],
   "source": [
    "y = x**2"
   ]
  },
  {
   "cell_type": "code",
   "execution_count": 256,
   "id": "d20a7eea-099f-420f-8f46-cd42339a0e89",
   "metadata": {},
   "outputs": [
    {
     "data": {
      "text/plain": [
       "[<matplotlib.lines.Line2D at 0x15291fa3050>]"
      ]
     },
     "execution_count": 256,
     "metadata": {},
     "output_type": "execute_result"
    },
    {
     "data": {
      "image/png": "[encoded data removed]",
      "text/plain": [
       "<Figure size 640x480 with 1 Axes>"
      ]
     },
     "metadata": {},
     "output_type": "display_data"
    }
   ],
   "source": [
    "plt.plot(x,y)"
   ]
  },
  {
   "cell_type": "code",
   "execution_count": 257,
   "id": "aa2e7183-7b97-48dd-9aa7-e58d7eed2c5b",
   "metadata": {},
   "outputs": [
    {
     "data": {
      "text/plain": [
       "array([-10.        ,  -8.94736842,  -7.89473684,  -6.84210526,\n",
       "        -5.78947368,  -4.73684211,  -3.68421053,  -2.63157895,\n",
       "        -1.57894737,  -0.52631579,   0.52631579,   1.57894737,\n",
       "         2.63157895,   3.68421053,   4.73684211,   5.78947368,\n",
       "         6.84210526,   7.89473684,   8.94736842,  10.        ])"
      ]
     },
     "execution_count": 257,
     "metadata": {},
     "output_type": "execute_result"
    }
   ],
   "source": [
    "x"
   ]
  },
  {
   "cell_type": "code",
   "execution_count": 259,
   "id": "05d926f5-f7bc-4566-a5bd-699495263f85",
   "metadata": {},
   "outputs": [
    {
     "data": {
      "text/plain": [
       "array([ 0.54402111, -0.4594799 , -0.99916962, -0.53027082,  0.47389753,\n",
       "        0.99970104,  0.5163796 , -0.48818921, -0.99996678, -0.50235115,\n",
       "        0.50235115,  0.99996678,  0.48818921, -0.5163796 , -0.99970104,\n",
       "       -0.47389753,  0.53027082,  0.99916962,  0.4594799 , -0.54402111])"
      ]
     },
     "execution_count": 259,
     "metadata": {},
     "output_type": "execute_result"
    }
   ],
   "source": [
    "y = np.sin(x)\n",
    "y"
   ]
  },
  {
   "cell_type": "code",
   "execution_count": 260,
   "id": "ab57c420-9174-46bf-9b70-cfdcd1d9c6c5",
   "metadata": {},
   "outputs": [
    {
     "data": {
      "text/plain": [
       "[<matplotlib.lines.Line2D at 0x152925a8530>]"
      ]
     },
     "execution_count": 260,
     "metadata": {},
     "output_type": "execute_result"
    },
    {
     "data": {
      "image/png": "[encoded data removed]",
      "text/plain": [
       "<Figure size 640x480 with 1 Axes>"
      ]
     },
     "metadata": {},
     "output_type": "display_data"
    }
   ],
   "source": [
    "plt.plot(x,y)"
   ]
  },
  {
   "cell_type": "code",
   "execution_count": 262,
   "id": "804543d9-00b9-4397-9412-05ec06d84800",
   "metadata": {},
   "outputs": [
    {
     "data": {
      "text/plain": [
       "[<matplotlib.lines.Line2D at 0x152925e05c0>]"
      ]
     },
     "execution_count": 262,
     "metadata": {},
     "output_type": "execute_result"
    },
    {
     "data": {
      "image/png": "[encoded data removed]",
      "text/plain": [
       "<Figure size 640x480 with 1 Axes>"
      ]
     },
     "metadata": {},
     "output_type": "display_data"
    }
   ],
   "source": [
    "y = np.cos(x)\n",
    "plt.plot(x,y)"
   ]
  },
  {
   "cell_type": "code",
   "execution_count": 264,
   "id": "f06f33f5-fabf-41ec-a784-682196cba6dd",
   "metadata": {},
   "outputs": [
    {
     "name": "stderr",
     "output_type": "stream",
     "text": [
      "C:\\Users\\Kumar\\AppData\\Local\\Temp\\ipykernel_29080\\1988959992.py:1: RuntimeWarning: invalid value encountered in log\n",
      "  y = np.log(x)\n"
     ]
    },
    {
     "data": {
      "text/plain": [
       "array([        nan,         nan,         nan,         nan,         nan,\n",
       "               nan,         nan,         nan,         nan,         nan,\n",
       "       -0.64185389,  0.4567584 ,  0.96758403,  1.30405626,  1.55537069,\n",
       "        1.75604139,  1.92309547,  2.06619631,  2.19135946,  2.30258509])"
      ]
     },
     "execution_count": 264,
     "metadata": {},
     "output_type": "execute_result"
    }
   ],
   "source": [
    "y = np.log(x)\n",
    "y"
   ]
  },
  {
   "cell_type": "code",
   "execution_count": 265,
   "id": "e1773df3-d6bc-44d7-9c1d-b54046a91f90",
   "metadata": {},
   "outputs": [
    {
     "data": {
      "text/plain": [
       "[<matplotlib.lines.Line2D at 0x15292718b30>]"
      ]
     },
     "execution_count": 265,
     "metadata": {},
     "output_type": "execute_result"
    },
    {
     "data": {
      "image/png": "[encoded data removed]",
      "text/plain": [
       "<Figure size 640x480 with 1 Axes>"
      ]
     },
     "metadata": {},
     "output_type": "display_data"
    }
   ],
   "source": [
    "plt.plot(x,y)"
   ]
  },
  {
   "cell_type": "code",
   "execution_count": null,
   "id": "7167e94c-6039-4641-a980-13fa8882a675",
   "metadata": {},
   "outputs": [],
   "source": []
  },
  {
   "cell_type": "code",
   "execution_count": null,
   "id": "d55024e5-9743-42ee-b135-05ddd2e0b1fb",
   "metadata": {},
   "outputs": [],
   "source": []
  },
  {
   "cell_type": "code",
   "execution_count": null,
   "id": "8ad2adc1-b0ad-486b-93cd-0d81ab9a8420",
   "metadata": {},
   "outputs": [],
   "source": []
  },
  {
   "cell_type": "code",
   "execution_count": null,
   "id": "0b095823-af57-408e-b631-ce5fa0e28da2",
   "metadata": {},
   "outputs": [],
   "source": []
  },
  {
   "cell_type": "code",
   "execution_count": null,
   "id": "9ac4f593-f231-4cf9-83ee-52a2b318d8c4",
   "metadata": {},
   "outputs": [],
   "source": []
  }
 ],
 "metadata": {
  "kernelspec": {
   "display_name": "base",
   "language": "python",
   "name": "python3"
  },
  "language_info": {
   "codemirror_mode": {
    "name": "ipython",
    "version": 3
   },
   "file_extension": ".py",
   "mimetype": "text/x-python",
   "name": "python",
   "nbconvert_exporter": "python",
   "pygments_lexer": "ipython3",
   "version": "3.12.7"
  }
 },
 "nbformat": 4,
 "nbformat_minor": 5
}
