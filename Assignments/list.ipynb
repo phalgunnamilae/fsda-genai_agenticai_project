{
 "cells": [
  {
   "cell_type": "code",
   "execution_count": 3,
   "id": "68ab301d-bfbc-4b0c-9a75-e83b57c7ba19",
   "metadata": {},
   "outputs": [],
   "source": [
    "list1 = []"
   ]
  },
  {
   "cell_type": "code",
   "execution_count": 4,
   "id": "05134b89-3670-4798-9a44-a0a53109ecbd",
   "metadata": {},
   "outputs": [
    {
     "name": "stdout",
     "output_type": "stream",
     "text": [
      "<class 'list'>\n"
     ]
    }
   ],
   "source": [
    "print(type(list1))"
   ]
  },
  {
   "cell_type": "code",
   "execution_count": 5,
   "id": "f4cfd672-f91e-483a-8794-e9e9c554f5f4",
   "metadata": {},
   "outputs": [],
   "source": [
    "list2 = [1,2,3,4]  # list of integers"
   ]
  },
  {
   "cell_type": "code",
   "execution_count": 6,
   "id": "62d92fef-4287-48e4-b3d6-42b924b60d66",
   "metadata": {},
   "outputs": [
    {
     "name": "stdout",
     "output_type": "stream",
     "text": [
      "[1, 2, 3, 4]\n"
     ]
    }
   ],
   "source": [
    "print(list2)"
   ]
  },
  {
   "cell_type": "code",
   "execution_count": 7,
   "id": "5ea8e462-b042-4152-93e4-c85f548bd12c",
   "metadata": {},
   "outputs": [],
   "source": [
    "list3 = [1.2,3.3,4.5]  # list of float numbers"
   ]
  },
  {
   "cell_type": "code",
   "execution_count": 8,
   "id": "6d7f1a1a-7f3d-4787-a518-f3f543098ca0",
   "metadata": {},
   "outputs": [
    {
     "name": "stdout",
     "output_type": "stream",
     "text": [
      "[1.2, 3.3, 4.5]\n"
     ]
    }
   ],
   "source": [
    "print(list3)"
   ]
  },
  {
   "cell_type": "code",
   "execution_count": 10,
   "id": "e95227c3-a252-4404-ae0f-dbea9424be00",
   "metadata": {},
   "outputs": [],
   "source": [
    "list3.append(1)"
   ]
  },
  {
   "cell_type": "code",
   "execution_count": 11,
   "id": "e11d6326-880c-4d8d-82a7-b4ac97ba95da",
   "metadata": {},
   "outputs": [],
   "source": [
    "list3.append(2)  # appends the elements to the last"
   ]
  },
  {
   "cell_type": "code",
   "execution_count": 12,
   "id": "40c46caf-2da6-4ba1-8751-d77983b9e575",
   "metadata": {},
   "outputs": [
    {
     "name": "stdout",
     "output_type": "stream",
     "text": [
      "[1.2, 3.3, 4.5, 1, 2]\n"
     ]
    }
   ],
   "source": [
    "print(list3) "
   ]
  },
  {
   "cell_type": "code",
   "execution_count": null,
   "id": "d980c7a7-9912-4963-ae03-40ff5b009353",
   "metadata": {},
   "outputs": [],
   "source": [
    "list3.clear()  # clears the list elements"
   ]
  },
  {
   "cell_type": "code",
   "execution_count": 15,
   "id": "f4ebbac0-c5e2-4af3-ae9b-7c7ae8883ba1",
   "metadata": {},
   "outputs": [],
   "source": [
    "list4 = list3.copy()  # copies the elements of list to new list . "
   ]
  },
  {
   "cell_type": "code",
   "execution_count": 16,
   "id": "3bada236-d8fb-46c0-a789-50a876322994",
   "metadata": {},
   "outputs": [
    {
     "name": "stdout",
     "output_type": "stream",
     "text": [
      "[1.2, 3.3, 4.5, 1, 2]\n"
     ]
    }
   ],
   "source": [
    "print(list4)"
   ]
  },
  {
   "cell_type": "code",
   "execution_count": 17,
   "id": "0f656f37-cc01-48b0-ac81-c8ffdc93378e",
   "metadata": {},
   "outputs": [],
   "source": [
    "list4.append(2)"
   ]
  },
  {
   "cell_type": "code",
   "execution_count": 18,
   "id": "a6d6750f-a591-42d1-844f-9f7996815848",
   "metadata": {},
   "outputs": [
    {
     "data": {
      "text/plain": [
       "2"
      ]
     },
     "execution_count": 18,
     "metadata": {},
     "output_type": "execute_result"
    }
   ],
   "source": [
    "list4.count(2) # returns the count of occurences of an element in a list"
   ]
  },
  {
   "cell_type": "code",
   "execution_count": 19,
   "id": "12b6216e-85c9-4323-a99c-90c8ea1cf2bb",
   "metadata": {},
   "outputs": [
    {
     "data": {
      "text/plain": [
       "4"
      ]
     },
     "execution_count": 19,
     "metadata": {},
     "output_type": "execute_result"
    }
   ],
   "source": [
    "list4.index(2)  # returns the index of the given element"
   ]
  },
  {
   "cell_type": "code",
   "execution_count": 20,
   "id": "002aa6bf-1cb1-4ab3-9456-0391af663ee6",
   "metadata": {},
   "outputs": [
    {
     "name": "stdout",
     "output_type": "stream",
     "text": [
      "[1.2, 3.3, 4.5, 1, 2, 2]\n"
     ]
    }
   ],
   "source": [
    "print(list4)"
   ]
  },
  {
   "cell_type": "code",
   "execution_count": 21,
   "id": "96c5722e-6c34-440d-a7e7-08bae5392e10",
   "metadata": {},
   "outputs": [
    {
     "name": "stdout",
     "output_type": "stream",
     "text": [
      "[1.2, 3.3, 3, 4.5, 1, 2, 2]\n"
     ]
    }
   ],
   "source": [
    "list4.insert(2,3)  # inserts the element before the index\n",
    "print(list4)"
   ]
  },
  {
   "cell_type": "code",
   "execution_count": 22,
   "id": "548fd29f-dfc5-4c16-a5ad-89fcad513744",
   "metadata": {},
   "outputs": [
    {
     "data": {
      "text/plain": [
       "3"
      ]
     },
     "execution_count": 22,
     "metadata": {},
     "output_type": "execute_result"
    }
   ],
   "source": [
    "list4.pop(2) # remooves the element at the index and returns the element popped"
   ]
  },
  {
   "cell_type": "code",
   "execution_count": 24,
   "id": "dbefcad8-ace8-4fe4-901e-653f286096a3",
   "metadata": {},
   "outputs": [],
   "source": [
    "list4.remove(2) # removes the element's first occurence"
   ]
  },
  {
   "cell_type": "code",
   "execution_count": 25,
   "id": "7a25141a-c59a-4c01-b83d-f625ee702d25",
   "metadata": {},
   "outputs": [
    {
     "name": "stdout",
     "output_type": "stream",
     "text": [
      "[1.2, 3.3, 4.5, 1, 2]\n"
     ]
    }
   ],
   "source": [
    "print(list4)"
   ]
  },
  {
   "cell_type": "code",
   "execution_count": 26,
   "id": "5da28a90-ecf3-4a98-86a4-7d3a673ca416",
   "metadata": {},
   "outputs": [],
   "source": [
    "list4.reverse() # reverses the elements of the list"
   ]
  },
  {
   "cell_type": "code",
   "execution_count": 27,
   "id": "758149d1-daf4-4322-831a-7f1645ba4b74",
   "metadata": {},
   "outputs": [
    {
     "name": "stdout",
     "output_type": "stream",
     "text": [
      "[2, 1, 4.5, 3.3, 1.2]\n"
     ]
    }
   ],
   "source": [
    "print(list4)"
   ]
  },
  {
   "cell_type": "code",
   "execution_count": 28,
   "id": "52c81dcd-bf26-4475-a825-52ff4b61e68d",
   "metadata": {},
   "outputs": [],
   "source": [
    "list4.sort() # sorts the elements in ascending order."
   ]
  },
  {
   "cell_type": "code",
   "execution_count": 29,
   "id": "a78aea50-5d35-410e-a4ed-377f10d8cfa4",
   "metadata": {},
   "outputs": [
    {
     "name": "stdout",
     "output_type": "stream",
     "text": [
      "[1, 1.2, 2, 3.3, 4.5]\n"
     ]
    }
   ],
   "source": [
    "print(list4)"
   ]
  },
  {
   "cell_type": "code",
   "execution_count": 31,
   "id": "3b1405f5-d58f-4116-b1bf-c1799fcc9d99",
   "metadata": {},
   "outputs": [],
   "source": [
    "list4.sort(reverse=True) # sorts the elements in the descending order . This is parameter hyper tuning"
   ]
  },
  {
   "cell_type": "code",
   "execution_count": 32,
   "id": "3329f704-cf43-47c1-97da-59dce2bdc222",
   "metadata": {},
   "outputs": [
    {
     "name": "stdout",
     "output_type": "stream",
     "text": [
      "[4.5, 3.3, 2, 1.2, 1]\n"
     ]
    }
   ],
   "source": [
    "print(list4)"
   ]
  },
  {
   "cell_type": "code",
   "execution_count": 34,
   "id": "d7c1deda-bd17-406b-9c2b-f959a59f8b6b",
   "metadata": {},
   "outputs": [
    {
     "name": "stdout",
     "output_type": "stream",
     "text": [
      "5\n"
     ]
    }
   ],
   "source": [
    "print(len(list4)) # determines the size of the list"
   ]
  },
  {
   "cell_type": "code",
   "execution_count": 35,
   "id": "73dcb86a-f69d-4884-ab39-be82b3e3f86f",
   "metadata": {},
   "outputs": [
    {
     "name": "stdout",
     "output_type": "stream",
     "text": [
      "1.2\n"
     ]
    }
   ],
   "source": [
    "print(list4[3])  #read the element of the list using index"
   ]
  },
  {
   "cell_type": "code",
   "execution_count": 36,
   "id": "70a95a72-98e8-4306-b3ea-7aad69b67490",
   "metadata": {},
   "outputs": [
    {
     "name": "stdout",
     "output_type": "stream",
     "text": [
      "1\n"
     ]
    }
   ],
   "source": [
    "print(list4[-1])  #access the last element of the list"
   ]
  },
  {
   "cell_type": "code",
   "execution_count": 37,
   "id": "a44cfb10-0356-4a7d-a956-7afc1be3e6af",
   "metadata": {},
   "outputs": [],
   "source": [
    "list5=['one','two','three','four','five','six','seven','eight']"
   ]
  },
  {
   "cell_type": "code",
   "execution_count": 38,
   "id": "f11fc90c-bf0a-4bcb-b051-1762b56de9d8",
   "metadata": {},
   "outputs": [
    {
     "name": "stdout",
     "output_type": "stream",
     "text": [
      "['one', 'two', 'three', 'four', 'five', 'six', 'seven', 'eight']\n"
     ]
    }
   ],
   "source": [
    "print(list5)"
   ]
  },
  {
   "cell_type": "markdown",
   "id": "b9a6414d-987c-432b-85d9-508a7d66fd3e",
   "metadata": {},
   "source": [
    "List Slicing"
   ]
  },
  {
   "cell_type": "code",
   "execution_count": 39,
   "id": "4b0b7ce2-b7d2-4acf-8726-c09c8c6cb242",
   "metadata": {},
   "outputs": [
    {
     "data": {
      "text/plain": [
       "['one', 'two', 'three', 'four', 'five', 'six', 'seven', 'eight']"
      ]
     },
     "execution_count": 39,
     "metadata": {},
     "output_type": "execute_result"
    }
   ],
   "source": [
    "list5[:] # prints the elements from first to last element"
   ]
  },
  {
   "cell_type": "code",
   "execution_count": 40,
   "id": "715e5915-e6c6-4860-9af4-963467bea8d7",
   "metadata": {},
   "outputs": [
    {
     "data": {
      "text/plain": [
       "['one', 'two', 'three', 'four']"
      ]
     },
     "execution_count": 40,
     "metadata": {},
     "output_type": "execute_result"
    }
   ],
   "source": [
    "list5[:4] # prints the elements from first to (n-1)th element"
   ]
  },
  {
   "cell_type": "code",
   "execution_count": 43,
   "id": "3f0faf36-c406-4002-838d-cb0426377555",
   "metadata": {},
   "outputs": [
    {
     "data": {
      "text/plain": [
       "['two', 'three', 'four', 'five']"
      ]
     },
     "execution_count": 43,
     "metadata": {},
     "output_type": "execute_result"
    }
   ],
   "source": [
    "list5[1:5]  # forward indexing list slicing"
   ]
  },
  {
   "cell_type": "code",
   "execution_count": 46,
   "id": "2bfbfda7-0731-4b44-900c-406746ca9568",
   "metadata": {},
   "outputs": [
    {
     "data": {
      "text/plain": [
       "['six', 'seven', 'eight']"
      ]
     },
     "execution_count": 46,
     "metadata": {},
     "output_type": "execute_result"
    }
   ],
   "source": [
    "list5[-3:]"
   ]
  },
  {
   "cell_type": "code",
   "execution_count": 48,
   "id": "9fab8161-3bf1-49dc-b477-c8da8e2dd643",
   "metadata": {},
   "outputs": [
    {
     "data": {
      "text/plain": [
       "[1, 2, 3, 4]"
      ]
     },
     "execution_count": 48,
     "metadata": {},
     "output_type": "execute_result"
    }
   ],
   "source": [
    "list2"
   ]
  },
  {
   "cell_type": "code",
   "execution_count": 49,
   "id": "773a1c79-2531-4db5-ab2f-6f3bebf1e6ba",
   "metadata": {},
   "outputs": [],
   "source": [
    "del list2 # deletes the list2"
   ]
  },
  {
   "cell_type": "code",
   "execution_count": 51,
   "id": "670a5a66-3fe7-4906-9f58-130a883c9cae",
   "metadata": {},
   "outputs": [
    {
     "data": {
      "text/plain": [
       "[4.5, 3.3, 2, 1.2, 1]"
      ]
     },
     "execution_count": 51,
     "metadata": {},
     "output_type": "execute_result"
    }
   ],
   "source": [
    "list4"
   ]
  },
  {
   "cell_type": "code",
   "execution_count": 52,
   "id": "1cd02497-9dc6-4f66-a555-b0c8d3ef7720",
   "metadata": {},
   "outputs": [],
   "source": [
    "list6 = list4 #creates the list with elements . ids of both the list will be same "
   ]
  },
  {
   "cell_type": "code",
   "execution_count": 54,
   "id": "cde4028b-d896-44f4-bfff-6d5c3bc00777",
   "metadata": {},
   "outputs": [
    {
     "name": "stdout",
     "output_type": "stream",
     "text": [
      "1280249032704\n",
      "1280249032704\n"
     ]
    }
   ],
   "source": [
    "print(id(list4))\n",
    "print(id(list6))"
   ]
  },
  {
   "cell_type": "code",
   "execution_count": 56,
   "id": "87157991-a3ce-41bb-9971-70d17cd90053",
   "metadata": {},
   "outputs": [
    {
     "name": "stdout",
     "output_type": "stream",
     "text": [
      "1280249032704\n",
      "1280254152448\n"
     ]
    }
   ],
   "source": [
    "list7 = list4.copy()  # copies the list to new list, ids will be different\n",
    "print(id(list4))\n",
    "print(id(list7))"
   ]
  },
  {
   "cell_type": "code",
   "execution_count": 57,
   "id": "555d1c0d-8c63-43a4-8c54-14bca970ecf2",
   "metadata": {},
   "outputs": [
    {
     "data": {
      "text/plain": [
       "[4.5,\n",
       " 3.3,\n",
       " 2,\n",
       " 1.2,\n",
       " 1,\n",
       " 'one',\n",
       " 'two',\n",
       " 'three',\n",
       " 'four',\n",
       " 'five',\n",
       " 'six',\n",
       " 'seven',\n",
       " 'eight']"
      ]
     },
     "execution_count": 57,
     "metadata": {},
     "output_type": "execute_result"
    }
   ],
   "source": [
    "list4+list5"
   ]
  },
  {
   "cell_type": "code",
   "execution_count": 58,
   "id": "7217b52c-e45b-4584-88a4-ff17ec9ed292",
   "metadata": {},
   "outputs": [],
   "source": [
    "list4.extend(list5)"
   ]
  },
  {
   "cell_type": "code",
   "execution_count": 59,
   "id": "a304eec3-5502-44e3-b1f2-f40955031455",
   "metadata": {},
   "outputs": [
    {
     "data": {
      "text/plain": [
       "[4.5,\n",
       " 3.3,\n",
       " 2,\n",
       " 1.2,\n",
       " 1,\n",
       " 'one',\n",
       " 'two',\n",
       " 'three',\n",
       " 'four',\n",
       " 'five',\n",
       " 'six',\n",
       " 'seven',\n",
       " 'eight']"
      ]
     },
     "execution_count": 59,
     "metadata": {},
     "output_type": "execute_result"
    }
   ],
   "source": [
    "list4"
   ]
  },
  {
   "cell_type": "code",
   "execution_count": 60,
   "id": "8d249bbf-79ba-44cf-8fc4-e902defce66a",
   "metadata": {},
   "outputs": [
    {
     "data": {
      "text/plain": [
       "['one', 'two', 'three', 'four', 'five', 'six', 'seven', 'eight']"
      ]
     },
     "execution_count": 60,
     "metadata": {},
     "output_type": "execute_result"
    }
   ],
   "source": [
    "list5"
   ]
  },
  {
   "cell_type": "code",
   "execution_count": 62,
   "id": "ad742245-e926-4c67-8c79-43f0339021d3",
   "metadata": {},
   "outputs": [],
   "source": [
    "list5.extend(list4) # appends list5 to list4"
   ]
  },
  {
   "cell_type": "code",
   "execution_count": 63,
   "id": "ef205dd6-937a-49ff-8c18-38dac4e92b5d",
   "metadata": {},
   "outputs": [
    {
     "data": {
      "text/plain": [
       "['one',\n",
       " 'two',\n",
       " 'three',\n",
       " 'four',\n",
       " 'five',\n",
       " 'six',\n",
       " 'seven',\n",
       " 'eight',\n",
       " 4.5,\n",
       " 3.3,\n",
       " 2,\n",
       " 1.2,\n",
       " 1,\n",
       " 'one',\n",
       " 'two',\n",
       " 'three',\n",
       " 'four',\n",
       " 'five',\n",
       " 'six',\n",
       " 'seven',\n",
       " 'eight']"
      ]
     },
     "execution_count": 63,
     "metadata": {},
     "output_type": "execute_result"
    }
   ],
   "source": [
    "list5"
   ]
  },
  {
   "cell_type": "code",
   "execution_count": 64,
   "id": "9f13b105-1453-4459-891e-846ae7faecd9",
   "metadata": {},
   "outputs": [
    {
     "data": {
      "text/plain": [
       "True"
      ]
     },
     "execution_count": 64,
     "metadata": {},
     "output_type": "execute_result"
    }
   ],
   "source": [
    "'one' in list5 # checks if one exists in list5"
   ]
  },
  {
   "cell_type": "code",
   "execution_count": 65,
   "id": "d7878265-e288-4ec4-8677-f16f06fa3db2",
   "metadata": {},
   "outputs": [
    {
     "data": {
      "text/plain": [
       "[4.5,\n",
       " 3.3,\n",
       " 2,\n",
       " 1.2,\n",
       " 1,\n",
       " 'one',\n",
       " 'two',\n",
       " 'three',\n",
       " 'four',\n",
       " 'five',\n",
       " 'six',\n",
       " 'seven',\n",
       " 'eight']"
      ]
     },
     "execution_count": 65,
     "metadata": {},
     "output_type": "execute_result"
    }
   ],
   "source": [
    "list4"
   ]
  },
  {
   "cell_type": "code",
   "execution_count": 66,
   "id": "0d25d5e6-9894-421e-9814-d3acaef2b121",
   "metadata": {},
   "outputs": [
    {
     "name": "stdout",
     "output_type": "stream",
     "text": [
      "4.5\n",
      "3.3\n",
      "2\n",
      "1.2\n",
      "1\n",
      "one\n",
      "two\n",
      "three\n",
      "four\n",
      "five\n",
      "six\n",
      "seven\n",
      "eight\n"
     ]
    }
   ],
   "source": [
    "for i in list4:  # looping list elements\n",
    "    print(i)"
   ]
  },
  {
   "cell_type": "code",
   "execution_count": 67,
   "id": "ef73bf69-22c3-4166-ad2e-ae82b9c68a1f",
   "metadata": {},
   "outputs": [
    {
     "name": "stdout",
     "output_type": "stream",
     "text": [
      "(0, 4.5)\n",
      "(1, 3.3)\n",
      "(2, 2)\n",
      "(3, 1.2)\n",
      "(4, 1)\n",
      "(5, 'one')\n",
      "(6, 'two')\n",
      "(7, 'three')\n",
      "(8, 'four')\n",
      "(9, 'five')\n",
      "(10, 'six')\n",
      "(11, 'seven')\n",
      "(12, 'eight')\n"
     ]
    }
   ],
   "source": [
    "for i in enumerate(list4): # enumerate returns the elements of the list in paired values\n",
    "    print(i)"
   ]
  },
  {
   "cell_type": "code",
   "execution_count": 68,
   "id": "18a5d2b0-467f-4f9e-8a63-adeb1ccc7983",
   "metadata": {},
   "outputs": [
    {
     "data": {
      "text/plain": [
       "True"
      ]
     },
     "execution_count": 68,
     "metadata": {},
     "output_type": "execute_result"
    }
   ],
   "source": [
    "all(list4)"
   ]
  },
  {
   "cell_type": "code",
   "execution_count": 69,
   "id": "c979fc2f-1781-4b9a-bb0e-0479491e01c0",
   "metadata": {},
   "outputs": [],
   "source": [
    "list7 = [0,1,2,4,5,6]"
   ]
  },
  {
   "cell_type": "code",
   "execution_count": 70,
   "id": "725415c6-12bc-4b76-9414-12e9ffe1b87c",
   "metadata": {},
   "outputs": [
    {
     "data": {
      "text/plain": [
       "False"
      ]
     },
     "execution_count": 70,
     "metadata": {},
     "output_type": "execute_result"
    }
   ],
   "source": [
    "all(list7) # returns True if no value is 0 in the list"
   ]
  },
  {
   "cell_type": "code",
   "execution_count": 71,
   "id": "7c85dbec-33eb-4751-9938-a8d2c15c4540",
   "metadata": {},
   "outputs": [
    {
     "data": {
      "text/plain": [
       "True"
      ]
     },
     "execution_count": 71,
     "metadata": {},
     "output_type": "execute_result"
    }
   ],
   "source": [
    "any(list7) # returns True if atleast one element is non zero"
   ]
  },
  {
   "cell_type": "code",
   "execution_count": null,
   "id": "a7ab6f6a-45dd-4aec-8660-cd2433d9c90c",
   "metadata": {},
   "outputs": [],
   "source": []
  },
  {
   "cell_type": "code",
   "execution_count": null,
   "id": "34703b53-744e-4d24-9e48-8a04aae09691",
   "metadata": {},
   "outputs": [],
   "source": []
  },
  {
   "cell_type": "code",
   "execution_count": null,
   "id": "23f3a931-88f6-49cd-9a0a-29eb1bb99dfa",
   "metadata": {},
   "outputs": [],
   "source": []
  },
  {
   "cell_type": "code",
   "execution_count": null,
   "id": "6664c728-a524-4517-ae66-04fbf33d91a8",
   "metadata": {},
   "outputs": [],
   "source": []
  },
  {
   "cell_type": "code",
   "execution_count": null,
   "id": "08a8f39a-b957-4b6e-81a4-769edbc9a6c5",
   "metadata": {},
   "outputs": [],
   "source": []
  },
  {
   "cell_type": "code",
   "execution_count": null,
   "id": "e654777f-4232-4695-a72c-353f8835aa94",
   "metadata": {},
   "outputs": [],
   "source": []
  }
 ],
 "metadata": {
  "kernelspec": {
   "display_name": "Python [conda env:base] *",
   "language": "python",
   "name": "conda-base-py"
  },
  "language_info": {
   "codemirror_mode": {
    "name": "ipython",
    "version": 3
   },
   "file_extension": ".py",
   "mimetype": "text/x-python",
   "name": "python",
   "nbconvert_exporter": "python",
   "pygments_lexer": "ipython3",
   "version": "3.12.7"
  }
 },
 "nbformat": 4,
 "nbformat_minor": 5
}
