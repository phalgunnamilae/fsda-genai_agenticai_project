{
 "cells": [
  {
   "cell_type": "code",
   "execution_count": 1,
   "id": "72193670-0712-4680-9b16-d9534445950f",
   "metadata": {},
   "outputs": [],
   "source": [
    "d1 = dict()\n",
    "d2 = {}"
   ]
  },
  {
   "cell_type": "code",
   "execution_count": 3,
   "id": "654e3a65-4896-4cd5-ac59-e89f44d73d17",
   "metadata": {},
   "outputs": [
    {
     "name": "stdout",
     "output_type": "stream",
     "text": [
      "<class 'dict'>\n",
      "<class 'dict'>\n"
     ]
    }
   ],
   "source": [
    "print(type(d1))\n",
    "print(type(d2))"
   ]
  },
  {
   "cell_type": "code",
   "execution_count": 9,
   "id": "e1c9a1c7-fa38-4858-a1c7-ea94e1aa8058",
   "metadata": {},
   "outputs": [],
   "source": [
    "d1 = {'one':1}"
   ]
  },
  {
   "cell_type": "code",
   "execution_count": 5,
   "id": "2439de95-3a0c-4466-adff-721a0e7d9337",
   "metadata": {},
   "outputs": [
    {
     "data": {
      "text/plain": [
       "{'one': 1}"
      ]
     },
     "execution_count": 5,
     "metadata": {},
     "output_type": "execute_result"
    }
   ],
   "source": [
    "d1"
   ]
  },
  {
   "cell_type": "code",
   "execution_count": 58,
   "id": "b97252c6-e3ab-4e25-9044-cdf31a6fbda1",
   "metadata": {},
   "outputs": [],
   "source": [
    "d4={'A':'one', 'B':'two', 'C':'three'}"
   ]
  },
  {
   "cell_type": "code",
   "execution_count": 7,
   "id": "accafa0d-4ef9-475d-8a9a-e7a692f1d9b4",
   "metadata": {},
   "outputs": [],
   "source": [
    "d1 = {'two':2}"
   ]
  },
  {
   "cell_type": "code",
   "execution_count": 10,
   "id": "394b5ab8-5934-462b-ac8d-0f1a1b0d7a05",
   "metadata": {},
   "outputs": [
    {
     "name": "stdout",
     "output_type": "stream",
     "text": [
      "{'one': 1}\n",
      "({'A': 'one'}, {'B': 'two'}, {'C': 'three'})\n"
     ]
    }
   ],
   "source": [
    "print(d1)\n",
    "print(d2)"
   ]
  },
  {
   "cell_type": "code",
   "execution_count": 11,
   "id": "9715c943-d772-4927-a78c-7397f5a06ea9",
   "metadata": {},
   "outputs": [
    {
     "data": {
      "text/plain": [
       "tuple"
      ]
     },
     "execution_count": 11,
     "metadata": {},
     "output_type": "execute_result"
    }
   ],
   "source": [
    "type(d2)"
   ]
  },
  {
   "cell_type": "code",
   "execution_count": 13,
   "id": "8553861b-19da-479d-a757-cd657658921b",
   "metadata": {},
   "outputs": [],
   "source": [
    "del d2"
   ]
  },
  {
   "cell_type": "code",
   "execution_count": 14,
   "id": "8c13b56b-a5ef-408e-90a4-801783afb7be",
   "metadata": {},
   "outputs": [
    {
     "data": {
      "text/plain": [
       "dict"
      ]
     },
     "execution_count": 14,
     "metadata": {},
     "output_type": "execute_result"
    }
   ],
   "source": [
    "type(d1)"
   ]
  },
  {
   "cell_type": "code",
   "execution_count": 15,
   "id": "0e2130bc-7567-411c-bf4c-acd45a9c6c30",
   "metadata": {},
   "outputs": [],
   "source": [
    "d2= {'A':'one', 'B':'two', 'C':'three'}"
   ]
  },
  {
   "cell_type": "code",
   "execution_count": 16,
   "id": "47133d09-099f-49dd-bcae-4802977950d1",
   "metadata": {},
   "outputs": [
    {
     "data": {
      "text/plain": [
       "{'A': 'one', 'B': 'two', 'C': 'three'}"
      ]
     },
     "execution_count": 16,
     "metadata": {},
     "output_type": "execute_result"
    }
   ],
   "source": [
    "d2"
   ]
  },
  {
   "cell_type": "code",
   "execution_count": 22,
   "id": "99b89321-4585-4fac-bac5-020907bf6611",
   "metadata": {},
   "outputs": [
    {
     "data": {
      "text/plain": [
       "dict_keys(['A', 'B', 'C'])"
      ]
     },
     "execution_count": 22,
     "metadata": {},
     "output_type": "execute_result"
    }
   ],
   "source": [
    "d2.keys() # fetch all keys of the dictionary"
   ]
  },
  {
   "cell_type": "code",
   "execution_count": 18,
   "id": "1e09165f-675c-4f17-880f-ff7967c92ad1",
   "metadata": {},
   "outputs": [],
   "source": [
    "d3=d2.copy() #copies all the dictionary elements to other"
   ]
  },
  {
   "cell_type": "code",
   "execution_count": 19,
   "id": "416bc33f-cc70-4bc8-8949-d5aed8e81f37",
   "metadata": {},
   "outputs": [
    {
     "data": {
      "text/plain": [
       "{'A': 'one', 'B': 'two', 'C': 'three'}"
      ]
     },
     "execution_count": 19,
     "metadata": {},
     "output_type": "execute_result"
    }
   ],
   "source": [
    "d3"
   ]
  },
  {
   "cell_type": "code",
   "execution_count": 20,
   "id": "36811b25-250d-4c51-b4d8-01c130a9c4dc",
   "metadata": {},
   "outputs": [
    {
     "data": {
      "text/plain": [
       "'one'"
      ]
     },
     "execution_count": 20,
     "metadata": {},
     "output_type": "execute_result"
    }
   ],
   "source": [
    "d3.get('A') #gets the value of the key"
   ]
  },
  {
   "cell_type": "code",
   "execution_count": 21,
   "id": "1ca7f041-193a-44bf-9981-367fd8b0e3d9",
   "metadata": {},
   "outputs": [
    {
     "data": {
      "text/plain": [
       "dict_items([('A', 'one'), ('B', 'two'), ('C', 'three')])"
      ]
     },
     "execution_count": 21,
     "metadata": {},
     "output_type": "execute_result"
    }
   ],
   "source": [
    "d3.items() #fetches all the items of the dict"
   ]
  },
  {
   "cell_type": "code",
   "execution_count": 23,
   "id": "498d457f-9c9a-48fc-a049-6ab551f6ff1d",
   "metadata": {},
   "outputs": [
    {
     "name": "stdout",
     "output_type": "stream",
     "text": [
      "one\n",
      "two\n",
      "three\n"
     ]
    }
   ],
   "source": [
    "for i in d3.keys():\n",
    "    print(d3[i])"
   ]
  },
  {
   "cell_type": "code",
   "execution_count": 24,
   "id": "6c329f3a-f91a-4ee4-bbfc-ec8cd3f3aafd",
   "metadata": {},
   "outputs": [
    {
     "data": {
      "text/plain": [
       "dict_values(['one', 'two', 'three'])"
      ]
     },
     "execution_count": 24,
     "metadata": {},
     "output_type": "execute_result"
    }
   ],
   "source": [
    "d3.values()"
   ]
  },
  {
   "cell_type": "code",
   "execution_count": 36,
   "id": "0d6e5c92-98de-4d4c-b0fc-45210447f318",
   "metadata": {},
   "outputs": [],
   "source": [
    "d3['D'] = 'four' # adds the key value element to dictionary"
   ]
  },
  {
   "cell_type": "code",
   "execution_count": 26,
   "id": "8e7ad1ab-a568-47c1-a1c0-a66337825fd0",
   "metadata": {},
   "outputs": [
    {
     "data": {
      "text/plain": [
       "{'A': 'one', 'B': 'two', 'C': 'three', 'D': 'four'}"
      ]
     },
     "execution_count": 26,
     "metadata": {},
     "output_type": "execute_result"
    }
   ],
   "source": [
    "d3"
   ]
  },
  {
   "cell_type": "code",
   "execution_count": 30,
   "id": "a11c468b-9c31-4aa2-b89d-e40685d5276b",
   "metadata": {},
   "outputs": [
    {
     "data": {
      "text/plain": [
       "'four'"
      ]
     },
     "execution_count": 30,
     "metadata": {},
     "output_type": "execute_result"
    }
   ],
   "source": [
    "d3.pop('D') # pops the element of the given key"
   ]
  },
  {
   "cell_type": "code",
   "execution_count": 37,
   "id": "0e09a92e-de83-4f6a-86a6-ebd1c2490dda",
   "metadata": {},
   "outputs": [
    {
     "data": {
      "text/plain": [
       "{'A': 'one', 'B': 'two', 'D': 'four'}"
      ]
     },
     "execution_count": 37,
     "metadata": {},
     "output_type": "execute_result"
    }
   ],
   "source": [
    "d3"
   ]
  },
  {
   "cell_type": "code",
   "execution_count": 38,
   "id": "54c31a04-1e9a-4332-b71e-2a48e13e5020",
   "metadata": {},
   "outputs": [
    {
     "data": {
      "text/plain": [
       "('D', 'four')"
      ]
     },
     "execution_count": 38,
     "metadata": {},
     "output_type": "execute_result"
    }
   ],
   "source": [
    "d3.popitem()  #deletes the last element of the dictionary and returns the deleted element"
   ]
  },
  {
   "cell_type": "code",
   "execution_count": 39,
   "id": "8787dfa8-6058-4b06-8f41-94cae405f243",
   "metadata": {},
   "outputs": [
    {
     "data": {
      "text/plain": [
       "{'A': 'one', 'B': 'two'}"
      ]
     },
     "execution_count": 39,
     "metadata": {},
     "output_type": "execute_result"
    }
   ],
   "source": [
    "d3"
   ]
  },
  {
   "cell_type": "code",
   "execution_count": 41,
   "id": "ce3947d1-d8b5-4733-aef4-fdd195af7ea7",
   "metadata": {},
   "outputs": [
    {
     "data": {
      "text/plain": [
       "True"
      ]
     },
     "execution_count": 41,
     "metadata": {},
     "output_type": "execute_result"
    }
   ],
   "source": [
    "'A' in d3  #checks if key exists in dictionary. Can be done only for keys"
   ]
  },
  {
   "cell_type": "code",
   "execution_count": 42,
   "id": "d3af1fda-4909-4188-a422-46bbe41b1642",
   "metadata": {},
   "outputs": [
    {
     "data": {
      "text/plain": [
       "{'A': 'one', 'B': 'two'}"
      ]
     },
     "execution_count": 42,
     "metadata": {},
     "output_type": "execute_result"
    }
   ],
   "source": [
    "d3"
   ]
  },
  {
   "cell_type": "code",
   "execution_count": 43,
   "id": "438ea4c2-a840-4565-bfdd-d300d927c81d",
   "metadata": {},
   "outputs": [],
   "source": [
    "d3['C'] = 'three'"
   ]
  },
  {
   "cell_type": "code",
   "execution_count": 44,
   "id": "d0489f34-892e-4bda-8e59-db0c507cb9c5",
   "metadata": {},
   "outputs": [],
   "source": [
    "d3['D'] = 'four'"
   ]
  },
  {
   "cell_type": "code",
   "execution_count": 49,
   "id": "e4590a41-08bf-4fc6-bdfc-fb19ed46f17f",
   "metadata": {},
   "outputs": [
    {
     "data": {
      "text/plain": [
       "['A', 'B', 'C', 'D']"
      ]
     },
     "execution_count": 49,
     "metadata": {},
     "output_type": "execute_result"
    }
   ],
   "source": [
    "sorted(d3)  #sort the dictionary with keys in ascendending order"
   ]
  },
  {
   "cell_type": "code",
   "execution_count": 46,
   "id": "4ca9a302-f8ad-4dd3-8a26-1bbec5fa67d9",
   "metadata": {},
   "outputs": [
    {
     "data": {
      "text/plain": [
       "['D', 'C', 'B', 'A']"
      ]
     },
     "execution_count": 46,
     "metadata": {},
     "output_type": "execute_result"
    }
   ],
   "source": [
    "sorted(d3, reverse=True)  #sort the dictionary keys in descending order"
   ]
  },
  {
   "cell_type": "code",
   "execution_count": 50,
   "id": "a1b81356-b124-4a12-8a69-0419a7531ba9",
   "metadata": {},
   "outputs": [
    {
     "data": {
      "text/plain": [
       "['four', 'one', 'three', 'two']"
      ]
     },
     "execution_count": 50,
     "metadata": {},
     "output_type": "execute_result"
    }
   ],
   "source": [
    "sorted(d3.values())  #sort the values of the dictionary values in ascending order"
   ]
  },
  {
   "cell_type": "code",
   "execution_count": 51,
   "id": "af18be52-44fb-4ff0-a32b-e6bf2025cae6",
   "metadata": {},
   "outputs": [
    {
     "data": {
      "text/plain": [
       "['two', 'three', 'one', 'four']"
      ]
     },
     "execution_count": 51,
     "metadata": {},
     "output_type": "execute_result"
    }
   ],
   "source": [
    "sorted(d3.values(), reverse=True) #sort the vaules of the dictionary in descending order"
   ]
  },
  {
   "cell_type": "code",
   "execution_count": 52,
   "id": "092d7d82-9874-4765-91de-2603fd3fe002",
   "metadata": {},
   "outputs": [
    {
     "data": {
      "text/plain": [
       "True"
      ]
     },
     "execution_count": 52,
     "metadata": {},
     "output_type": "execute_result"
    }
   ],
   "source": [
    "all(d3)"
   ]
  },
  {
   "cell_type": "code",
   "execution_count": 53,
   "id": "bd5504bb-0885-44f4-8d66-e3256382ea6e",
   "metadata": {},
   "outputs": [],
   "source": [
    "d3[0]='zero'"
   ]
  },
  {
   "cell_type": "code",
   "execution_count": 54,
   "id": "1f91d394-9c82-43cf-94d0-115e25c6c30d",
   "metadata": {},
   "outputs": [
    {
     "data": {
      "text/plain": [
       "False"
      ]
     },
     "execution_count": 54,
     "metadata": {},
     "output_type": "execute_result"
    }
   ],
   "source": [
    "all(d3) # Returns False of any of the keys is false and vice versa"
   ]
  },
  {
   "cell_type": "code",
   "execution_count": 56,
   "id": "eaf34fcc-01c6-458e-89b2-3b0dc10ea2c7",
   "metadata": {},
   "outputs": [
    {
     "data": {
      "text/plain": [
       "True"
      ]
     },
     "execution_count": 56,
     "metadata": {},
     "output_type": "execute_result"
    }
   ],
   "source": [
    "any(d3) # returns true if atleast one value is non zero"
   ]
  },
  {
   "cell_type": "code",
   "execution_count": 59,
   "id": "cbde2de3-8363-4ce5-a03b-96cade6cdc55",
   "metadata": {},
   "outputs": [
    {
     "data": {
      "text/plain": [
       "{'A': 'one', 'B': 'two', 'C': 'three', 'D': 'four', 0: 'zero'}"
      ]
     },
     "execution_count": 59,
     "metadata": {},
     "output_type": "execute_result"
    }
   ],
   "source": [
    "d3"
   ]
  },
  {
   "cell_type": "code",
   "execution_count": 60,
   "id": "7b225131-94c2-4073-a979-16dea3109b52",
   "metadata": {},
   "outputs": [],
   "source": [
    "d3['two'] = 'new two'"
   ]
  },
  {
   "cell_type": "code",
   "execution_count": 61,
   "id": "f77b2aee-354e-4a78-81b2-78007e27c902",
   "metadata": {},
   "outputs": [
    {
     "data": {
      "text/plain": [
       "{'A': 'one',\n",
       " 'B': 'two',\n",
       " 'C': 'three',\n",
       " 'D': 'four',\n",
       " 0: 'zero',\n",
       " 'two': 'new two'}"
      ]
     },
     "execution_count": 61,
     "metadata": {},
     "output_type": "execute_result"
    }
   ],
   "source": [
    "d3"
   ]
  },
  {
   "cell_type": "code",
   "execution_count": 62,
   "id": "4ad08554-e64b-4da4-8c48-8ca4bfd7bf96",
   "metadata": {},
   "outputs": [],
   "source": [
    "d3['B'] = 'new Two'  # edit the existing value"
   ]
  },
  {
   "cell_type": "code",
   "execution_count": 63,
   "id": "b6807099-78de-4197-92b2-41c4ff7351c7",
   "metadata": {},
   "outputs": [
    {
     "data": {
      "text/plain": [
       "{'A': 'one',\n",
       " 'B': 'new Two',\n",
       " 'C': 'three',\n",
       " 'D': 'four',\n",
       " 0: 'zero',\n",
       " 'two': 'new two'}"
      ]
     },
     "execution_count": 63,
     "metadata": {},
     "output_type": "execute_result"
    }
   ],
   "source": [
    "d3"
   ]
  },
  {
   "cell_type": "code",
   "execution_count": 64,
   "id": "015ae0f0-5767-4aac-9211-b46a2364e7fe",
   "metadata": {},
   "outputs": [
    {
     "data": {
      "text/plain": [
       "'new two'"
      ]
     },
     "execution_count": 64,
     "metadata": {},
     "output_type": "execute_result"
    }
   ],
   "source": [
    "d3.pop('two')"
   ]
  },
  {
   "cell_type": "code",
   "execution_count": 65,
   "id": "a7df4da5-e259-4bee-b2ca-2ab2f4a86070",
   "metadata": {},
   "outputs": [
    {
     "data": {
      "text/plain": [
       "{'A': 'one', 'B': 'new Two', 'C': 'three', 'D': 'four', 0: 'zero'}"
      ]
     },
     "execution_count": 65,
     "metadata": {},
     "output_type": "execute_result"
    }
   ],
   "source": [
    "d3"
   ]
  },
  {
   "cell_type": "code",
   "execution_count": null,
   "id": "004610b0-d870-4edb-92c6-b75580a78f69",
   "metadata": {},
   "outputs": [],
   "source": []
  }
 ],
 "metadata": {
  "kernelspec": {
   "display_name": "Python [conda env:base] *",
   "language": "python",
   "name": "conda-base-py"
  },
  "language_info": {
   "codemirror_mode": {
    "name": "ipython",
    "version": 3
   },
   "file_extension": ".py",
   "mimetype": "text/x-python",
   "name": "python",
   "nbconvert_exporter": "python",
   "pygments_lexer": "ipython3",
   "version": "3.12.7"
  }
 },
 "nbformat": 4,
 "nbformat_minor": 5
}
