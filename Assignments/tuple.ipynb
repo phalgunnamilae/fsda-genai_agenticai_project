{
 "cells": [
  {
   "cell_type": "code",
   "execution_count": 1,
   "id": "38c3e192-9e54-4454-81ed-d4f868e2dd2d",
   "metadata": {},
   "outputs": [
    {
     "data": {
      "text/plain": [
       "tuple"
      ]
     },
     "execution_count": 1,
     "metadata": {},
     "output_type": "execute_result"
    }
   ],
   "source": [
    "tup1 = ()\n",
    "type(tup1)"
   ]
  },
  {
   "cell_type": "code",
   "execution_count": 2,
   "id": "df1df3b2-f339-4b5d-b3cd-d2952b9a5057",
   "metadata": {},
   "outputs": [],
   "source": [
    "tup1 = (1,2,3)  # creation of tuple with integers"
   ]
  },
  {
   "cell_type": "code",
   "execution_count": 3,
   "id": "16994f93-fa55-4ca0-9fe6-70320b42a80d",
   "metadata": {},
   "outputs": [
    {
     "name": "stdout",
     "output_type": "stream",
     "text": [
      "(1, 2, 3)\n"
     ]
    }
   ],
   "source": [
    "print(tup1)"
   ]
  },
  {
   "cell_type": "code",
   "execution_count": 5,
   "id": "b6f8e46f-8f81-4488-88cc-41b1b04b163f",
   "metadata": {},
   "outputs": [],
   "source": [
    "tup2 = (1.3,2.3,5.4) # creation of tuple with floats"
   ]
  },
  {
   "cell_type": "code",
   "execution_count": 6,
   "id": "f844198c-3a99-4976-8c08-834a172e7135",
   "metadata": {},
   "outputs": [],
   "source": [
    "tup3 = ('one','two', 'three', 'four') #tuple with strings"
   ]
  },
  {
   "cell_type": "code",
   "execution_count": 9,
   "id": "d9327e19-53df-4ad3-9f3a-92c6b8d9b9de",
   "metadata": {},
   "outputs": [
    {
     "name": "stdout",
     "output_type": "stream",
     "text": [
      "('one', (1, 2), 'two', 1.4)\n"
     ]
    }
   ],
   "source": [
    "tup4 = ('one',(1,2),'two', 1.4) # nested tuples with different datatypes\n",
    "print(tup4)"
   ]
  },
  {
   "cell_type": "markdown",
   "id": "66f8558a-2a0b-453d-b40a-ae0214e640fc",
   "metadata": {},
   "source": [
    "tup5 = ('one', {'John', 'David'}, [1,2], 1.4, (4,5,6))"
   ]
  },
  {
   "cell_type": "code",
   "execution_count": 11,
   "id": "0c21bfdc-a75a-421f-b342-90fbabad0d55",
   "metadata": {},
   "outputs": [
    {
     "data": {
      "text/plain": [
       "5"
      ]
     },
     "execution_count": 11,
     "metadata": {},
     "output_type": "execute_result"
    }
   ],
   "source": [
    "len(tup5) # length of tuple"
   ]
  },
  {
   "cell_type": "markdown",
   "id": "831575f5-9c70-4187-9ed5-2e1ca1afe333",
   "metadata": {},
   "source": [
    "Tuple Indexing"
   ]
  },
  {
   "cell_type": "code",
   "execution_count": 17,
   "id": "f2d98515-3b08-4b6f-b277-e6f0b2b4d6b0",
   "metadata": {},
   "outputs": [
    {
     "data": {
      "text/plain": [
       "'one'"
      ]
     },
     "execution_count": 17,
     "metadata": {},
     "output_type": "execute_result"
    }
   ],
   "source": [
    "tup5[0]  #access the first element of tuple"
   ]
  },
  {
   "cell_type": "code",
   "execution_count": 14,
   "id": "39bea13f-6662-4c2f-bccb-7186dd38b1c4",
   "metadata": {},
   "outputs": [
    {
     "data": {
      "text/plain": [
       "{'David', 'John'}"
      ]
     },
     "execution_count": 14,
     "metadata": {},
     "output_type": "execute_result"
    }
   ],
   "source": [
    "tup5[1]"
   ]
  },
  {
   "cell_type": "code",
   "execution_count": 15,
   "id": "0bededc3-b3d9-460a-9254-aba5bc8139e6",
   "metadata": {},
   "outputs": [
    {
     "data": {
      "text/plain": [
       "'o'"
      ]
     },
     "execution_count": 15,
     "metadata": {},
     "output_type": "execute_result"
    }
   ],
   "source": [
    "tup5[0][0] # access the first char of first element of tuple"
   ]
  },
  {
   "cell_type": "code",
   "execution_count": 18,
   "id": "a45abac6-24b5-498a-8c4a-0bed153c8ee4",
   "metadata": {},
   "outputs": [
    {
     "data": {
      "text/plain": [
       "(4, 5, 6)"
      ]
     },
     "execution_count": 18,
     "metadata": {},
     "output_type": "execute_result"
    }
   ],
   "source": [
    "tup5[-1] #access the last element of tuple"
   ]
  },
  {
   "cell_type": "markdown",
   "id": "779f39cc-aa05-4b6b-9be8-8984917fdf55",
   "metadata": {},
   "source": [
    "Tuple Slicing"
   ]
  },
  {
   "cell_type": "code",
   "execution_count": 19,
   "id": "5cabea6f-96e8-4faa-aa48-c14daacee18b",
   "metadata": {},
   "outputs": [],
   "source": [
    "tup6=('one','two','three','four','five','six','seven','eight')"
   ]
  },
  {
   "cell_type": "code",
   "execution_count": 20,
   "id": "d0b6cfdb-40e5-4ae7-9a0c-f6bdc56af6da",
   "metadata": {},
   "outputs": [
    {
     "data": {
      "text/plain": [
       "('one', 'two', 'three', 'four', 'five', 'six', 'seven', 'eight')"
      ]
     },
     "execution_count": 20,
     "metadata": {},
     "output_type": "execute_result"
    }
   ],
   "source": [
    "tup6[:]"
   ]
  },
  {
   "cell_type": "code",
   "execution_count": 21,
   "id": "847cf5fe-9a23-4457-ac7a-9e3da83a4b8c",
   "metadata": {},
   "outputs": [
    {
     "data": {
      "text/plain": [
       "('two', 'three', 'four', 'five')"
      ]
     },
     "execution_count": 21,
     "metadata": {},
     "output_type": "execute_result"
    }
   ],
   "source": [
    "tup6[1:5]"
   ]
  },
  {
   "cell_type": "code",
   "execution_count": 25,
   "id": "152030e8-8599-4486-8204-f689cec599f2",
   "metadata": {},
   "outputs": [
    {
     "data": {
      "text/plain": [
       "('eight',)"
      ]
     },
     "execution_count": 25,
     "metadata": {},
     "output_type": "execute_result"
    }
   ],
   "source": [
    "tup6[-1:]"
   ]
  },
  {
   "cell_type": "code",
   "execution_count": 26,
   "id": "a13483d0-a447-4926-8bec-bd25d348950a",
   "metadata": {},
   "outputs": [
    {
     "data": {
      "text/plain": [
       "('one', 'two', 'three', 'four', 'five')"
      ]
     },
     "execution_count": 26,
     "metadata": {},
     "output_type": "execute_result"
    }
   ],
   "source": [
    "tup6[:-3]"
   ]
  },
  {
   "cell_type": "code",
   "execution_count": 27,
   "id": "ae9917d3-0650-4284-ab0d-1eab609d2ea5",
   "metadata": {},
   "outputs": [
    {
     "data": {
      "text/plain": [
       "('one', 'two', 'three', 'four', 'five', 'six', 'seven', 'eight')"
      ]
     },
     "execution_count": 27,
     "metadata": {},
     "output_type": "execute_result"
    }
   ],
   "source": [
    "tup6"
   ]
  },
  {
   "cell_type": "code",
   "execution_count": 28,
   "id": "815e9727-1811-471b-a806-9d9dcd4c4505",
   "metadata": {},
   "outputs": [
    {
     "ename": "TypeError",
     "evalue": "'tuple' object doesn't support item deletion",
     "output_type": "error",
     "traceback": [
      "\u001b[1;31m---------------------------------------------------------------------------\u001b[0m",
      "\u001b[1;31mTypeError\u001b[0m                                 Traceback (most recent call last)",
      "Cell \u001b[1;32mIn[28], line 1\u001b[0m\n\u001b[1;32m----> 1\u001b[0m \u001b[38;5;28;01mdel\u001b[39;00m tup6[\u001b[38;5;241m0\u001b[39m]\n",
      "\u001b[1;31mTypeError\u001b[0m: 'tuple' object doesn't support item deletion"
     ]
    }
   ],
   "source": [
    "del tup6[0] #tuple elements are immutable, cannot be updated or deleted"
   ]
  },
  {
   "cell_type": "code",
   "execution_count": 30,
   "id": "1663a854-388c-4eb5-952f-6ce47f23c501",
   "metadata": {},
   "outputs": [
    {
     "data": {
      "text/plain": [
       "(1.3, 2.3, 5.4)"
      ]
     },
     "execution_count": 30,
     "metadata": {},
     "output_type": "execute_result"
    }
   ],
   "source": [
    "tup2"
   ]
  },
  {
   "cell_type": "code",
   "execution_count": 31,
   "id": "2dc572c3-3eb4-4f85-aa7d-e866ea834e3b",
   "metadata": {},
   "outputs": [],
   "source": [
    "del tup2 #whole tuple can be deleted "
   ]
  },
  {
   "cell_type": "code",
   "execution_count": 32,
   "id": "01a33cdd-614d-476e-a706-15e4f6a54dc5",
   "metadata": {},
   "outputs": [
    {
     "ename": "NameError",
     "evalue": "name 'tup2' is not defined",
     "output_type": "error",
     "traceback": [
      "\u001b[1;31m---------------------------------------------------------------------------\u001b[0m",
      "\u001b[1;31mNameError\u001b[0m                                 Traceback (most recent call last)",
      "Cell \u001b[1;32mIn[32], line 1\u001b[0m\n\u001b[1;32m----> 1\u001b[0m tup2\n",
      "\u001b[1;31mNameError\u001b[0m: name 'tup2' is not defined"
     ]
    }
   ],
   "source": [
    "tup2"
   ]
  },
  {
   "cell_type": "markdown",
   "id": "00642b0a-ae60-416e-98dd-c719960e7d44",
   "metadata": {},
   "source": [
    "Loop through Tuple"
   ]
  },
  {
   "cell_type": "code",
   "execution_count": 33,
   "id": "8630aee5-0fb4-4556-96bb-b9181694928f",
   "metadata": {},
   "outputs": [
    {
     "data": {
      "text/plain": [
       "('one', 'two', 'three', 'four', 'five', 'six', 'seven', 'eight')"
      ]
     },
     "execution_count": 33,
     "metadata": {},
     "output_type": "execute_result"
    }
   ],
   "source": [
    "tup6"
   ]
  },
  {
   "cell_type": "code",
   "execution_count": 35,
   "id": "2340b552-e07f-4516-ac20-752024354ce3",
   "metadata": {},
   "outputs": [
    {
     "name": "stdout",
     "output_type": "stream",
     "text": [
      "one\n",
      "two\n",
      "three\n",
      "four\n",
      "five\n",
      "six\n",
      "seven\n",
      "eight\n"
     ]
    }
   ],
   "source": [
    "for i in tup6:  #loop tuples\n",
    "    print(i)"
   ]
  },
  {
   "cell_type": "code",
   "execution_count": 36,
   "id": "eccd3057-5c23-4e3d-99e2-99718a57c8ac",
   "metadata": {},
   "outputs": [
    {
     "name": "stdout",
     "output_type": "stream",
     "text": [
      "(0, 'one')\n",
      "(1, 'two')\n",
      "(2, 'three')\n",
      "(3, 'four')\n",
      "(4, 'five')\n",
      "(5, 'six')\n",
      "(6, 'seven')\n",
      "(7, 'eight')\n"
     ]
    }
   ],
   "source": [
    "for i in enumerate(tup6):\n",
    "    print(i)"
   ]
  },
  {
   "cell_type": "code",
   "execution_count": 38,
   "id": "26245306-8cbe-4957-b881-e48b51d6fbb7",
   "metadata": {},
   "outputs": [
    {
     "data": {
      "text/plain": [
       "1"
      ]
     },
     "execution_count": 38,
     "metadata": {},
     "output_type": "execute_result"
    }
   ],
   "source": [
    "tup6.count('one')  # return the times of occurence of the element"
   ]
  },
  {
   "cell_type": "code",
   "execution_count": 39,
   "id": "7aeb57cb-3ae9-4798-bbde-8dbf15866d43",
   "metadata": {},
   "outputs": [
    {
     "data": {
      "text/plain": [
       "True"
      ]
     },
     "execution_count": 39,
     "metadata": {},
     "output_type": "execute_result"
    }
   ],
   "source": [
    "'one' in tup6 #checking membership in tuple"
   ]
  },
  {
   "cell_type": "code",
   "execution_count": 40,
   "id": "d332e796-4705-41d3-b2eb-07d9aed3b7ed",
   "metadata": {},
   "outputs": [
    {
     "data": {
      "text/plain": [
       "'one'"
      ]
     },
     "execution_count": 40,
     "metadata": {},
     "output_type": "execute_result"
    }
   ],
   "source": [
    "tup6[0]"
   ]
  },
  {
   "cell_type": "code",
   "execution_count": 41,
   "id": "17d89346-27b0-4bdb-8f80-adba7a1b13e8",
   "metadata": {},
   "outputs": [
    {
     "data": {
      "text/plain": [
       "2"
      ]
     },
     "execution_count": 41,
     "metadata": {},
     "output_type": "execute_result"
    }
   ],
   "source": [
    "tup6.index('three') # returns the index of the element"
   ]
  },
  {
   "cell_type": "code",
   "execution_count": 42,
   "id": "6b104a66-5625-43af-8ad9-97ef2ed7bc54",
   "metadata": {},
   "outputs": [],
   "source": [
    "tup7 = (4,2,5,6,1,10)"
   ]
  },
  {
   "cell_type": "code",
   "execution_count": 43,
   "id": "5ea46170-4233-412a-9b08-4b273c00c565",
   "metadata": {},
   "outputs": [
    {
     "data": {
      "text/plain": [
       "[1, 2, 4, 5, 6, 10]"
      ]
     },
     "execution_count": 43,
     "metadata": {},
     "output_type": "execute_result"
    }
   ],
   "source": [
    "sorted(tup7)  #sorts the elements of the tuple in ascending order"
   ]
  },
  {
   "cell_type": "code",
   "execution_count": 44,
   "id": "1af9e8d5-2c73-45b0-9eb5-0934cb83fcfa",
   "metadata": {},
   "outputs": [
    {
     "data": {
      "text/plain": [
       "[10, 6, 5, 4, 2, 1]"
      ]
     },
     "execution_count": 44,
     "metadata": {},
     "output_type": "execute_result"
    }
   ],
   "source": [
    "sorted(tup7, reverse=True) #sorts the elements of the tuple in descending order"
   ]
  },
  {
   "cell_type": "code",
   "execution_count": 45,
   "id": "f1d4ebc0-08f5-4561-ac17-267702479e23",
   "metadata": {},
   "outputs": [],
   "source": [
    "tup8 = (1,5,3,4,10,'one','two')"
   ]
  },
  {
   "cell_type": "code",
   "execution_count": 46,
   "id": "09c5211f-b181-453f-a1e8-de2c9f7035ad",
   "metadata": {},
   "outputs": [
    {
     "data": {
      "text/plain": [
       "(1, 5, 3, 4, 10, 'one', 'two')"
      ]
     },
     "execution_count": 46,
     "metadata": {},
     "output_type": "execute_result"
    }
   ],
   "source": [
    "tup8"
   ]
  },
  {
   "cell_type": "code",
   "execution_count": 47,
   "id": "c78511a5-fe7b-4210-88d1-240155dc3908",
   "metadata": {},
   "outputs": [
    {
     "ename": "TypeError",
     "evalue": "'<' not supported between instances of 'str' and 'int'",
     "output_type": "error",
     "traceback": [
      "\u001b[1;31m---------------------------------------------------------------------------\u001b[0m",
      "\u001b[1;31mTypeError\u001b[0m                                 Traceback (most recent call last)",
      "Cell \u001b[1;32mIn[47], line 1\u001b[0m\n\u001b[1;32m----> 1\u001b[0m \u001b[38;5;28msorted\u001b[39m(tup8)\n",
      "\u001b[1;31mTypeError\u001b[0m: '<' not supported between instances of 'str' and 'int'"
     ]
    }
   ],
   "source": [
    "sorted(tup8)  #sorting can be applied only between similar data types"
   ]
  },
  {
   "cell_type": "code",
   "execution_count": null,
   "id": "09222b53-953c-467e-b9f5-12798de761c7",
   "metadata": {},
   "outputs": [],
   "source": []
  },
  {
   "cell_type": "code",
   "execution_count": null,
   "id": "192d8779-6b00-4c70-82db-465f00e1398f",
   "metadata": {},
   "outputs": [],
   "source": []
  },
  {
   "cell_type": "code",
   "execution_count": null,
   "id": "76dac065-38ae-41e8-b857-05f30b498f69",
   "metadata": {},
   "outputs": [],
   "source": []
  },
  {
   "cell_type": "code",
   "execution_count": null,
   "id": "bfe66851-6abe-4035-a0dc-a17bc4c1f602",
   "metadata": {},
   "outputs": [],
   "source": []
  },
  {
   "cell_type": "code",
   "execution_count": null,
   "id": "02201db9-b0e9-43b3-8941-a737d2f79df2",
   "metadata": {},
   "outputs": [],
   "source": []
  },
  {
   "cell_type": "code",
   "execution_count": null,
   "id": "9c3fa56e-e8bc-42ec-b124-da57a01a46d6",
   "metadata": {},
   "outputs": [],
   "source": []
  }
 ],
 "metadata": {
  "kernelspec": {
   "display_name": "Python [conda env:base] *",
   "language": "python",
   "name": "conda-base-py"
  },
  "language_info": {
   "codemirror_mode": {
    "name": "ipython",
    "version": 3
   },
   "file_extension": ".py",
   "mimetype": "text/x-python",
   "name": "python",
   "nbconvert_exporter": "python",
   "pygments_lexer": "ipython3",
   "version": "3.12.7"
  }
 },
 "nbformat": 4,
 "nbformat_minor": 5
}
