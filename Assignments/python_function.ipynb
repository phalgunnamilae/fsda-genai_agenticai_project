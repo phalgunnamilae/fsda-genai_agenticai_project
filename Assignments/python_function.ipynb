{
 "cells": [
  {
   "cell_type": "code",
   "execution_count": 3,
   "id": "d29ec287",
   "metadata": {},
   "outputs": [
    {
     "name": "stdout",
     "output_type": "stream",
     "text": [
      "11 -1\n"
     ]
    }
   ],
   "source": [
    "def add_sub(x,y):\n",
    "    a = x+y;\n",
    "    b = x-y;\n",
    "    return a,b\n",
    "a,b = add_sub(5,6)\n",
    "print(a,b)"
   ]
  },
  {
   "cell_type": "code",
   "execution_count": 5,
   "id": "f00a4373",
   "metadata": {},
   "outputs": [
    {
     "name": "stdout",
     "output_type": "stream",
     "text": [
      "(9, 1)\n",
      "<class 'tuple'>\n"
     ]
    }
   ],
   "source": [
    "def add_sub(x,y):\n",
    "    a = x+y;\n",
    "    b = x-y;\n",
    "    return a,b\n",
    "print(add_sub(5,4))\n",
    "print(type(add_sub(5,4))) # returns tuple"
   ]
  },
  {
   "cell_type": "code",
   "execution_count": null,
   "id": "579b0a2e",
   "metadata": {},
   "outputs": [],
   "source": []
  }
 ],
 "metadata": {
  "kernelspec": {
   "display_name": "base",
   "language": "python",
   "name": "python3"
  },
  "language_info": {
   "codemirror_mode": {
    "name": "ipython",
    "version": 3
   },
   "file_extension": ".py",
   "mimetype": "text/x-python",
   "name": "python",
   "nbconvert_exporter": "python",
   "pygments_lexer": "ipython3",
   "version": "3.12.7"
  }
 },
 "nbformat": 4,
 "nbformat_minor": 5
}
