{
 "cells": [
  {
   "cell_type": "code",
   "execution_count": 1,
   "id": "512991bf-7267-46c3-b446-052bdfd2169b",
   "metadata": {},
   "outputs": [],
   "source": [
    "s1 = {}"
   ]
  },
  {
   "cell_type": "code",
   "execution_count": 2,
   "id": "a9171d91-ce5a-4586-80ac-625d2f760333",
   "metadata": {},
   "outputs": [
    {
     "data": {
      "text/plain": [
       "dict"
      ]
     },
     "execution_count": 2,
     "metadata": {},
     "output_type": "execute_result"
    }
   ],
   "source": [
    "type(s1)"
   ]
  },
  {
   "cell_type": "code",
   "execution_count": 3,
   "id": "a6dbb586-a5d4-489f-b17b-ac2ea2b3e1f2",
   "metadata": {},
   "outputs": [],
   "source": [
    "s1 = set()"
   ]
  },
  {
   "cell_type": "code",
   "execution_count": 4,
   "id": "2fb93bf8-b7ee-403c-b2e4-49a1f303a4de",
   "metadata": {},
   "outputs": [
    {
     "data": {
      "text/plain": [
       "set"
      ]
     },
     "execution_count": 4,
     "metadata": {},
     "output_type": "execute_result"
    }
   ],
   "source": [
    "type(s1)"
   ]
  },
  {
   "cell_type": "code",
   "execution_count": 11,
   "id": "49efa3a7-5e28-4def-b7f4-748d6dd48b55",
   "metadata": {},
   "outputs": [],
   "source": [
    "s1.add(1) #adds the element to set"
   ]
  },
  {
   "cell_type": "code",
   "execution_count": 6,
   "id": "99799b90-5063-4cab-98f6-8f21e79292bf",
   "metadata": {},
   "outputs": [],
   "source": [
    "s1.add(2)\n",
    "s1.add('one')"
   ]
  },
  {
   "cell_type": "code",
   "execution_count": 7,
   "id": "fc030364-fdf9-4c3c-bdb0-ccfed5c9e115",
   "metadata": {},
   "outputs": [
    {
     "data": {
      "text/plain": [
       "{1, 2, 'one'}"
      ]
     },
     "execution_count": 7,
     "metadata": {},
     "output_type": "execute_result"
    }
   ],
   "source": [
    "s1"
   ]
  },
  {
   "cell_type": "code",
   "execution_count": 10,
   "id": "b451bf2e-5a0b-4785-bc82-391db947d653",
   "metadata": {},
   "outputs": [],
   "source": [
    "s1.clear()  # clears all the elements of the set"
   ]
  },
  {
   "cell_type": "code",
   "execution_count": 9,
   "id": "1951d09e-086e-49b3-a284-dd9e81aeb22f",
   "metadata": {},
   "outputs": [
    {
     "data": {
      "text/plain": [
       "set()"
      ]
     },
     "execution_count": 9,
     "metadata": {},
     "output_type": "execute_result"
    }
   ],
   "source": [
    "s1"
   ]
  },
  {
   "cell_type": "code",
   "execution_count": 12,
   "id": "1fb202dd-f7c6-4f6d-95c0-050f214f0af5",
   "metadata": {},
   "outputs": [],
   "source": [
    "del s1 #deletes the set"
   ]
  },
  {
   "cell_type": "code",
   "execution_count": 13,
   "id": "e14944bc-40cd-4523-a18c-c0bec33b82e0",
   "metadata": {},
   "outputs": [
    {
     "ename": "NameError",
     "evalue": "name 's1' is not defined",
     "output_type": "error",
     "traceback": [
      "\u001b[1;31m---------------------------------------------------------------------------\u001b[0m",
      "\u001b[1;31mNameError\u001b[0m                                 Traceback (most recent call last)",
      "Cell \u001b[1;32mIn[13], line 1\u001b[0m\n\u001b[1;32m----> 1\u001b[0m s1\n",
      "\u001b[1;31mNameError\u001b[0m: name 's1' is not defined"
     ]
    }
   ],
   "source": [
    "s1"
   ]
  },
  {
   "cell_type": "code",
   "execution_count": 14,
   "id": "109dc631-bc8c-48a2-8025-2ba47e102d20",
   "metadata": {},
   "outputs": [],
   "source": [
    "s1 = set()"
   ]
  },
  {
   "cell_type": "code",
   "execution_count": 15,
   "id": "4cce409e-cf5f-4273-a6bb-fd929e2be760",
   "metadata": {},
   "outputs": [
    {
     "data": {
      "text/plain": [
       "set"
      ]
     },
     "execution_count": 15,
     "metadata": {},
     "output_type": "execute_result"
    }
   ],
   "source": [
    "type(s1)"
   ]
  },
  {
   "cell_type": "code",
   "execution_count": 16,
   "id": "2ffcba5e-a11a-4460-9052-cd8a2673bdb0",
   "metadata": {},
   "outputs": [],
   "source": [
    "s1.add('one')\n",
    "s1.add('two')\n",
    "s1.add('three')\n",
    "s1.add('four')"
   ]
  },
  {
   "cell_type": "code",
   "execution_count": 17,
   "id": "578fbe0b-3bfa-4311-a6b1-0a040edf04df",
   "metadata": {},
   "outputs": [
    {
     "data": {
      "text/plain": [
       "{'four', 'one', 'three', 'two'}"
      ]
     },
     "execution_count": 17,
     "metadata": {},
     "output_type": "execute_result"
    }
   ],
   "source": [
    "s1"
   ]
  },
  {
   "cell_type": "code",
   "execution_count": 22,
   "id": "87e36231-35f0-498d-babc-2bb0b4bcc862",
   "metadata": {},
   "outputs": [],
   "source": [
    "s2= s1.copy() #copies the elements of one set to other new set"
   ]
  },
  {
   "cell_type": "code",
   "execution_count": 19,
   "id": "c55b39ed-7df2-44a6-95ea-1c910666101a",
   "metadata": {},
   "outputs": [
    {
     "data": {
      "text/plain": [
       "{'four', 'one', 'three', 'two'}"
      ]
     },
     "execution_count": 19,
     "metadata": {},
     "output_type": "execute_result"
    }
   ],
   "source": [
    "s2"
   ]
  },
  {
   "cell_type": "code",
   "execution_count": 21,
   "id": "4035fb47-a9c2-45bd-9810-0953d2b7d7df",
   "metadata": {},
   "outputs": [
    {
     "name": "stdout",
     "output_type": "stream",
     "text": [
      "1971706539680\n",
      "1971706983392\n"
     ]
    }
   ],
   "source": [
    "print(id(s1))\n",
    "print(id(s2))"
   ]
  },
  {
   "cell_type": "code",
   "execution_count": 26,
   "id": "5fe1d800-54fb-464a-b6ec-32c6f2a42d3b",
   "metadata": {},
   "outputs": [],
   "source": [
    "s3=s1  #copies the elements of one set to other, but new set points to same address"
   ]
  },
  {
   "cell_type": "code",
   "execution_count": 24,
   "id": "3fad2400-7b02-496c-91a9-3d357b7db4fc",
   "metadata": {},
   "outputs": [
    {
     "data": {
      "text/plain": [
       "{'four', 'one', 'three', 'two'}"
      ]
     },
     "execution_count": 24,
     "metadata": {},
     "output_type": "execute_result"
    }
   ],
   "source": [
    "s3"
   ]
  },
  {
   "cell_type": "code",
   "execution_count": 25,
   "id": "72115025-b012-485f-9c4f-1059c73ba79c",
   "metadata": {},
   "outputs": [
    {
     "name": "stdout",
     "output_type": "stream",
     "text": [
      "1971706539680\n",
      "1971706539680\n"
     ]
    }
   ],
   "source": [
    "print(id(s3))\n",
    "print(id(s1))"
   ]
  },
  {
   "cell_type": "code",
   "execution_count": 27,
   "id": "2a4888a6-eb68-42db-bc82-826b985f62c9",
   "metadata": {},
   "outputs": [
    {
     "data": {
      "text/plain": [
       "{'four', 'one', 'three', 'two'}"
      ]
     },
     "execution_count": 27,
     "metadata": {},
     "output_type": "execute_result"
    }
   ],
   "source": [
    "s1"
   ]
  },
  {
   "cell_type": "code",
   "execution_count": 28,
   "id": "b380c1ca-f0a3-4f58-a7aa-7f5cd231fbe4",
   "metadata": {},
   "outputs": [],
   "source": [
    "s4 = set()"
   ]
  },
  {
   "cell_type": "code",
   "execution_count": 29,
   "id": "6e295371-fa44-4a79-ab40-15b5fef019ba",
   "metadata": {},
   "outputs": [],
   "source": [
    "s4.add(1)\n",
    "s4.add(2)\n",
    "s4.add(3)\n",
    "s4.add(4)"
   ]
  },
  {
   "cell_type": "code",
   "execution_count": 30,
   "id": "6cdeacf9-6c81-4858-b96c-e4d622fad122",
   "metadata": {},
   "outputs": [],
   "source": [
    "s5=set()"
   ]
  },
  {
   "cell_type": "code",
   "execution_count": 31,
   "id": "5dcf8151-6406-4743-aa13-6856ef71a540",
   "metadata": {},
   "outputs": [],
   "source": [
    "s5.add(3)\n",
    "s5.add(4)\n",
    "s5.add(5)\n",
    "s5.add(6)\n",
    "s5.add(7)"
   ]
  },
  {
   "cell_type": "code",
   "execution_count": 32,
   "id": "5ca56199-009c-4ad2-a0c9-a4a19b3aace9",
   "metadata": {},
   "outputs": [],
   "source": [
    "s6 = set()"
   ]
  },
  {
   "cell_type": "code",
   "execution_count": 35,
   "id": "2f9b39fd-9266-4f53-b769-2bf2ec9a7e0a",
   "metadata": {},
   "outputs": [],
   "source": [
    "s6.add('one')\n",
    "s6.add('two')\n",
    "s6.add('three')"
   ]
  },
  {
   "cell_type": "code",
   "execution_count": 36,
   "id": "2251e504-11e2-4e31-8583-f03e83f06e5d",
   "metadata": {},
   "outputs": [
    {
     "data": {
      "text/plain": [
       "{'one', 'three', 'two'}"
      ]
     },
     "execution_count": 36,
     "metadata": {},
     "output_type": "execute_result"
    }
   ],
   "source": [
    "s6"
   ]
  },
  {
   "cell_type": "code",
   "execution_count": 38,
   "id": "0c0510fc-b3b5-445d-86f6-53963ab7b146",
   "metadata": {},
   "outputs": [
    {
     "data": {
      "text/plain": [
       "{1, 2}"
      ]
     },
     "execution_count": 38,
     "metadata": {},
     "output_type": "execute_result"
    }
   ],
   "source": [
    "s4.difference(s5)  #returns the elements of left side set with uncommon values"
   ]
  },
  {
   "cell_type": "code",
   "execution_count": 40,
   "id": "b23aefb3-e172-4340-97df-81e413cc92a7",
   "metadata": {},
   "outputs": [
    {
     "data": {
      "text/plain": [
       "{5, 6, 7}"
      ]
     },
     "execution_count": 40,
     "metadata": {},
     "output_type": "execute_result"
    }
   ],
   "source": [
    "s5.difference(s4) #returns the elements of left side set with uncommon values"
   ]
  },
  {
   "cell_type": "code",
   "execution_count": 43,
   "id": "8ae9d591-2066-47e0-b91f-b894215c6315",
   "metadata": {},
   "outputs": [],
   "source": [
    "s4.discard(10) #deletes the element if exists , doesnt return error if it doesnt exist"
   ]
  },
  {
   "cell_type": "code",
   "execution_count": 42,
   "id": "34e8ee20-2c11-46fe-b49f-63757d0b0645",
   "metadata": {},
   "outputs": [
    {
     "data": {
      "text/plain": [
       "{1, 2, 3, 4}"
      ]
     },
     "execution_count": 42,
     "metadata": {},
     "output_type": "execute_result"
    }
   ],
   "source": [
    "s4"
   ]
  },
  {
   "cell_type": "code",
   "execution_count": 45,
   "id": "078af7bb-aaeb-4aff-a45e-c143a22ef88b",
   "metadata": {},
   "outputs": [
    {
     "ename": "KeyError",
     "evalue": "10",
     "output_type": "error",
     "traceback": [
      "\u001b[1;31m---------------------------------------------------------------------------\u001b[0m",
      "\u001b[1;31mKeyError\u001b[0m                                  Traceback (most recent call last)",
      "Cell \u001b[1;32mIn[45], line 1\u001b[0m\n\u001b[1;32m----> 1\u001b[0m s4\u001b[38;5;241m.\u001b[39mremove(\u001b[38;5;241m10\u001b[39m)\n",
      "\u001b[1;31mKeyError\u001b[0m: 10"
     ]
    }
   ],
   "source": [
    "s4.remove(10) # deletes the given element. if element doesnt exist returns the error"
   ]
  },
  {
   "cell_type": "code",
   "execution_count": 46,
   "id": "42c19b7b-98f2-42fb-ad96-9880248fb070",
   "metadata": {},
   "outputs": [],
   "source": [
    "s4.remove(4)"
   ]
  },
  {
   "cell_type": "code",
   "execution_count": 47,
   "id": "d4960c59-af2e-4f03-a69f-ba9613542715",
   "metadata": {},
   "outputs": [
    {
     "data": {
      "text/plain": [
       "{1, 2, 3}"
      ]
     },
     "execution_count": 47,
     "metadata": {},
     "output_type": "execute_result"
    }
   ],
   "source": [
    "s4"
   ]
  },
  {
   "cell_type": "code",
   "execution_count": 49,
   "id": "678e3cea-676d-41aa-8746-b62da9e2ea2f",
   "metadata": {},
   "outputs": [
    {
     "data": {
      "text/plain": [
       "{3}"
      ]
     },
     "execution_count": 49,
     "metadata": {},
     "output_type": "execute_result"
    }
   ],
   "source": [
    "s4.intersection(s5) # returns the common elements between s4 and s5"
   ]
  },
  {
   "cell_type": "code",
   "execution_count": 53,
   "id": "92393e14-e41d-4b35-94f6-6686b5c8fb9d",
   "metadata": {},
   "outputs": [
    {
     "data": {
      "text/plain": [
       "True"
      ]
     },
     "execution_count": 53,
     "metadata": {},
     "output_type": "execute_result"
    }
   ],
   "source": [
    "s4.isdisjoint(s6)  # returns True if none of the elements of s4 exists in s6"
   ]
  },
  {
   "cell_type": "code",
   "execution_count": 52,
   "id": "53d2850a-de30-4db6-ad20-f716b84ce194",
   "metadata": {},
   "outputs": [
    {
     "data": {
      "text/plain": [
       "False"
      ]
     },
     "execution_count": 52,
     "metadata": {},
     "output_type": "execute_result"
    }
   ],
   "source": [
    "s4.isdisjoint(s5) # returns False if alteast one element is common amongst the two sets"
   ]
  },
  {
   "cell_type": "code",
   "execution_count": 54,
   "id": "377a0acd-4cff-496f-8920-27628c1ea35d",
   "metadata": {},
   "outputs": [
    {
     "data": {
      "text/plain": [
       "False"
      ]
     },
     "execution_count": 54,
     "metadata": {},
     "output_type": "execute_result"
    }
   ],
   "source": [
    "s4.issubset(s5)"
   ]
  },
  {
   "cell_type": "code",
   "execution_count": 55,
   "id": "a6055dff-22ef-44eb-8d1e-abae58e1bf29",
   "metadata": {},
   "outputs": [
    {
     "name": "stdout",
     "output_type": "stream",
     "text": [
      "{1, 2, 3}\n",
      "{3, 4, 5, 6, 7}\n",
      "{'two', 'three', 'one'}\n"
     ]
    }
   ],
   "source": [
    "print(s4)\n",
    "print(s5)\n",
    "print(s6)"
   ]
  },
  {
   "cell_type": "code",
   "execution_count": 56,
   "id": "e3929dd1-b47b-49e0-8066-63cd52474d7c",
   "metadata": {},
   "outputs": [],
   "source": [
    "s7 = set()"
   ]
  },
  {
   "cell_type": "code",
   "execution_count": 57,
   "id": "3ea20086-5e3c-43ff-a50b-b3850a63850f",
   "metadata": {},
   "outputs": [],
   "source": [
    "s7.add(1)\n",
    "s7.add(2)\n",
    "s7.add(3)\n",
    "s7.add(4)\n",
    "s7.add(5)\n",
    "s7.add(6)\n",
    "s7.add(7)"
   ]
  },
  {
   "cell_type": "code",
   "execution_count": 58,
   "id": "08cc457e-126a-4828-896e-934ecd010e49",
   "metadata": {},
   "outputs": [
    {
     "data": {
      "text/plain": [
       "True"
      ]
     },
     "execution_count": 58,
     "metadata": {},
     "output_type": "execute_result"
    }
   ],
   "source": [
    "s4.issubset(s7) #returns True if s4 is subset of s7"
   ]
  },
  {
   "cell_type": "code",
   "execution_count": 59,
   "id": "b4097d84-a147-496f-a7fa-030aae18dff5",
   "metadata": {},
   "outputs": [
    {
     "data": {
      "text/plain": [
       "False"
      ]
     },
     "execution_count": 59,
     "metadata": {},
     "output_type": "execute_result"
    }
   ],
   "source": [
    "s7.issubset(s4)"
   ]
  },
  {
   "cell_type": "code",
   "execution_count": 60,
   "id": "3d68bd03-fc7a-4413-97eb-be2a267c5f79",
   "metadata": {},
   "outputs": [
    {
     "data": {
      "text/plain": [
       "True"
      ]
     },
     "execution_count": 60,
     "metadata": {},
     "output_type": "execute_result"
    }
   ],
   "source": [
    "s7.issuperset(s4) #returns True if s7 is superset of s4"
   ]
  },
  {
   "cell_type": "code",
   "execution_count": 62,
   "id": "f8e53035-3c62-40f0-b583-9a23fd28a33b",
   "metadata": {},
   "outputs": [
    {
     "data": {
      "text/plain": [
       "1"
      ]
     },
     "execution_count": 62,
     "metadata": {},
     "output_type": "execute_result"
    }
   ],
   "source": [
    "s7.pop() "
   ]
  },
  {
   "cell_type": "code",
   "execution_count": 63,
   "id": "9619adcb-8241-4f3d-9e18-93dca75ceb0e",
   "metadata": {},
   "outputs": [
    {
     "data": {
      "text/plain": [
       "{2, 3, 4, 5, 6, 7}"
      ]
     },
     "execution_count": 63,
     "metadata": {},
     "output_type": "execute_result"
    }
   ],
   "source": [
    "s7"
   ]
  },
  {
   "cell_type": "code",
   "execution_count": 66,
   "id": "90f6e30c-a210-4e80-a3d9-c4a963ab3d82",
   "metadata": {},
   "outputs": [
    {
     "data": {
      "text/plain": [
       "3"
      ]
     },
     "execution_count": 66,
     "metadata": {},
     "output_type": "execute_result"
    }
   ],
   "source": [
    "s7.pop()  # returns the first element of the set"
   ]
  },
  {
   "cell_type": "code",
   "execution_count": 67,
   "id": "72c8a88b-6adc-4ccf-87b5-7036cc3122f6",
   "metadata": {},
   "outputs": [
    {
     "data": {
      "text/plain": [
       "{1, 2, 3, 4, 5, 6, 7}"
      ]
     },
     "execution_count": 67,
     "metadata": {},
     "output_type": "execute_result"
    }
   ],
   "source": [
    "s4.union(s7)"
   ]
  },
  {
   "cell_type": "code",
   "execution_count": 68,
   "id": "65e4dbe5-dc0f-4db3-bc13-8f33de0bd7b9",
   "metadata": {},
   "outputs": [],
   "source": [
    "s8 = set()"
   ]
  },
  {
   "cell_type": "code",
   "execution_count": 69,
   "id": "87ed4093-c3fe-4311-8845-8bb59d7166d0",
   "metadata": {},
   "outputs": [],
   "source": [
    "s8.add(8)\n",
    "s8.add(9)\n",
    "s8.add(10)"
   ]
  },
  {
   "cell_type": "code",
   "execution_count": 70,
   "id": "df0be02d-32b9-4c2e-b346-89d654c1225d",
   "metadata": {},
   "outputs": [
    {
     "data": {
      "text/plain": [
       "{8, 9, 10}"
      ]
     },
     "execution_count": 70,
     "metadata": {},
     "output_type": "execute_result"
    }
   ],
   "source": [
    "s8"
   ]
  },
  {
   "cell_type": "code",
   "execution_count": 71,
   "id": "d6ef64ce-5b70-4e74-9795-f14b458f9cf6",
   "metadata": {},
   "outputs": [
    {
     "data": {
      "text/plain": [
       "{4, 5, 6, 7, 8, 9, 10}"
      ]
     },
     "execution_count": 71,
     "metadata": {},
     "output_type": "execute_result"
    }
   ],
   "source": [
    "s7.union(s8)"
   ]
  },
  {
   "cell_type": "code",
   "execution_count": 73,
   "id": "692450c4-e77a-406d-9c6e-5a2fd3bd4103",
   "metadata": {},
   "outputs": [
    {
     "name": "stdout",
     "output_type": "stream",
     "text": [
      "{1, 2, 3}\n",
      "{4, 5, 6, 7}\n",
      "{8, 9, 10}\n"
     ]
    }
   ],
   "source": [
    "print(s4)\n",
    "print(s7)\n",
    "print(s8)"
   ]
  },
  {
   "cell_type": "code",
   "execution_count": 74,
   "id": "ba9eb537-9b08-4e1f-9bba-7bf280acfd5c",
   "metadata": {},
   "outputs": [],
   "source": [
    "s4.add(4)\n",
    "s4.add(5)"
   ]
  },
  {
   "cell_type": "code",
   "execution_count": 75,
   "id": "0f7e9468-46c0-4c34-9ad2-14d3c4a23577",
   "metadata": {},
   "outputs": [
    {
     "name": "stdout",
     "output_type": "stream",
     "text": [
      "{1, 2, 3, 4, 5}\n"
     ]
    }
   ],
   "source": [
    "print(s4)"
   ]
  },
  {
   "cell_type": "code",
   "execution_count": 77,
   "id": "aea9b714-8173-4d75-92fc-cf53938a9498",
   "metadata": {},
   "outputs": [
    {
     "data": {
      "text/plain": [
       "{4, 5}"
      ]
     },
     "execution_count": 77,
     "metadata": {},
     "output_type": "execute_result"
    }
   ],
   "source": [
    "s4.intersection(s7) #returns the common elements of s4 and s7"
   ]
  },
  {
   "cell_type": "code",
   "execution_count": 79,
   "id": "823260bd-a16f-406a-9a97-1b4199b5135f",
   "metadata": {},
   "outputs": [
    {
     "data": {
      "text/plain": [
       "{1, 2, 3, 6, 7}"
      ]
     },
     "execution_count": 79,
     "metadata": {},
     "output_type": "execute_result"
    }
   ],
   "source": [
    "s4.symmetric_difference(s7)  # retruns the uncommon elements of both sets"
   ]
  },
  {
   "cell_type": "code",
   "execution_count": 82,
   "id": "3ad83688-5628-4ccc-8372-aad3eab80353",
   "metadata": {},
   "outputs": [],
   "source": [
    "s4.difference_update(s7) # identifies the difference between the sets and updates on left set"
   ]
  },
  {
   "cell_type": "code",
   "execution_count": 83,
   "id": "61a5dfe3-3fa2-4a5a-8c8b-6ab298faaee9",
   "metadata": {},
   "outputs": [
    {
     "data": {
      "text/plain": [
       "{1, 2, 3}"
      ]
     },
     "execution_count": 83,
     "metadata": {},
     "output_type": "execute_result"
    }
   ],
   "source": [
    "s4"
   ]
  },
  {
   "cell_type": "code",
   "execution_count": 84,
   "id": "e0404d98-e90b-4ab7-9a5c-9d8251a1cc59",
   "metadata": {},
   "outputs": [
    {
     "name": "stdout",
     "output_type": "stream",
     "text": [
      "{1, 2, 3}\n",
      "{4, 5, 6, 7}\n",
      "{8, 9, 10}\n"
     ]
    }
   ],
   "source": [
    "print(s4)\n",
    "print(s7)\n",
    "print(s8)"
   ]
  },
  {
   "cell_type": "code",
   "execution_count": 85,
   "id": "a6ddacb0-0cbc-4735-9504-6c3c210bee4e",
   "metadata": {},
   "outputs": [],
   "source": [
    "s4.add(4)\n",
    "s4.add(5)"
   ]
  },
  {
   "cell_type": "code",
   "execution_count": 86,
   "id": "ccf171cc-78ad-415c-bd07-fbab58f01d62",
   "metadata": {},
   "outputs": [
    {
     "name": "stdout",
     "output_type": "stream",
     "text": [
      "{1, 2, 3, 4, 5}\n",
      "{4, 5, 6, 7}\n",
      "{8, 9, 10}\n"
     ]
    }
   ],
   "source": [
    "print(s4)\n",
    "print(s7)\n",
    "print(s8)"
   ]
  },
  {
   "cell_type": "code",
   "execution_count": 89,
   "id": "b595501f-2f27-43e4-bd1d-94d2ee20e10a",
   "metadata": {},
   "outputs": [],
   "source": [
    "s4.intersection_update(s7) #identifies the common values between the sets and updates to left side set"
   ]
  },
  {
   "cell_type": "code",
   "execution_count": 88,
   "id": "92de87aa-5c31-4081-9459-60e808446a0d",
   "metadata": {},
   "outputs": [
    {
     "data": {
      "text/plain": [
       "{4, 5}"
      ]
     },
     "execution_count": 88,
     "metadata": {},
     "output_type": "execute_result"
    }
   ],
   "source": [
    "s4"
   ]
  },
  {
   "cell_type": "code",
   "execution_count": 90,
   "id": "60e589b8-6e6a-4508-a515-bdffe8cfcc15",
   "metadata": {},
   "outputs": [
    {
     "name": "stdout",
     "output_type": "stream",
     "text": [
      "{4, 5}\n",
      "{4, 5, 6, 7}\n",
      "{8, 9, 10}\n"
     ]
    }
   ],
   "source": [
    "print(s4)\n",
    "print(s7)\n",
    "print(s8)"
   ]
  },
  {
   "cell_type": "code",
   "execution_count": 91,
   "id": "19eda56c-b398-46cd-bd15-ed2a79b5e3e9",
   "metadata": {},
   "outputs": [
    {
     "data": {
      "text/plain": [
       "{6, 7}"
      ]
     },
     "execution_count": 91,
     "metadata": {},
     "output_type": "execute_result"
    }
   ],
   "source": [
    "s7.symmetric_difference(s4) "
   ]
  },
  {
   "cell_type": "code",
   "execution_count": 98,
   "id": "112e158f-9285-478f-9ee0-f42fb753c0ea",
   "metadata": {},
   "outputs": [],
   "source": [
    "s4.symmetric_difference_update(s7) # updates the difference of both the sets to left side set"
   ]
  },
  {
   "cell_type": "code",
   "execution_count": 93,
   "id": "51915e12-75bc-4694-bf2f-2e9a94afcf0f",
   "metadata": {},
   "outputs": [
    {
     "data": {
      "text/plain": [
       "{6, 7}"
      ]
     },
     "execution_count": 93,
     "metadata": {},
     "output_type": "execute_result"
    }
   ],
   "source": [
    "s4"
   ]
  },
  {
   "cell_type": "code",
   "execution_count": 105,
   "id": "93696dc2-d725-490b-806c-5e878764c01b",
   "metadata": {},
   "outputs": [],
   "source": [
    "s7.update(s6) #adds multiple elements to set"
   ]
  },
  {
   "cell_type": "code",
   "execution_count": 97,
   "id": "a81eb019-ef23-4c82-bad3-9ceb760c17a2",
   "metadata": {},
   "outputs": [
    {
     "data": {
      "text/plain": [
       "{4, 5, 6, 7, 'one', 'three', 'two'}"
      ]
     },
     "execution_count": 97,
     "metadata": {},
     "output_type": "execute_result"
    }
   ],
   "source": [
    "s7"
   ]
  },
  {
   "cell_type": "code",
   "execution_count": 100,
   "id": "090b6a5b-e091-4462-98c3-2e03d1d3fd54",
   "metadata": {},
   "outputs": [
    {
     "data": {
      "text/plain": [
       "7"
      ]
     },
     "execution_count": 100,
     "metadata": {},
     "output_type": "execute_result"
    }
   ],
   "source": [
    "len(s7) # returns the lenght of set"
   ]
  },
  {
   "cell_type": "markdown",
   "id": "33307f2b-f930-4d7d-ba75-21a2b5bd4ad2",
   "metadata": {},
   "source": [
    "Loops in sets"
   ]
  },
  {
   "cell_type": "code",
   "execution_count": 101,
   "id": "12f36627-a78f-41d4-bd74-7bcdcd3e397a",
   "metadata": {},
   "outputs": [
    {
     "name": "stdout",
     "output_type": "stream",
     "text": [
      "4\n",
      "5\n",
      "6\n",
      "7\n",
      "one\n",
      "three\n",
      "two\n"
     ]
    }
   ],
   "source": [
    "for i in s7:\n",
    "    print(i)"
   ]
  },
  {
   "cell_type": "code",
   "execution_count": 102,
   "id": "617650a4-7743-41d8-a94a-5f2dd6ec33f7",
   "metadata": {},
   "outputs": [
    {
     "name": "stdout",
     "output_type": "stream",
     "text": [
      "(0, 4)\n",
      "(1, 5)\n",
      "(2, 6)\n",
      "(3, 7)\n",
      "(4, 'one')\n",
      "(5, 'three')\n",
      "(6, 'two')\n"
     ]
    }
   ],
   "source": [
    "for i in enumerate(s7):\n",
    "    print(i)"
   ]
  },
  {
   "cell_type": "code",
   "execution_count": 104,
   "id": "f51f6e75-3d6d-4db6-b595-b0bcc7b13103",
   "metadata": {},
   "outputs": [
    {
     "data": {
      "text/plain": [
       "True"
      ]
     },
     "execution_count": 104,
     "metadata": {},
     "output_type": "execute_result"
    }
   ],
   "source": [
    "'one' in s7 #membership in set"
   ]
  },
  {
   "cell_type": "code",
   "execution_count": 107,
   "id": "ce8602f2-708d-4823-83f4-9bb5fd92a6bc",
   "metadata": {},
   "outputs": [
    {
     "ename": "TypeError",
     "evalue": "unsupported operand type(s) for +: 'int' and 'str'",
     "output_type": "error",
     "traceback": [
      "\u001b[1;31m---------------------------------------------------------------------------\u001b[0m",
      "\u001b[1;31mTypeError\u001b[0m                                 Traceback (most recent call last)",
      "Cell \u001b[1;32mIn[107], line 1\u001b[0m\n\u001b[1;32m----> 1\u001b[0m \u001b[38;5;28msum\u001b[39m(s7)\n",
      "\u001b[1;31mTypeError\u001b[0m: unsupported operand type(s) for +: 'int' and 'str'"
     ]
    }
   ],
   "source": [
    "sum(s7) #sum works if set has similar data types"
   ]
  },
  {
   "cell_type": "code",
   "execution_count": 109,
   "id": "03e69d38-0ae5-424e-9d40-968ccc68e2df",
   "metadata": {},
   "outputs": [
    {
     "data": {
      "text/plain": [
       "{'one', 'three', 'two'}"
      ]
     },
     "execution_count": 109,
     "metadata": {},
     "output_type": "execute_result"
    }
   ],
   "source": [
    "s6"
   ]
  },
  {
   "cell_type": "code",
   "execution_count": 121,
   "id": "f894070f-74b1-40de-86fb-ac6d0f73a1c9",
   "metadata": {},
   "outputs": [
    {
     "ename": "TypeError",
     "evalue": "unsupported operand type(s) for +: 'int' and 'str'",
     "output_type": "error",
     "traceback": [
      "\u001b[1;31m---------------------------------------------------------------------------\u001b[0m",
      "\u001b[1;31mTypeError\u001b[0m                                 Traceback (most recent call last)",
      "Cell \u001b[1;32mIn[121], line 1\u001b[0m\n\u001b[1;32m----> 1\u001b[0m \u001b[38;5;28msum\u001b[39m(s6)\n",
      "\u001b[1;31mTypeError\u001b[0m: unsupported operand type(s) for +: 'int' and 'str'"
     ]
    }
   ],
   "source": [
    "sum(s6)  #sum doesnt work with non numerical values"
   ]
  },
  {
   "cell_type": "code",
   "execution_count": 111,
   "id": "afabb700-1481-41d2-9681-779bed6d71e5",
   "metadata": {},
   "outputs": [
    {
     "data": {
      "text/plain": [
       "{4, 5, 6, 7, 'one', 'three', 'two'}"
      ]
     },
     "execution_count": 111,
     "metadata": {},
     "output_type": "execute_result"
    }
   ],
   "source": [
    "s7"
   ]
  },
  {
   "cell_type": "code",
   "execution_count": 116,
   "id": "ed114570-a1a9-4e04-be78-1728d9c6086a",
   "metadata": {},
   "outputs": [
    {
     "data": {
      "text/plain": [
       "{3, 4, 5, 6, 7}"
      ]
     },
     "execution_count": 116,
     "metadata": {},
     "output_type": "execute_result"
    }
   ],
   "source": [
    "s5"
   ]
  },
  {
   "cell_type": "code",
   "execution_count": 117,
   "id": "5cd1c30f-4021-4570-8a55-b86cf5058168",
   "metadata": {},
   "outputs": [
    {
     "data": {
      "text/plain": [
       "25"
      ]
     },
     "execution_count": 117,
     "metadata": {},
     "output_type": "execute_result"
    }
   ],
   "source": [
    "sum(s5)"
   ]
  },
  {
   "cell_type": "code",
   "execution_count": 118,
   "id": "33f174b1-121d-43b1-86f0-ce690fa83809",
   "metadata": {},
   "outputs": [],
   "source": [
    "s5.add(1.4)"
   ]
  },
  {
   "cell_type": "code",
   "execution_count": 120,
   "id": "a0f887b3-359b-473d-a0a0-e6be409cccd2",
   "metadata": {},
   "outputs": [
    {
     "data": {
      "text/plain": [
       "26.4"
      ]
     },
     "execution_count": 120,
     "metadata": {},
     "output_type": "execute_result"
    }
   ],
   "source": [
    "sum(s5) #sum works only with int and float datatypes"
   ]
  },
  {
   "cell_type": "code",
   "execution_count": 122,
   "id": "a0ba5bd4-3e09-4c5f-a37e-c37226868141",
   "metadata": {},
   "outputs": [
    {
     "data": {
      "text/plain": [
       "7"
      ]
     },
     "execution_count": 122,
     "metadata": {},
     "output_type": "execute_result"
    }
   ],
   "source": [
    "max(s5) #returns the max value of the set"
   ]
  },
  {
   "cell_type": "code",
   "execution_count": 123,
   "id": "3ac1f334-3b6d-4e78-b291-06bd7ac18193",
   "metadata": {},
   "outputs": [
    {
     "data": {
      "text/plain": [
       "1.4"
      ]
     },
     "execution_count": 123,
     "metadata": {},
     "output_type": "execute_result"
    }
   ],
   "source": [
    "min(s5) #returns the min value of the set"
   ]
  },
  {
   "cell_type": "code",
   "execution_count": 126,
   "id": "101597f5-042b-4d9e-8d47-a9c78fc2de93",
   "metadata": {},
   "outputs": [
    {
     "data": {
      "text/plain": [
       "6"
      ]
     },
     "execution_count": 126,
     "metadata": {},
     "output_type": "execute_result"
    }
   ],
   "source": [
    "len(s5)"
   ]
  },
  {
   "cell_type": "code",
   "execution_count": 127,
   "id": "bd4d30fa-ddda-4aaa-bf3c-3e5054280b14",
   "metadata": {},
   "outputs": [],
   "source": [
    "s5.add(3)"
   ]
  },
  {
   "cell_type": "code",
   "execution_count": 128,
   "id": "0e1bcb0f-a3b4-4eef-8ab5-075bdc3bf124",
   "metadata": {},
   "outputs": [
    {
     "data": {
      "text/plain": [
       "{1.4, 3, 4, 5, 6, 7}"
      ]
     },
     "execution_count": 128,
     "metadata": {},
     "output_type": "execute_result"
    }
   ],
   "source": [
    "s5"
   ]
  },
  {
   "cell_type": "code",
   "execution_count": 129,
   "id": "7ed7a281-de38-4cde-9e70-e603e570e78a",
   "metadata": {},
   "outputs": [],
   "source": [
    "s5.add(2)"
   ]
  },
  {
   "cell_type": "code",
   "execution_count": 130,
   "id": "dda12603-f573-4cba-b19b-ff09e8af8593",
   "metadata": {},
   "outputs": [
    {
     "data": {
      "text/plain": [
       "{1.4, 2, 3, 4, 5, 6, 7}"
      ]
     },
     "execution_count": 130,
     "metadata": {},
     "output_type": "execute_result"
    }
   ],
   "source": [
    "s5"
   ]
  },
  {
   "cell_type": "code",
   "execution_count": 131,
   "id": "a2f5794e-bbb3-40a1-8554-e37feab7177e",
   "metadata": {},
   "outputs": [
    {
     "data": {
      "text/plain": [
       "[1.4, 2, 3, 4, 5, 6, 7]"
      ]
     },
     "execution_count": 131,
     "metadata": {},
     "output_type": "execute_result"
    }
   ],
   "source": [
    "sorted(s5)"
   ]
  },
  {
   "cell_type": "code",
   "execution_count": 133,
   "id": "37358f7d-27d5-4953-bb31-faad97a2fb9e",
   "metadata": {},
   "outputs": [
    {
     "data": {
      "text/plain": [
       "[7, 6, 5, 4, 3, 2, 1.4]"
      ]
     },
     "execution_count": 133,
     "metadata": {},
     "output_type": "execute_result"
    }
   ],
   "source": [
    "sorted(s5, reverse=True) #reverses the elements of the set"
   ]
  },
  {
   "cell_type": "code",
   "execution_count": 134,
   "id": "8a048538-5e06-40ae-bac8-53653e477c85",
   "metadata": {},
   "outputs": [
    {
     "data": {
      "text/plain": [
       "{4, 5, 6, 7, 'one', 'three', 'two'}"
      ]
     },
     "execution_count": 134,
     "metadata": {},
     "output_type": "execute_result"
    }
   ],
   "source": [
    "s7"
   ]
  },
  {
   "cell_type": "code",
   "execution_count": 136,
   "id": "92a8add7-591e-4fe1-9ada-ea67a0402f19",
   "metadata": {},
   "outputs": [
    {
     "ename": "TypeError",
     "evalue": "'<' not supported between instances of 'str' and 'int'",
     "output_type": "error",
     "traceback": [
      "\u001b[1;31m---------------------------------------------------------------------------\u001b[0m",
      "\u001b[1;31mTypeError\u001b[0m                                 Traceback (most recent call last)",
      "Cell \u001b[1;32mIn[136], line 1\u001b[0m\n\u001b[1;32m----> 1\u001b[0m \u001b[38;5;28msorted\u001b[39m(s7)\n",
      "\u001b[1;31mTypeError\u001b[0m: '<' not supported between instances of 'str' and 'int'"
     ]
    }
   ],
   "source": [
    "sorted(s7)  # for sorting all the data types should be same"
   ]
  },
  {
   "cell_type": "code",
   "execution_count": 137,
   "id": "80173d7e-2cd3-4503-be98-2d326305a459",
   "metadata": {},
   "outputs": [
    {
     "data": {
      "text/plain": [
       "{'one', 'three', 'two'}"
      ]
     },
     "execution_count": 137,
     "metadata": {},
     "output_type": "execute_result"
    }
   ],
   "source": [
    "s6"
   ]
  },
  {
   "cell_type": "code",
   "execution_count": 138,
   "id": "09a89406-b019-4007-9652-27dea7863639",
   "metadata": {},
   "outputs": [
    {
     "data": {
      "text/plain": [
       "['one', 'three', 'two']"
      ]
     },
     "execution_count": 138,
     "metadata": {},
     "output_type": "execute_result"
    }
   ],
   "source": [
    "sorted(s6)"
   ]
  },
  {
   "cell_type": "code",
   "execution_count": null,
   "id": "7823a6b8-fbd0-4cee-be56-6f404a73f117",
   "metadata": {},
   "outputs": [],
   "source": []
  }
 ],
 "metadata": {
  "kernelspec": {
   "display_name": "Python [conda env:base] *",
   "language": "python",
   "name": "conda-base-py"
  },
  "language_info": {
   "codemirror_mode": {
    "name": "ipython",
    "version": 3
   },
   "file_extension": ".py",
   "mimetype": "text/x-python",
   "name": "python",
   "nbconvert_exporter": "python",
   "pygments_lexer": "ipython3",
   "version": "3.12.7"
  }
 },
 "nbformat": 4,
 "nbformat_minor": 5
}
